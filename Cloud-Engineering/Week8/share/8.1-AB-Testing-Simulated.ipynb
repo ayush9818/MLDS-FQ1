{
 "cells": [
  {
   "cell_type": "markdown",
   "id": "57609b8c-3d69-456e-8664-3aef10a79801",
   "metadata": {},
   "source": [
    "# A/B Testing \n",
    "\n",
    "## Simulated Click Data"
   ]
  },
  {
   "cell_type": "code",
   "execution_count": 1,
   "id": "2fae74ee-4f22-4f2c-80f2-866e49c75ba3",
   "metadata": {},
   "outputs": [],
   "source": [
    "import numpy as np\n",
    "import pandas as pd\n",
    "from scipy import stats\n",
    "from statsmodels.stats.proportion import proportions_ztest\n",
    "import matplotlib.pyplot as plt"
   ]
  },
  {
   "cell_type": "markdown",
   "id": "1f59f50c-4bb7-4112-99e6-0a862fc0ba18",
   "metadata": {},
   "source": [
    "### Scenario\n",
    "\n",
    "A marketing team is evaluating the effectiveness of a new call-to-action button on their website. They conducted an A/B test where the control group saw the current button and the treatment group saw the new button. The team collected click data from 1,000 users in each group and used a z-test for proportions to determine if the new button significantly increased click rates."
   ]
  },
  {
   "cell_type": "markdown",
   "id": "393c9970-d0c9-45d8-9240-cd331fcc03ee",
   "metadata": {},
   "source": [
    "### Experiment Parameters"
   ]
  },
  {
   "cell_type": "code",
   "execution_count": 2,
   "id": "12ec3c3b-7e99-41b7-8208-f449674b1b2c",
   "metadata": {},
   "outputs": [],
   "source": [
    "# Define parameters\n",
    "baseline_rate = 0.10  # Baseline conversion rate\n",
    "mde = 0.02            # Minimum detectable effect size\n",
    "alpha = 0.05          # Significance level\n",
    "power = 0.80          # Desired power\n",
    "n_simulations = 1000  # Number of simulations for Bayesian approach"
   ]
  },
  {
   "cell_type": "code",
   "execution_count": 3,
   "id": "d7e88ef2-f614-404c-8892-51f87d3262b5",
   "metadata": {},
   "outputs": [],
   "source": [
    "# Set random seed for reproducibility\n",
    "np.random.seed(42)\n",
    "\n",
    "#Sample size\n",
    "n = 1000\n",
    "\n",
    "# We will simulate click data for control and treatment groups\n",
    "# 1 indicates success (click), 0 indicates failure (no click)\n",
    "np.random.seed(42)\n",
    "control_clicks = np.random.binomial(1, 0.1, n)  # 10% success rate\n",
    "treatment_clicks = np.random.binomial(1, 0.12, n)  # 12% success rate"
   ]
  },
  {
   "cell_type": "markdown",
   "id": "f191e968-6353-4db4-88d2-9c60211adf75",
   "metadata": {},
   "source": [
    "### Visualize Data"
   ]
  },
  {
   "cell_type": "code",
   "execution_count": 4,
   "id": "ef746e1c-1413-4574-858d-d9d0c46cb2c2",
   "metadata": {},
   "outputs": [
    {
     "data": {
      "image/png": "[encoded data removed]",
      "text/plain": [
       "<Figure size 640x480 with 1 Axes>"
      ]
     },
     "metadata": {},
     "output_type": "display_data"
    }
   ],
   "source": [
    "# Visualize the data distributions\n",
    "\n",
    "# Calculate frequencies\n",
    "control_counts = np.bincount(control_clicks)\n",
    "treatment_counts = np.bincount(treatment_clicks)\n",
    "\n",
    "# Define the bar width and positions\n",
    "bar_width = 0.35\n",
    "indices = np.arange(len(control_counts))\n",
    "\n",
    "# Plot side-by-side bar plots\n",
    "plt.bar(indices, control_counts, bar_width, label='Control', color='blue')\n",
    "plt.bar(indices + bar_width, treatment_counts, bar_width, label='Treatment', color='orange')\n",
    "\n",
    "# Customize the plot\n",
    "plt.xticks(indices + bar_width / 2, ['No Click', 'Click'])\n",
    "plt.legend(loc='upper right')\n",
    "plt.title('Distribution of Clicks in Control and Treatment Groups')\n",
    "plt.xlabel('Outcome')\n",
    "plt.ylabel('Frequency')\n",
    "plt.show()"
   ]
  },
  {
   "cell_type": "markdown",
   "id": "c1d6dad1-a56c-4fab-829b-20e8808b2f80",
   "metadata": {},
   "source": [
    "### Required Sample Size\n",
    "\n",
    "- Frequentist Sample Size : Uses predefined formulas and is relatively straightforward, focusing on statistical significance and power.\n",
    "- Bayesian Sample Size : Often relies on simulation-based methods to determine the required sample size based on posterior probabilities and credible intervals, providing a more flexible and probabilistic framework."
   ]
  },
  {
   "cell_type": "code",
   "execution_count": 5,
   "id": "73557326-e137-4958-868b-57b8f806b0c9",
   "metadata": {},
   "outputs": [],
   "source": [
    "# Function to calculate sample size\n",
    "def calculate_sample_size(baseline_rate, mde, alpha=0.05, power=0.80):\n",
    "    p1 = baseline_rate\n",
    "    p2 = baseline_rate + mde\n",
    "    z_alpha = stats.norm.ppf(1 - alpha / 2)\n",
    "    z_beta = stats.norm.ppf(power)\n",
    "    n = ((z_alpha + z_beta) ** 2 * (p1 * (1 - p1) + p2 * (1 - p2))) / (mde ** 2)\n",
    "    return int(np.ceil(n))\n"
   ]
  },
  {
   "cell_type": "code",
   "execution_count": 6,
   "id": "647676d6-7890-4649-8e68-9b990086ab1b",
   "metadata": {},
   "outputs": [
    {
     "name": "stdout",
     "output_type": "stream",
     "text": [
      "MDE: 2.00%, Sample Size per Group: 3839\n"
     ]
    }
   ],
   "source": [
    "sample_size = calculate_sample_size(baseline_rate, mde, alpha, power)\n",
    "print(f\"MDE: {mde:.2%}, Sample Size per Group: {sample_size}\")"
   ]
  },
  {
   "cell_type": "markdown",
   "id": "d3133203-df14-4f0d-af2c-a1bb3e3cf402",
   "metadata": {},
   "source": [
    "### Effect Size\n",
    "\n",
    "The magnitude of the difference between two groups, indicating the practical significance of that difference. The choice of priors can significantly affect the results, especially when the sample size is small. With more data, the influence of the prior diminishes, and the posterior distribution is dominated by the likelihood (i.e., the observed data)."
   ]
  },
  {
   "cell_type": "code",
   "execution_count": 7,
   "id": "9ac8e9fe-ec4f-4609-9b22-4a9e280c34b7",
   "metadata": {},
   "outputs": [
    {
     "name": "stdout",
     "output_type": "stream",
     "text": [
      "Absolute Difference: 0.0120\n",
      "Relative Difference: 12.00%\n",
      "Odds Ratio: 1.1351\n",
      "Conversion Rate Lift: 12.00%\n"
     ]
    }
   ],
   "source": [
    "# Calculate proportions\n",
    "p_c = np.mean(control_clicks)\n",
    "p_t = np.mean(treatment_clicks)\n",
    "\n",
    "# Absolute Difference\n",
    "absolute_diff = p_t - p_c\n",
    "print(f\"Absolute Difference: {absolute_diff:.4f}\")\n",
    "\n",
    "# Relative Difference (Percentage Change)\n",
    "relative_diff = (absolute_diff / p_c) * 100\n",
    "print(f\"Relative Difference: {relative_diff:.2f}%\")\n",
    "\n",
    "# Odds Ratio\n",
    "odds_control = p_c / (1 - p_c)\n",
    "odds_treatment = p_t / (1 - p_t)\n",
    "odds_ratio = odds_treatment / odds_control\n",
    "print(f\"Odds Ratio: {odds_ratio:.4f}\")\n",
    "\n",
    "# Conversion Rate Lift\n",
    "conversion_lift = (p_t - p_c) / p_c * 100\n",
    "print(f\"Conversion Rate Lift: {conversion_lift:.2f}%\")"
   ]
  },
  {
   "cell_type": "markdown",
   "id": "83c97b48-e809-4661-a269-9a1d4bc69dd9",
   "metadata": {},
   "source": [
    "### Significance Testing \n",
    "\n",
    "For the analysis of binary outcome data, tests like the z-test for proportions and chi-square test are appropriate and take into account the nature of the data.\n",
    "\n",
    "- t-test: Determines if there is a significant difference between the means of two groups.\n",
    "- Mann-Whitney U Test: Non-parametric test used when the data does not follow a normal distribution.\n",
    "- Chi-square Test: Tests for independence between two categorical variables.\n",
    "- Z-test for Proportions:Tests the difference between two population proportions."
   ]
  },
  {
   "cell_type": "code",
   "execution_count": 14,
   "id": "b4fdb4f9-e8fd-41b7-b8d9-64259956946d",
   "metadata": {},
   "outputs": [
    {
     "name": "stdout",
     "output_type": "stream",
     "text": [
      "A/A Test: z-statistic: 0.000, p-value: 1.000\n"
     ]
    }
   ],
   "source": [
    "## A/A Testing\n",
    "\n",
    "# Perform z-test for proportions (as used in A/B testing)\n",
    "success_A1 = np.sum(control_clicks)\n",
    "success_A2 = np.sum(control_clicks)\n",
    "count = np.array([success_A1, success_A2])\n",
    "nobs = np.array([n, n])\n",
    "z_stat, p_value = proportions_ztest(count, nobs)\n",
    "print(f\"A/A Test: z-statistic: {z_stat:.3f}, p-value: {p_value:.3f}\")"
   ]
  },
  {
   "cell_type": "code",
   "execution_count": 8,
   "id": "67ac84fb-8b39-4ec1-8f5d-4e28502bc95d",
   "metadata": {},
   "outputs": [
    {
     "name": "stdout",
     "output_type": "stream",
     "text": [
      "t-test: t-statistic: -0.871, p-value: 0.384\n",
      "Mann-Whitney U test: U-statistic: 494000.000, p-value: 0.384\n",
      "\n",
      "Contingency Table:\n",
      "Treatment    0    1\n",
      "Control            \n",
      "0          799  101\n",
      "1           89   11\n",
      "\n",
      "Chi-square test: chi2-statistic: 0.000, p-value: 1.000, degrees of freedom: 1\n",
      "Expected Frequencies:\n",
      "[[799.2 100.8]\n",
      " [ 88.8  11.2]]\n",
      "\n",
      "Z-test for proportions: z-statistic: -0.872, p-value: 0.383\n",
      "\n",
      "Interpretation:\n",
      "t-test: Fail to reject the null hypothesis: There is no significant difference between control and treatment groups.\n",
      "Mann-Whitney U test: Fail to reject the null hypothesis: There is no significant difference between control and treatment groups.\n",
      "Chi-square test: Fail to reject the null hypothesis: There is no significant association between control and treatment groups.\n",
      "Z-test for proportions: Fail to reject the null hypothesis: There is no significant difference in proportions between control and treatment groups.\n"
     ]
    }
   ],
   "source": [
    "# Create dataframes for control and treatment groups\n",
    "control = pd.DataFrame({'click': control_clicks})\n",
    "treatment = pd.DataFrame({'click': treatment_clicks})\n",
    "\n",
    "# Perform t-test\n",
    "t_stat, p_value_ttest = stats.ttest_ind(control_clicks, treatment_clicks)\n",
    "print(f\"t-test: t-statistic: {t_stat:.3f}, p-value: {p_value_ttest:.3f}\")\n",
    "\n",
    "# Perform Mann-Whitney U test (non-parametric test)\n",
    "u_stat, p_value_mannwhitney = stats.mannwhitneyu(control_clicks, treatment_clicks)\n",
    "print(f\"Mann-Whitney U test: U-statistic: {u_stat:.3f}, p-value: {p_value_mannwhitney:.3f}\")\n",
    "\n",
    "# Create a contingency table for chi-square test\n",
    "contingency_table = pd.crosstab(control_clicks, treatment_clicks, rownames=['Control'], colnames=['Treatment'])\n",
    "print(\"\\nContingency Table:\")\n",
    "print(contingency_table)\n",
    "\n",
    "# Perform chi-square test\n",
    "chi2_stat, p_value_chi2, dof, expected = stats.chi2_contingency(contingency_table)\n",
    "print(f\"\\nChi-square test: chi2-statistic: {chi2_stat:.3f}, p-value: {p_value_chi2:.3f}, degrees of freedom: {dof}\")\n",
    "print(\"Expected Frequencies:\")\n",
    "print(expected)\n",
    "\n",
    "# Perform z-test for proportions (most appropriate)\n",
    "control_success = np.sum(control_clicks)\n",
    "treatment_success = np.sum(treatment_clicks)\n",
    "n_control = len(control_clicks)\n",
    "n_treatment = len(treatment_clicks)\n",
    "\n",
    "count = np.array([control_success, treatment_success])\n",
    "nobs = np.array([n_control, n_treatment])\n",
    "z_stat, p_value_ztest = proportions_ztest(count, nobs)\n",
    "print(f\"\\nZ-test for proportions: z-statistic: {z_stat:.3f}, p-value: {p_value_ztest:.3f}\")\n",
    "\n",
    "# Interpretation\n",
    "alpha = 0.05\n",
    "print(\"\\nInterpretation:\")\n",
    "if p_value_ttest < alpha:\n",
    "    print(\"t-test: Reject the null hypothesis: There is a significant difference between control and treatment groups.\")\n",
    "else:\n",
    "    print(\"t-test: Fail to reject the null hypothesis: There is no significant difference between control and treatment groups.\")\n",
    "\n",
    "if p_value_mannwhitney < alpha:\n",
    "    print(\"Mann-Whitney U test: Reject the null hypothesis: There is a significant difference between control and treatment groups.\")\n",
    "else:\n",
    "    print(\"Mann-Whitney U test: Fail to reject the null hypothesis: There is no significant difference between control and treatment groups.\")\n",
    "\n",
    "if p_value_chi2 < alpha:\n",
    "    print(\"Chi-square test: Reject the null hypothesis: There is a significant association between control and treatment groups.\")\n",
    "else:\n",
    "    print(\"Chi-square test: Fail to reject the null hypothesis: There is no significant association between control and treatment groups.\")\n",
    "\n",
    "if p_value_ztest < alpha:\n",
    "    print(\"Z-test for proportions: Reject the null hypothesis: There is a significant difference in proportions between control and treatment groups.\")\n",
    "else:\n",
    "    print(\"Z-test for proportions: Fail to reject the null hypothesis: There is no significant difference in proportions between control and treatment groups.\")"
   ]
  },
  {
   "cell_type": "markdown",
   "id": "ee9694b6-b794-4be5-b351-cc00040f2d09",
   "metadata": {},
   "source": [
    "## Bayesian Appraoch\n",
    "\n",
    "Instead of focusing on p-values and statistical significance, Bayesian methods estimate the posterior distributions of conversion rates and allow for direct probability statements about the difference between groups.\n",
    "\n",
    "The Beta distribution is a conjugate prior for the binomial likelihood. This means that if the prior distribution of a parameter is Beta and the likelihood function is binomial, the posterior distribution will also be a Beta distribution"
   ]
  },
  {
   "cell_type": "code",
   "execution_count": 9,
   "id": "6066f66f-f140-47e6-ad89-1393af4f64d1",
   "metadata": {},
   "outputs": [],
   "source": [
    "#!pip install pymc"
   ]
  },
  {
   "cell_type": "code",
   "execution_count": 10,
   "id": "4e0a12b6-b880-4235-abd0-fdc9afff4f3d",
   "metadata": {},
   "outputs": [
    {
     "name": "stderr",
     "output_type": "stream",
     "text": [
      "Auto-assigning NUTS sampler...\n",
      "Initializing NUTS using jitter+adapt_diag...\n",
      "Multiprocess sampling (4 chains in 4 jobs)\n",
      "NUTS: [control_rate, treatment_rate]\n"
     ]
    },
    {
     "data": {
      "application/vnd.jupyter.widget-view+json": {
       "model_id": "0f0f6037fddb42dca558682828b222ce",
       "version_major": 2,
       "version_minor": 0
      },
      "text/plain": [
       "Output()"
      ]
     },
     "metadata": {},
     "output_type": "display_data"
    }
   ],
   "source": [
    "import pymc as pm\n",
    "import arviz as az\n",
    "\n",
    "# Count successes and failures\n",
    "control_success = np.sum(control_clicks)\n",
    "treatment_success = np.sum(treatment_clicks)\n",
    "control_failures = len(control_clicks) - control_success\n",
    "treatment_failures = len(treatment_clicks) - treatment_success\n",
    "\n",
    "# Bayesian A/B testing with PyMC3\n",
    "with pm.Model() as model:\n",
    "    # Priors for conversion rates\n",
    "    prior_alpha = 1 #uninformative prior\n",
    "    prior_beta = 1 #uninformative prior\n",
    "    \n",
    "    control_rate = pm.Beta('control_rate', alpha=prior_alpha, beta=prior_beta)\n",
    "    treatment_rate = pm.Beta('treatment_rate', alpha=prior_alpha, beta=prior_beta)\n",
    "    \n",
    "    # Likelihood\n",
    "    control_likelihood = pm.Binomial('control_likelihood', n=len(control_clicks), p=control_rate, observed=control_success)\n",
    "    treatment_likelihood = pm.Binomial('treatment_likelihood', n=len(treatment_clicks), p=treatment_rate, observed=treatment_success)\n",
    "    \n",
    "    # Posterior samples\n",
    "    trace = pm.sample(2000, return_inferencedata=False)\n",
    "\n",
    "# Posterior distribution plots\n",
    "with model:\n",
    "    pm.plot_posterior(trace, var_names=['control_rate', 'treatment_rate'], hdi_prob=0.95)\n",
    "    plt.show()"
   ]
  },
  {
   "cell_type": "code",
   "execution_count": 11,
   "id": "2d62624d-a2ec-4eee-b423-1666a630b73b",
   "metadata": {},
   "outputs": [
    {
     "name": "stdout",
     "output_type": "stream",
     "text": [
      "Probability that treatment rate is greater than control rate: 0.823\n"
     ]
    },
    {
     "data": {
      "image/png": "[encoded data removed]",
      "text/plain": [
       "<Figure size 640x480 with 1 Axes>"
      ]
     },
     "metadata": {},
     "output_type": "display_data"
    }
   ],
   "source": [
    "# Probability that treatment rate is greater than control rate\n",
    "prob_treatment_better = np.mean(trace['treatment_rate'] > trace['control_rate'])\n",
    "print(f\"Probability that treatment rate is greater than control rate: {prob_treatment_better:.3f}\")\n",
    "\n",
    "# Plot the difference in conversion rates\n",
    "diff = trace['treatment_rate'] - trace['control_rate']\n",
    "plt.hist(diff, bins=50, density=True, alpha=0.75)\n",
    "plt.axvline(0, color='red', linestyle='--')\n",
    "plt.title('Posterior Distribution of the Difference in Conversion Rates')\n",
    "plt.xlabel('Difference in Conversion Rates')\n",
    "plt.ylabel('Density')\n",
    "plt.show()"
   ]
  },
  {
   "cell_type": "markdown",
   "id": "7ddd50cc-8ed5-4ec4-bce0-3fe1e608fdbc",
   "metadata": {},
   "source": [
    "### Plot \n",
    "- The red dashed line at x = 0 represents the point where there is no difference in conversion rates between the treatment and control groups.\n",
    "- Left of Red Line (Negative Differences): Control group performs better than the treatment group.\n",
    "- Right of Red Line (Positive Differences): Treatment group performs better than the control group.\n",
    "    \n",
    "### Conclusion:\n",
    "\n",
    "The majority of the posterior distribution lies to the right of zero, suggesting that the treatment group generally has a higher conversion rate than the control group. \n",
    "The distribution is centered around a positive value, reinforcing the likelihood that the treatment has a positive effect.\n",
    "There is an 82.3% probability that the conversion rate of the treatment group is higher than that of the control group based on the posterior distribution."
   ]
  },
  {
   "cell_type": "code",
   "execution_count": null,
   "id": "496ba745-7cd7-4e3b-ab50-17b1edd44866",
   "metadata": {},
   "outputs": [],
   "source": []
  }
 ],
 "metadata": {
  "kernelspec": {
   "display_name": "Python 3 (ipykernel)",
   "language": "python",
   "name": "python3"
  },
  "language_info": {
   "codemirror_mode": {
    "name": "ipython",
    "version": 3
   },
   "file_extension": ".py",
   "mimetype": "text/x-python",
   "name": "python",
   "nbconvert_exporter": "python",
   "pygments_lexer": "ipython3",
   "version": "3.11.6"
  }
 },
 "nbformat": 4,
 "nbformat_minor": 5
}

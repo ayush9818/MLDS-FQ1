{
 "cells": [
  {
   "cell_type": "code",
   "execution_count": null,
   "id": "41081aa1",
   "metadata": {},
   "outputs": [],
   "source": [
    "import sys\n",
    "sys.executable"
   ]
  },
  {
   "cell_type": "code",
   "execution_count": null,
   "id": "10ba0b63",
   "metadata": {},
   "outputs": [],
   "source": [
    "import os\n",
    "import csv\n",
    "\n",
    "import boto3"
   ]
  },
  {
   "cell_type": "code",
   "execution_count": null,
   "id": "9a2b664c",
   "metadata": {},
   "outputs": [],
   "source": [
    "bucket_name = os.getenv(\"BUCKET_NAME\", \"smf2659-test-1\")\n",
    "file_name = \"data.csv\""
   ]
  },
  {
   "cell_type": "code",
   "execution_count": null,
   "id": "ebb5a0dc",
   "metadata": {},
   "outputs": [],
   "source": [
    "data = [\n",
    "    [\"name\", \"favorite_food\", \"favorite_color\"],\n",
    "    [\"Michael\", \"burrito\", \"green\"],\n",
    "    [\"Kiana\", \"cookie\", \"blue\"],\n",
    "]\n"
   ]
  },
  {
   "cell_type": "code",
   "execution_count": null,
   "id": "979f63f1",
   "metadata": {},
   "outputs": [],
   "source": [
    "with open(file_name, \"w\") as f:\n",
    "    writer = csv.writer(f)\n",
    "    writer.writerows(data)"
   ]
  },
  {
   "cell_type": "code",
   "execution_count": null,
   "id": "5c1cc7c8",
   "metadata": {},
   "outputs": [],
   "source": [
    "!cat data.csv"
   ]
  },
  {
   "cell_type": "code",
   "execution_count": null,
   "id": "659a1073",
   "metadata": {},
   "outputs": [],
   "source": [
    "s3 = boto3.client(\"s3\")"
   ]
  },
  {
   "cell_type": "code",
   "execution_count": null,
   "id": "a7a61b22",
   "metadata": {},
   "outputs": [],
   "source": [
    "boto3.client(\"sts\").get_caller_identity()"
   ]
  },
  {
   "cell_type": "code",
   "execution_count": null,
   "id": "7c4740c2",
   "metadata": {},
   "outputs": [],
   "source": [
    "# Upload the file to S3\n",
    "s3.upload_file(Filename=file_name, Bucket=bucket_name, Key=file_name)"
   ]
  },
  {
   "cell_type": "markdown",
   "id": "ad6eba17",
   "metadata": {},
   "source": [
    "NOTE: we are not able to upload the file to S3 because our AWS credentials are set for a specific, named profile. We can either set our default profile using the `AWS_DEFAULT_PROFILE` environment variable as seen in the IAM tutorial, **or** we can use a specific profile for this boto3 session. You can read more about how AWS credentials are set in boto3 [in the docs, here](https://boto3.amazonaws.com/v1/documentation/api/latest/guide/credentials.html)"
   ]
  },
  {
   "cell_type": "code",
   "execution_count": null,
   "id": "d3cefb06",
   "metadata": {},
   "outputs": [],
   "source": [
    "session = boto3.Session(profile_name=\"nu-prof-admin\")\n",
    "s3 = session.client(\"s3\")"
   ]
  },
  {
   "cell_type": "code",
   "execution_count": null,
   "id": "d78329b6",
   "metadata": {},
   "outputs": [],
   "source": [
    "session.client(\"sts\").get_caller_identity()"
   ]
  },
  {
   "cell_type": "code",
   "execution_count": null,
   "id": "8c2f215b",
   "metadata": {},
   "outputs": [],
   "source": [
    "# Upload the file to S3\n",
    "s3.upload_file(Filename=file_name, Bucket=bucket_name, Key=file_name)"
   ]
  },
  {
   "cell_type": "code",
   "execution_count": null,
   "id": "7cc6b933",
   "metadata": {},
   "outputs": [],
   "source": [
    "!ls"
   ]
  },
  {
   "cell_type": "code",
   "execution_count": null,
   "id": "f5ff7b68",
   "metadata": {},
   "outputs": [],
   "source": [
    "# Download the file from S3\n",
    "s3.download_file(Bucket=bucket_name, Key=file_name, Filename=\"downloaded-file.csv\")"
   ]
  },
  {
   "cell_type": "code",
   "execution_count": null,
   "id": "676181b7",
   "metadata": {},
   "outputs": [],
   "source": [
    "!ls"
   ]
  },
  {
   "cell_type": "code",
   "execution_count": null,
   "id": "244c2cea",
   "metadata": {},
   "outputs": [],
   "source": [
    "!cat downloaded-file.csv"
   ]
  },
  {
   "cell_type": "code",
   "execution_count": null,
   "id": "6ae31bd0",
   "metadata": {},
   "outputs": [],
   "source": []
  }
 ],
 "metadata": {
  "kernelspec": {
   "display_name": "Python 3 (ipykernel)",
   "language": "python",
   "name": "python3"
  },
  "language_info": {
   "codemirror_mode": {
    "name": "ipython",
    "version": 3
   },
   "file_extension": ".py",
   "mimetype": "text/x-python",
   "name": "python",
   "nbconvert_exporter": "python",
   "pygments_lexer": "ipython3",
   "version": "3.11.4"
  }
 },
 "nbformat": 4,
 "nbformat_minor": 5
}

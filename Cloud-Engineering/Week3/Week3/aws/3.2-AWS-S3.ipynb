{
 "cells": [
  {
   "cell_type": "markdown",
   "id": "62bb6cd5-f4f9-4b19-8651-4db5eae2ac34",
   "metadata": {},
   "source": [
    "# AWS S3 Access"
   ]
  },
  {
   "cell_type": "code",
   "execution_count": 1,
   "id": "d7e8f42c-b1ba-4cd5-b740-a3cc9e641b36",
   "metadata": {},
   "outputs": [],
   "source": [
    "import boto3\n",
    "\n",
    "# Create a session using a specific profile\n",
    "session = boto3.Session(profile_name='default')\n",
    "\n",
    "# Access the credentials\n",
    "credentials = session.get_credentials()\n",
    "\n",
    "# Access the access key ID and secret access key\n",
    "aws_access_key_id = credentials.access_key\n",
    "aws_secret_access_key = credentials.secret_key\n",
    "region_name = 'us-east-1'\n",
    "\n",
    "#print(aws_access_key_id)"
   ]
  },
  {
   "cell_type": "code",
   "execution_count": 2,
   "id": "20d01da3-621b-4cb6-a242-3ff58f0c3ed2",
   "metadata": {},
   "outputs": [],
   "source": [
    "# Create S3 client\n",
    "s3 = boto3.client('s3', aws_access_key_id=aws_access_key_id,\n",
    "                  aws_secret_access_key=aws_secret_access_key,\n",
    "                  region_name=region_name)"
   ]
  },
  {
   "cell_type": "code",
   "execution_count": 3,
   "id": "b97d8bcf-7bc7-4625-bfb2-06210a26867a",
   "metadata": {},
   "outputs": [
    {
     "name": "stdout",
     "output_type": "stream",
     "text": [
      "List of files:\n",
      "Country-data.csv\n",
      "countries-lat-long.csv\n",
      "\n",
      "Downloading file: Country-data.csv\n",
      "\n",
      "Uploading file: countries-lat-long.csv to key: countries-lat-long.csv\n",
      "\n",
      "List of files after upload:\n",
      "Country-data.csv\n",
      "countries-lat-long.csv\n"
     ]
    }
   ],
   "source": [
    "# Bucket name\n",
    "bucket_name = 'cloud-engg-bucket'\n",
    "\n",
    "def list_files():\n",
    "    response = s3.list_objects_v2(Bucket=bucket_name)\n",
    "    for obj in response['Contents']:\n",
    "        print(obj['Key'])\n",
    "\n",
    "def download_file(file_key, local_file_path):\n",
    "    s3.download_file(bucket_name, file_key, local_file_path)\n",
    "\n",
    "def upload_file(local_file_path, file_key):\n",
    "    s3.upload_file(local_file_path, bucket_name, file_key)\n",
    "\n",
    "# List of files\n",
    "print(\"List of files:\")\n",
    "list_files()\n",
    "\n",
    "# file key\n",
    "file_key = 'data/Country-data.csv'\n",
    "local_file_path = 'Country-data.csv'\n",
    "\n",
    "print(\"\\nDownloading file:\", file_key)\n",
    "download_file(file_key, local_file_path)\n",
    "\n",
    "# file key\n",
    "file_key = 'data/countries-lat-long.csv'\n",
    "local_file_path = 'countries-lat-long.csv'\n",
    "\n",
    "print(\"\\nUploading file:\", local_file_path, \"to key:\", file_key)\n",
    "upload_file(local_file_path, file_key)\n",
    "\n",
    "print(\"\\nList of files after upload:\")\n",
    "list_files()"
   ]
  },
  {
   "cell_type": "code",
   "execution_count": null,
   "id": "39a84de2-d3bb-4c40-be30-b9fd1a01cb85",
   "metadata": {},
   "outputs": [],
   "source": []
  }
 ],
 "metadata": {
  "kernelspec": {
   "display_name": "Python 3 (ipykernel)",
   "language": "python",
   "name": "python3"
  },
  "language_info": {
   "codemirror_mode": {
    "name": "ipython",
    "version": 3
   },
   "file_extension": ".py",
   "mimetype": "text/x-python",
   "name": "python",
   "nbconvert_exporter": "python",
   "pygments_lexer": "ipython3",
   "version": "3.11.6"
  }
 },
 "nbformat": 4,
 "nbformat_minor": 5
}

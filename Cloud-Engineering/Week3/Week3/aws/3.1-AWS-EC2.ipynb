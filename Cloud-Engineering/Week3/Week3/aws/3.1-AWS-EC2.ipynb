{
 "cells": [
  {
   "cell_type": "markdown",
   "id": "d9954c6e-4f2d-4a8a-866a-05c2a0726e58",
   "metadata": {},
   "source": [
    "# AES EC2 Instances\n",
    "\n",
    "https://boto3.amazonaws.com/v1/documentation/api/1.20.5/reference/services/ec2.html"
   ]
  },
  {
   "cell_type": "code",
   "execution_count": null,
   "id": "e9568636-4b04-4c4c-b319-295432f906f9",
   "metadata": {},
   "outputs": [],
   "source": [
    "#!pip install boto3"
   ]
  },
  {
   "cell_type": "code",
   "execution_count": null,
   "id": "8751be14-f309-4cb5-8360-c2c516f36fbc",
   "metadata": {},
   "outputs": [],
   "source": [
    "import boto3\n",
    "\n",
    "# Create a session using a specific profile\n",
    "session = boto3.Session(profile_name='default')\n",
    "\n",
    "# Access the credentials\n",
    "credentials = session.get_credentials()\n",
    "\n",
    "# Access the access key ID and secret access key\n",
    "aws_access_key_id = credentials.access_key\n",
    "aws_secret_access_key = credentials.secret_key\n",
    "region_name = 'us-east-1'\n",
    "\n",
    "#print(aws_access_key_id)"
   ]
  },
  {
   "cell_type": "code",
   "execution_count": null,
   "id": "ac6bace2-3e17-4bf9-8867-53208e17bad6",
   "metadata": {},
   "outputs": [],
   "source": [
    "# Create S3 client\n",
    "ec2 = boto3.client('ec2', aws_access_key_id=aws_access_key_id,\n",
    "                  aws_secret_access_key=aws_secret_access_key,\n",
    "                  region_name=region_name)"
   ]
  },
  {
   "cell_type": "code",
   "execution_count": null,
   "id": "c2ba588a-3a9f-4b63-a4b2-8366863ede54",
   "metadata": {},
   "outputs": [],
   "source": [
    "ec2.describe_regions()"
   ]
  },
  {
   "cell_type": "code",
   "execution_count": null,
   "id": "8c99a949-7190-4f24-99a3-453f7290d341",
   "metadata": {},
   "outputs": [],
   "source": [
    "ec2.describe_vpcs()"
   ]
  },
  {
   "cell_type": "code",
   "execution_count": null,
   "id": "a1e5938e-b1f5-452f-a00d-2e489cc5fa25",
   "metadata": {},
   "outputs": [],
   "source": [
    "ec2.describe_instances()"
   ]
  },
  {
   "cell_type": "code",
   "execution_count": null,
   "id": "79c29c0c-3666-4802-8c4a-f67585da77b0",
   "metadata": {},
   "outputs": [],
   "source": []
  }
 ],
 "metadata": {
  "kernelspec": {
   "display_name": "Python 3 (ipykernel)",
   "language": "python",
   "name": "python3"
  },
  "language_info": {
   "codemirror_mode": {
    "name": "ipython",
    "version": 3
   },
   "file_extension": ".py",
   "mimetype": "text/x-python",
   "name": "python",
   "nbconvert_exporter": "python",
   "pygments_lexer": "ipython3",
   "version": "3.11.6"
  }
 },
 "nbformat": 4,
 "nbformat_minor": 5
}

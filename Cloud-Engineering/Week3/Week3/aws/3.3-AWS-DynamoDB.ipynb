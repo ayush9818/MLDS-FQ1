{
 "cells": [
  {
   "cell_type": "markdown",
   "id": "1dff95c6-9be9-42be-9b97-e4817d2911eb",
   "metadata": {},
   "source": [
    "# AWS DynamoDB\n",
    "\n",
    "- DynamoDB is a **fully managed NoSQL** database provided by AWS, offering automatic scalability without manual intervention.\n",
    "\n",
    "- Designed for **high availability and low-latency** performance, DynamoDB can handle millions of requests per second and scales horizontally to accommodate varying workloads.\n",
    "\n",
    "- Supports **flexible data models**, including structured, semi-structured, or unstructured data, along with different consistency options to meet application requirements. Features like secondary indexes, streams, and global tables enhance functionality and data access patterns.\n",
    "\n",
    "- In DynamoDB, a single table can hold multiple entities through the use of a composite primary key, which consists of a partition key and optionally a sort key.\n",
    "\n",
    "https://boto3.amazonaws.com/v1/documentation/api/1.20.5/reference/services/dynamodb.html\n"
   ]
  },
  {
   "cell_type": "code",
   "execution_count": null,
   "id": "3458b304-f6d9-4d12-9df8-52efb87c8897",
   "metadata": {},
   "outputs": [],
   "source": [
    "import boto3\n",
    "import pandas as pd\n",
    "import json\n",
    "import tempfile\n",
    "import os"
   ]
  },
  {
   "cell_type": "markdown",
   "id": "470680d6-8df0-4560-8966-1186dc2125a5",
   "metadata": {},
   "source": [
    "## Connections"
   ]
  },
  {
   "cell_type": "code",
   "execution_count": null,
   "id": "fa429182-c1f7-4659-baa9-72020577c490",
   "metadata": {},
   "outputs": [],
   "source": [
    "# Create a session using a specific profile\n",
    "session = boto3.Session(profile_name='default')\n",
    "\n",
    "# Access the credentials\n",
    "credentials = session.get_credentials()\n",
    "\n",
    "# Access the access key ID and secret access key\n",
    "aws_access_key_id = credentials.access_key\n",
    "aws_secret_access_key = credentials.secret_key\n",
    "region_name = 'us-east-1'\n",
    "\n",
    "#print(aws_access_key_id)"
   ]
  },
  {
   "cell_type": "code",
   "execution_count": null,
   "id": "88caa6fb-54ba-4a21-98ed-fcaa31dbdb70",
   "metadata": {},
   "outputs": [],
   "source": [
    "# Initialize DynamoDB client\n",
    "dynamodb = boto3.client('dynamodb', aws_access_key_id=aws_access_key_id,\n",
    "                  aws_secret_access_key=aws_secret_access_key,\n",
    "                  region_name=region_name)"
   ]
  },
  {
   "cell_type": "markdown",
   "id": "abba45f8-9c5f-4997-a1eb-045967b85c0f",
   "metadata": {},
   "source": [
    "## Create Table"
   ]
  },
  {
   "cell_type": "code",
   "execution_count": null,
   "id": "0be2763e-d61f-4541-a313-0d75ddd0d127",
   "metadata": {},
   "outputs": [],
   "source": [
    "#table name\n",
    "table_name = 'QuizData'\n",
    "\n",
    "# Create DynamoDB table\n",
    "table = dynamodb.create_table(\n",
    "    TableName=table_name,\n",
    "    KeySchema=[\n",
    "        {\n",
    "            'AttributeName': 'PK',\n",
    "            'KeyType': 'HASH'  # Partition key\n",
    "        },\n",
    "        {\n",
    "            'AttributeName': 'SK',\n",
    "            'KeyType': 'RANGE'  # Sort key\n",
    "        }\n",
    "    ],\n",
    "    AttributeDefinitions=[\n",
    "        {\n",
    "            'AttributeName': 'PK',\n",
    "            'AttributeType': 'S'\n",
    "        },\n",
    "        {\n",
    "            'AttributeName': 'SK',\n",
    "            'AttributeType': 'S'\n",
    "        }\n",
    "    ],\n",
    "    ProvisionedThroughput={\n",
    "        'ReadCapacityUnits': 5,\n",
    "        'WriteCapacityUnits': 5\n",
    "    }\n",
    ")\n",
    "\n",
    "# Wait until the table is created\n",
    "waiter = dynamodb.get_waiter('table_exists')\n",
    "waiter.wait(TableName='QuizData')\n",
    "\n",
    "print(f\"DynamoDB table '{table_name}' created successfully!\")"
   ]
  },
  {
   "cell_type": "markdown",
   "id": "89a2e6c5-f271-480d-9336-93c8949a39dd",
   "metadata": {},
   "source": [
    "## Insert Data"
   ]
  },
  {
   "cell_type": "code",
   "execution_count": null,
   "id": "d84a5ba6-ee58-4cd4-818f-eb0366d0c726",
   "metadata": {},
   "outputs": [],
   "source": [
    "# Initialize DynamoDB client\n",
    "dynamodb_resource = boto3.resource('dynamodb', aws_access_key_id=aws_access_key_id,\n",
    "                  aws_secret_access_key=aws_secret_access_key,\n",
    "                  region_name=region_name)"
   ]
  },
  {
   "cell_type": "code",
   "execution_count": null,
   "id": "2a735390-3cfa-4cbd-8b09-8403f1e346db",
   "metadata": {},
   "outputs": [],
   "source": [
    "# Initialize DynamoDB client\n",
    "table_name = 'QuizData'\n",
    "table = dynamodb_resource.Table(table_name)\n",
    "\n",
    "# Sample dummy data\n",
    "dummy_data = [\n",
    "    # Sample questions\n",
    "    {'PK': 'Question', 'SK': 'Question#1', 'Data': {'question_text': 'What is the capital of France?', 'options': ['Paris', 'London', 'Berlin', 'Madrid'], 'correct_answer': 'Paris'}},\n",
    "    {'PK': 'Question', 'SK': 'Question#2', 'Data': {'question_text': 'What is the capital of Germany?', 'options': ['Paris', 'London', 'Berlin', 'Madrid'], 'correct_answer': 'Berlin'}},\n",
    "    \n",
    "    # Sample answers\n",
    "    {'PK': 'Answer', 'SK': 'Answer#1', 'Data': {'question_id': '1', 'student_id': '1', 'selected_option': 'Paris'}},\n",
    "    {'PK': 'Answer', 'SK': 'Answer#2', 'Data': {'question_id': '2', 'student_id': '2', 'selected_option': 'Berlin'}},\n",
    "    \n",
    "    # Sample students\n",
    "    {'PK': 'Student', 'SK': 'Student#1', 'Data': {'name': 'John Doe', 'email': 'john@example.com', 'grade': '10'}},\n",
    "    {'PK': 'Student', 'SK': 'Student#2', 'Data': {'name': 'Jane Smith', 'email': 'jane@example.com', 'grade': '11'}},\n",
    "    \n",
    "    # Sample teachers\n",
    "    {'PK': 'Teacher', 'SK': 'Teacher#1', 'Data': {'name': 'Mr. Brown', 'email': 'brown@example.com', 'department': 'Mathematics'}},\n",
    "    {'PK': 'Teacher', 'SK': 'Teacher#2', 'Data': {'name': 'Ms. White', 'email': 'white@example.com', 'department': 'Science'}}\n",
    "]\n",
    "\n",
    "# Populate the table with dummy data\n",
    "for item in dummy_data:\n",
    "    table.put_item(Item=item)\n",
    "\n",
    "print(\"Dummy data inserted into DynamoDB table successfully!\")"
   ]
  },
  {
   "cell_type": "markdown",
   "id": "5c8d6f7e-67b5-49fe-9543-cbae159ed5b1",
   "metadata": {},
   "source": [
    "## Select Data\n",
    "\n",
    "Partition key (PK) is used for data distribution and scalability, while the sort key (SK) enables efficient querying and sorting of items within a partition. Together, they form the composite primary key structure that uniquely identifies items within a DynamoDB table. "
   ]
  },
  {
   "cell_type": "code",
   "execution_count": null,
   "id": "c8049a59-027b-4eaf-abc1-7909f6baa54c",
   "metadata": {},
   "outputs": [],
   "source": [
    "# Helper function to paginate through DynamoDB results\n",
    "def paginate_items():\n",
    "    paginator = dynamodb.get_paginator('scan')\n",
    "    for page in paginator.paginate(TableName=table_name):\n",
    "        yield from page['Items']\n",
    "\n",
    "try:\n",
    "    # Fetch all items from DynamoDB table\n",
    "    items = list(paginate_items())\n",
    "\n",
    "    # Convert items to DataFrame\n",
    "    df = pd.DataFrame(items)\n",
    "\n",
    "    # Convert DynamoDB types to native Python types\n",
    "    for column in df.columns:\n",
    "        df[column] = df[column].apply(lambda x: list(x.values())[0])\n",
    "\n",
    "    # Print DataFrame\n",
    "    print(df)\n",
    "\n",
    "except Exception as e:\n",
    "    print(\"Error:\", e)"
   ]
  }
 ],
 "metadata": {
  "kernelspec": {
   "display_name": "Python 3 (ipykernel)",
   "language": "python",
   "name": "python3"
  },
  "language_info": {
   "codemirror_mode": {
    "name": "ipython",
    "version": 3
   },
   "file_extension": ".py",
   "mimetype": "text/x-python",
   "name": "python",
   "nbconvert_exporter": "python",
   "pygments_lexer": "ipython3",
   "version": "3.11.6"
  }
 },
 "nbformat": 4,
 "nbformat_minor": 5
}

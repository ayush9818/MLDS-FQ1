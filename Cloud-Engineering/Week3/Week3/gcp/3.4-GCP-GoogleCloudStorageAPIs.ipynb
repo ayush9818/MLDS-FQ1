{
 "cells": [
  {
   "cell_type": "markdown",
   "metadata": {},
   "source": [
    "# Google Cloud Storage"
   ]
  },
  {
   "cell_type": "code",
   "execution_count": 1,
   "metadata": {},
   "outputs": [],
   "source": [
    "# !pip install --upgrade gcloud\n",
    "# !pip install --upgrade google-cloud-storage"
   ]
  },
  {
   "cell_type": "markdown",
   "metadata": {},
   "source": [
    "### Steps to connect to Google Cloud Storage from Python\n",
    "\n",
    "**1) Create Service Account** - Done\n",
    "\n",
    "Google Cloud Platform API authentication and authorization (commonly grouped together as \"auth\") is typically done using a service account. A service account allows your code to send application credentials directly to the Cloud API.\n",
    "        \n",
    "**2) Download credentials file** - Done\n",
    "    \n",
    "    Download JSON file from Google Cloud \n",
    "     \n",
    "**3) Set OS environment variable** \n",
    "    \n",
    "    GOOGLE_APPLICATION_CREDENTIALS to point to downloaded JSON file\n",
    "\n",
    "Reference:\n",
    "\n",
    "- https://cloud.google.com/video-intelligence/docs/common/auth\n",
    "- https://googleapis.github.io/google-cloud-python/latest/storage/client.html"
   ]
  },
  {
   "cell_type": "markdown",
   "metadata": {},
   "source": [
    "### Set environment variable"
   ]
  },
  {
   "cell_type": "code",
   "execution_count": 7,
   "metadata": {},
   "outputs": [
    {
     "name": "stdout",
     "output_type": "stream",
     "text": [
      "C:/Users/ashis/Downloads/bigdata-365900-abfb34d09815.json\n"
     ]
    }
   ],
   "source": [
    "#Method 1\n",
    "import sys,os,os.path\n",
    "print(os.environ['GOOGLE_APPLICATION_CREDENTIALS'])"
   ]
  },
  {
   "cell_type": "code",
   "execution_count": 6,
   "metadata": {},
   "outputs": [],
   "source": [
    "#Set Path Temporarily\n",
    "#Permanently path can be set only in bash_profile on Mac or Enviornment variables in Windows\n",
    "os.environ['GOOGLE_APPLICATION_CREDENTIALS'] = \"C:/Users/ashis/Downloads/bigdata-365900-abfb34d09815.json\""
   ]
  },
  {
   "cell_type": "markdown",
   "metadata": {},
   "source": [
    "### Check if variable has been set"
   ]
  },
  {
   "cell_type": "code",
   "execution_count": null,
   "metadata": {},
   "outputs": [],
   "source": [
    "#Method 2\n",
    "! echo %GOOGLE_APPLICATION_CREDENTIALS%\n",
    "#!echo $GOOGLE_APPLICATION_CREDENTIALS"
   ]
  },
  {
   "cell_type": "markdown",
   "metadata": {},
   "source": [
    "### GCP Storage APIs"
   ]
  },
  {
   "cell_type": "code",
   "execution_count": 8,
   "metadata": {},
   "outputs": [
    {
     "name": "stdout",
     "output_type": "stream",
     "text": [
      "<Bucket: ce-nw-apujari>\n",
      "<Bucket: dataproc-staging-us-central1-118756852502-kbucocmy>\n",
      "<Bucket: dataproc-temp-us-central1-118756852502-k8k9kozc>\n"
     ]
    }
   ],
   "source": [
    "# Imports the Google Cloud client library\n",
    "from google.cloud import storage\n",
    "\n",
    "# Instantiates a client\n",
    "client = storage.Client()\n",
    "\n",
    "# List Buckets\n",
    "for bucket in client.list_buckets():\n",
    "    print(bucket)"
   ]
  },
  {
   "cell_type": "code",
   "execution_count": 9,
   "metadata": {},
   "outputs": [
    {
     "name": "stdout",
     "output_type": "stream",
     "text": [
      "Bucket created.\n"
     ]
    }
   ],
   "source": [
    "# Creates a new bucket\n",
    "bucket2 = client.create_bucket(\"ce-nw-apujari-1\")\n",
    "print('Bucket created.')"
   ]
  },
  {
   "cell_type": "code",
   "execution_count": 10,
   "metadata": {},
   "outputs": [
    {
     "name": "stdout",
     "output_type": "stream",
     "text": [
      "Downloading earthquakes file with urllib2...\n"
     ]
    },
    {
     "data": {
      "text/plain": [
       "('all_week.csv', <http.client.HTTPMessage at 0x1f595c99df0>)"
      ]
     },
     "execution_count": 10,
     "metadata": {},
     "output_type": "execute_result"
    }
   ],
   "source": [
    "#Download file https://earthquake.usgs.gov/earthquakes/feed/v1.0/summary/all_week.csv\n",
    "import urllib.request\n",
    "print(\"Downloading earthquakes file with urllib2...\")\n",
    "url = 'https://earthquake.usgs.gov/earthquakes/feed/v1.0/summary/all_week.csv'  \n",
    "urllib.request.urlretrieve(url, 'all_week.csv')  "
   ]
  },
  {
   "cell_type": "code",
   "execution_count": 11,
   "metadata": {},
   "outputs": [],
   "source": [
    "# Upload File to the bucket \n",
    "blob = bucket2.blob(\"earthquake\")\n",
    "blob.upload_from_filename(\"all_week.csv\")"
   ]
  },
  {
   "cell_type": "markdown",
   "metadata": {},
   "source": [
    "Verify downloaded file has been uploaded to Cloud Storage bucket"
   ]
  }
 ],
 "metadata": {
  "kernelspec": {
   "display_name": "Python 3 (ipykernel)",
   "language": "python",
   "name": "python3"
  },
  "language_info": {
   "codemirror_mode": {
    "name": "ipython",
    "version": 3
   },
   "file_extension": ".py",
   "mimetype": "text/x-python",
   "name": "python",
   "nbconvert_exporter": "python",
   "pygments_lexer": "ipython3",
   "version": "3.11.6"
  }
 },
 "nbformat": 4,
 "nbformat_minor": 4
}

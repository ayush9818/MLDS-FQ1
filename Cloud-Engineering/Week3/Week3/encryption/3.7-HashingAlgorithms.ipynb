{
 "cells": [
  {
   "cell_type": "markdown",
   "metadata": {},
   "source": [
    "# Hashing Algorithms\n",
    "\n",
    "References: \n",
    "\n",
    "- https://docs.python.org/3.7/library/hashlib.html\n",
    "\n",
    "- https://www.pythoncentral.io/hashing-strings-with-python/"
   ]
  },
  {
   "cell_type": "code",
   "execution_count": 1,
   "metadata": {},
   "outputs": [],
   "source": [
    "import hashlib"
   ]
  },
  {
   "cell_type": "markdown",
   "metadata": {},
   "source": [
    "### Print the list of hashing libraries\n",
    "\n",
    "The algorithms_available method lists all the algorithms available in the system, including the ones available trough OpenSSl. In this case you may see duplicate names in the list. algorithms_guaranteed only lists the algorithms present in the module. md5, sha1, sha224, sha256, sha384, sha512 are always present."
   ]
  },
  {
   "cell_type": "code",
   "execution_count": 2,
   "metadata": {},
   "outputs": [
    {
     "name": "stdout",
     "output_type": "stream",
     "text": [
      "{'sha512_256', 'sha256', 'ripemd160', 'whirlpool', 'blake2s', 'sha384', 'sha3_224', 'sha512_224', 'md5-sha1', 'blake2b', 'sha3_384', 'sha3_512', 'md5', 'sha1', 'sha512', 'shake_256', 'md4', 'sha224', 'sm3', 'mdc2', 'shake_128', 'sha3_256'}\n",
      "{'sha3_512', 'md5', 'blake2s', 'sha1', 'sha384', 'sha512', 'sha3_224', 'blake2b', 'shake_128', 'shake_256', 'sha256', 'sha3_384', 'sha224', 'sha3_256'}\n"
     ]
    }
   ],
   "source": [
    "print(hashlib.algorithms_available)\n",
    "print(hashlib.algorithms_guaranteed)"
   ]
  },
  {
   "cell_type": "markdown",
   "metadata": {},
   "source": [
    "The code above takes the \"Hello World\" string and prints the HEX digest of that string. hexdigest returns a HEX string representing the hash, in case you need the sequence of bytes you should use digest instead.\n",
    "\n",
    "It is important to note the \"b\" preceding the string literal, this converts the string to bytes, because the hashing function only takes a sequence of bytes as a parameter. In previous versions of the library, it used to take a string literal. So, if you need to take some input from the console, and hash this input, do not forget to encode the string in a sequence of bytes:"
   ]
  },
  {
   "cell_type": "code",
   "execution_count": 3,
   "metadata": {},
   "outputs": [
    {
     "name": "stdout",
     "output_type": "stream",
     "text": [
      "b10a8db164e0754105b7a99be72e3fe5\n"
     ]
    }
   ],
   "source": [
    "hash_object = hashlib.md5(b'Hello World')\n",
    "print(hash_object.hexdigest())"
   ]
  },
  {
   "cell_type": "code",
   "execution_count": 4,
   "metadata": {},
   "outputs": [
    {
     "name": "stdout",
     "output_type": "stream",
     "text": [
      "3e25960a79dbc69b674cd4ec67a72c62\n"
     ]
    }
   ],
   "source": [
    "hash_object = hashlib.md5(b'Hello world')\n",
    "print(hash_object.hexdigest())"
   ]
  },
  {
   "cell_type": "code",
   "execution_count": 5,
   "metadata": {},
   "outputs": [
    {
     "name": "stdout",
     "output_type": "stream",
     "text": [
      "0cc175b9c0f1b6a831c399e269772661\n"
     ]
    }
   ],
   "source": [
    "hash_object = hashlib.md5(b'a')\n",
    "print(hash_object.hexdigest())"
   ]
  },
  {
   "cell_type": "code",
   "execution_count": 6,
   "metadata": {},
   "outputs": [
    {
     "name": "stdout",
     "output_type": "stream",
     "text": [
      "3935a6184c654e7a05a4e42c1fb17def\n"
     ]
    }
   ],
   "source": [
    "hash_object = hashlib.md5(b'b10a8db164e0754105b7a99be72e3fe5')\n",
    "print(hash_object.hexdigest())"
   ]
  },
  {
   "cell_type": "markdown",
   "metadata": {},
   "source": [
    "\n",
    "### SHA Family\n",
    "\n",
    "Secure Hash Algorithm (SHA) family, is a series of hashing algorithms. Ranging from SHA-0 to SHA-3. SHA-0 should never be used, it's advised to move from SHA-1 to SHA-2. SHA-3 is the most recent version, published in 2015.\n",
    "\n",
    "    SHA-1: Digest size (160), Block size (512)\n",
    "    SHA-2: Digest size (224, 256, 384, or 512), Block size (512, 1024)\n",
    "    SHA-3: Digest size (224, 256, 384, 512), Block size (1600)\n",
    "\n"
   ]
  },
  {
   "cell_type": "code",
   "execution_count": 7,
   "metadata": {},
   "outputs": [
    {
     "name": "stdout",
     "output_type": "stream",
     "text": [
      "0a4d55a8d778e5022fab701977c5d840bbc486d0\n"
     ]
    }
   ],
   "source": [
    "hash_object = hashlib.sha1(b'Hello World')\n",
    "hex_dig = hash_object.hexdigest()\n",
    "print(hex_dig)"
   ]
  },
  {
   "cell_type": "markdown",
   "metadata": {},
   "source": [
    "A sha256 is 256 bits long -- as its name indicates. If you are using an hexadecimal representation, each digit codes for 4 bits ; so you need 64 digits to represent 256 bits."
   ]
  },
  {
   "cell_type": "code",
   "execution_count": 8,
   "metadata": {},
   "outputs": [
    {
     "name": "stdout",
     "output_type": "stream",
     "text": [
      "68de2b3ad3d056b5351df9d9095aa0fad47a605c1343b40a137f173464e13020\n"
     ]
    }
   ],
   "source": [
    "hash_object = hashlib.sha256(b'bitcoin is by far the most popular cryptocurrency. ')\n",
    "print(hash_object.hexdigest())"
   ]
  },
  {
   "cell_type": "code",
   "execution_count": 9,
   "metadata": {},
   "outputs": [
    {
     "name": "stdout",
     "output_type": "stream",
     "text": [
      "f4bb1975bf1f81f76ce824f7536c1e101a8060a632a52289d530a6f600d52c92\n"
     ]
    }
   ],
   "source": [
    "hash_object = hashlib.sha256(b'Hello World.')\n",
    "print(hash_object.hexdigest())"
   ]
  },
  {
   "cell_type": "code",
   "execution_count": 10,
   "metadata": {},
   "outputs": [
    {
     "name": "stdout",
     "output_type": "stream",
     "text": [
      "2c74fd17edafd80e8447b0d46741ee243b7eb74dd2149a0ab1b9246fb30382f27e853d8585719e0e67cbda0daa8f51671064615d645ae27acb15bfb1447f459b\n"
     ]
    }
   ],
   "source": [
    "hash_object = hashlib.sha512(b'Hello World')\n",
    "hex_dig = hash_object.hexdigest()\n",
    "print(hex_dig)"
   ]
  },
  {
   "cell_type": "markdown",
   "metadata": {},
   "source": [
    "### Hash Mining"
   ]
  },
  {
   "cell_type": "code",
   "execution_count": 13,
   "metadata": {},
   "outputs": [
    {
     "name": "stdout",
     "output_type": "stream",
     "text": [
      "---- Nonce: 26064430\n"
     ]
    }
   ],
   "source": [
    "complete = False\n",
    "n = 0\n",
    "\n",
    "while complete == False:\n",
    "\tcurr_string = 'Hello World' + str(n)\n",
    "\tcurr_hash = hashlib.md5(curr_string.encode('utf-8')).hexdigest()\n",
    "\tn = n + 1\n",
    "    \n",
    "    #run then increase the number of 0s\n",
    "\tif curr_hash.startswith('000000'):\n",
    "\t\tcomplete = True\n",
    "\t#print (curr_string + \":\" + curr_hash) \n",
    "\n",
    "print (\"---- Nonce: \" + str(n))"
   ]
  },
  {
   "cell_type": "code",
   "execution_count": null,
   "metadata": {},
   "outputs": [],
   "source": [
    "print(curr_hash)"
   ]
  },
  {
   "cell_type": "code",
   "execution_count": null,
   "metadata": {},
   "outputs": [],
   "source": []
  }
 ],
 "metadata": {
  "kernelspec": {
   "display_name": "Python 3 (ipykernel)",
   "language": "python",
   "name": "python3"
  },
  "language_info": {
   "codemirror_mode": {
    "name": "ipython",
    "version": 3
   },
   "file_extension": ".py",
   "mimetype": "text/x-python",
   "name": "python",
   "nbconvert_exporter": "python",
   "pygments_lexer": "ipython3",
   "version": "3.9.16"
  }
 },
 "nbformat": 4,
 "nbformat_minor": 2
}

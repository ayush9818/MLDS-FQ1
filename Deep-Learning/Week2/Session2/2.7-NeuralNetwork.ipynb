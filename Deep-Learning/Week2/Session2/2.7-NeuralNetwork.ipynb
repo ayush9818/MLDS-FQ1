{
 "cells": [
  {
   "cell_type": "markdown",
   "id": "e774e6c1-1eed-4124-b94c-98aabff6ef39",
   "metadata": {},
   "source": [
    "# Neural Network\n",
    "\n",
    "2 layered neural network to predcit a logic gate"
   ]
  },
  {
   "cell_type": "code",
   "execution_count": 1,
   "id": "b47dc13b-5baf-4c83-b818-e2cc09abe817",
   "metadata": {},
   "outputs": [],
   "source": [
    "import numpy as np\n",
    "\n",
    "class NeuralNetwork:\n",
    "    def __init__(self, input_size, hidden_size, output_size):\n",
    "        self.input_size = input_size\n",
    "        self.hidden_size = hidden_size\n",
    "        self.output_size = output_size\n",
    "        \n",
    "        # Initialize weights and biases\n",
    "        self.weights_input_hidden = np.random.randn(self.input_size, self.hidden_size)\n",
    "        self.biases_input_hidden = np.zeros((1, self.hidden_size))\n",
    "        self.weights_hidden_output = np.random.randn(self.hidden_size, self.output_size)\n",
    "        self.biases_hidden_output = np.zeros((1, self.output_size))\n",
    "        \n",
    "    def sigmoid(self, x):\n",
    "        # Activation Function       \n",
    "        return 1 / (1 + np.exp(-x))\n",
    "    \n",
    "    def sigmoid_derivative(self, x):\n",
    "        # Derivative of Activation Function       \n",
    "        return x * (1 - x)\n",
    "    \n",
    "    def forward(self, X):\n",
    "        # Forward pass through the network\n",
    "        self.hidden_activation = self.sigmoid(np.dot(X, self.weights_input_hidden) + self.biases_input_hidden)\n",
    "        self.output = self.sigmoid(np.dot(self.hidden_activation, self.weights_hidden_output) + self.biases_hidden_output)\n",
    "        return self.output\n",
    "    \n",
    "    def backward(self, X, y, output):\n",
    "        # Backpropagation\n",
    "        error = y - output\n",
    "        output_delta = error * self.sigmoid_derivative(output)\n",
    "   \n",
    "        error_hidden = output_delta.dot(self.weights_hidden_output.T)\n",
    "        hidden_delta = error_hidden * self.sigmoid_derivative(self.hidden_activation)\n",
    "\n",
    "        # In the absence of an explicitly specified learning rate, the network's weights and biases \n",
    "        # are updated based on the gradients multiplied by a factor,\n",
    "         \n",
    "        # Update weights and biases\n",
    "        self.weights_hidden_output += self.hidden_activation.T.dot(output_delta)\n",
    "        self.biases_hidden_output += np.sum(output_delta, axis=0, keepdims=True)\n",
    "        self.weights_input_hidden += X.T.dot(hidden_delta)\n",
    "        self.biases_input_hidden += np.sum(hidden_delta, axis=0, keepdims=True)\n",
    "        \n",
    "    def train(self, X, y, epochs):\n",
    "        for epoch in range(epochs):\n",
    "            # Forward pass\n",
    "            output = self.forward(X)\n",
    "            \n",
    "            # Backward pass\n",
    "            self.backward(X, y, output)\n",
    "            \n",
    "            # Compute loss\n",
    "            loss = np.mean(np.square(y - output))\n",
    "            if epoch % 100 == 0:\n",
    "                print(f'Epoch {epoch}, Loss: {loss}')"
   ]
  },
  {
   "cell_type": "code",
   "execution_count": 2,
   "id": "16ce5c10-27c8-47de-a49b-2be58de4e737",
   "metadata": {},
   "outputs": [
    {
     "name": "stdout",
     "output_type": "stream",
     "text": [
      "Epoch 0, Loss: 0.3204288619510043\n",
      "Epoch 100, Loss: 0.198656633837421\n",
      "Epoch 200, Loss: 0.050807521581210706\n",
      "Epoch 300, Loss: 0.014865663053607193\n",
      "Epoch 400, Loss: 0.007678949091210972\n",
      "Epoch 500, Loss: 0.0049829852406003475\n",
      "Epoch 600, Loss: 0.0036255464460648954\n",
      "Epoch 700, Loss: 0.0028225829235788745\n",
      "Epoch 800, Loss: 0.0022972537325156553\n",
      "Epoch 900, Loss: 0.001929104618189354\n",
      "\n",
      "Predictions:\n",
      "[[0.04019066]\n",
      " [0.96055661]\n",
      " [0.95945354]\n",
      " [0.042622  ]]\n"
     ]
    }
   ],
   "source": [
    "# XOR Gate\n",
    "X = np.array([[0, 0], [0, 1], [1, 0], [1, 1]])  # Input data\n",
    "y = np.array([[0], [1], [1], [0]])             # Target output\n",
    "\n",
    "# Initialize and train the neural network\n",
    "nn = NeuralNetwork(input_size=2, hidden_size=4, output_size=1)\n",
    "nn.train(X, y, epochs=1000)\n",
    "\n",
    "# Predictions\n",
    "predictions = nn.forward(X)\n",
    "print(\"\\nPredictions:\")\n",
    "print(predictions)"
   ]
  },
  {
   "cell_type": "code",
   "execution_count": null,
   "id": "8d73d408-1f6f-4cf0-83e7-c6714164599a",
   "metadata": {},
   "outputs": [],
   "source": []
  }
 ],
 "metadata": {
  "kernelspec": {
   "display_name": "Python 3 (ipykernel)",
   "language": "python",
   "name": "python3"
  },
  "language_info": {
   "codemirror_mode": {
    "name": "ipython",
    "version": 3
   },
   "file_extension": ".py",
   "mimetype": "text/x-python",
   "name": "python",
   "nbconvert_exporter": "python",
   "pygments_lexer": "ipython3",
   "version": "3.11.6"
  }
 },
 "nbformat": 4,
 "nbformat_minor": 5
}

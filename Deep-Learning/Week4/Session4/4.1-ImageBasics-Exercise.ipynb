{
 "cells": [
  {
   "cell_type": "markdown",
   "metadata": {},
   "source": [
    "# Image Processing Basics\n",
    "\n",
    "### Read,  Display and Edit images, Plot Histograms"
   ]
  },
  {
   "cell_type": "code",
   "execution_count": null,
   "metadata": {},
   "outputs": [],
   "source": [
    "import numpy as np\n",
    "import matplotlib.pyplot as plt\n",
    "import skimage\n",
    "from skimage import data, io, filters, color, exposure\n",
    "from skimage.transform import rotate\n",
    "\n",
    "%matplotlib inline\n",
    "#print the versions of packages \n",
    "print ('numpy version:', np.__version__)\n",
    "print ('scikit-image version:', skimage.__version__)"
   ]
  },
  {
   "cell_type": "markdown",
   "metadata": {},
   "source": [
    "## Setup"
   ]
  },
  {
   "cell_type": "code",
   "execution_count": null,
   "metadata": {},
   "outputs": [],
   "source": [
    "#Default value for color map is \"jet\", change to gray \n",
    "plt.rcParams[\"image.cmap\"] = \"gray\"\n",
    "#change default nterpolation tp nearest\n",
    "plt.rcParams[\"image.interpolation\"] = \"nearest\"\n",
    "\n",
    "#reusable function to display images\n",
    "def show_images(images,titles=None):\n",
    "    \"\"\"Display a list of images\"\"\"\n",
    "    n_ims = len(images)\n",
    "    if titles is None: titles = ['(%d)' % i for i in range(1,n_ims + 1)]\n",
    "    fig = plt.figure()\n",
    "    n = 1\n",
    "    for image,title in zip(images,titles):\n",
    "        a = fig.add_subplot(1,n_ims,n) # Make subplot\n",
    "        if image.ndim == 2: # Is image grayscale?\n",
    "            plt.gray() # Only place in this blog you can't replace 'gray' with 'grey'\n",
    "        plt.imshow(image)\n",
    "        a.set_title(title)\n",
    "        n += 1\n",
    "    fig.set_size_inches(np.array(fig.get_size_inches()) * n_ims)\n",
    "    plt.show()"
   ]
  },
  {
   "cell_type": "markdown",
   "metadata": {},
   "source": [
    "### Generate an Image"
   ]
  },
  {
   "cell_type": "code",
   "execution_count": null,
   "metadata": {},
   "outputs": [],
   "source": [
    "#A grayscale image is just a 2D array\n",
    "gray_image = np.random.rand(500, 500)\n",
    "print(gray_image)\n",
    "from matplotlib import pyplot as plt, cm\n",
    "plt.imshow(gray_image, cmap=cm.gray, interpolation='nearest')\n",
    "plt.title('Random grayscale image')"
   ]
  },
  {
   "cell_type": "code",
   "execution_count": null,
   "metadata": {},
   "outputs": [],
   "source": [
    "# Create an image (10 x 10 pixels)\n",
    "rgb_image = np.zeros(shape=(10,10,3),dtype=np.uint8) # <- unsigned 8 bit int\n",
    "\n",
    "rgb_image[:,:,0] = 255 # Set red value for all pixels\n",
    "rgb_image[:,:,1] = 255 # Set no green value for all pixels\n",
    "rgb_image[:,:,2] = 0   # Set no blue value for all pixels\n",
    "\n",
    "print(rgb_image)"
   ]
  },
  {
   "cell_type": "code",
   "execution_count": null,
   "metadata": {},
   "outputs": [],
   "source": [
    "plt.title('Red plus Green equals...')\n",
    "plt.imshow(rgb_image)\n",
    "plt.show()"
   ]
  },
  {
   "cell_type": "markdown",
   "metadata": {},
   "source": [
    "### Exercise\n",
    "\n",
    "Try some other color combinations"
   ]
  },
  {
   "cell_type": "markdown",
   "metadata": {},
   "source": [
    "### Display Images"
   ]
  },
  {
   "cell_type": "code",
   "execution_count": null,
   "metadata": {},
   "outputs": [],
   "source": [
    "#use an existing image from the scikit dataset\n",
    "camera = data.camera()\n",
    "\n",
    "#display the image through a plot\n",
    "plt.imshow(camera)\n",
    "\n",
    "#print out type and shape of the image\n",
    "type(camera), camera.dtype, camera.shape, "
   ]
  },
  {
   "cell_type": "code",
   "execution_count": null,
   "metadata": {},
   "outputs": [],
   "source": [
    "#use an existing image from the scikit dataset\n",
    "chelsea = data.chelsea()\n",
    "\n",
    "#display the image through a plot\n",
    "plt.imshow(chelsea)\n",
    "\n",
    "#print out type and shape of the image\n",
    "type(chelsea), chelsea.dtype, chelsea.shape, "
   ]
  },
  {
   "cell_type": "markdown",
   "metadata": {},
   "source": [
    "### Image Statistics"
   ]
  },
  {
   "cell_type": "code",
   "execution_count": null,
   "metadata": {},
   "outputs": [],
   "source": [
    "#statistical info\n",
    "print(camera.min(), camera.max(), camera.mean())\n",
    "print(chelsea.min(), chelsea.max(), chelsea.mean())"
   ]
  },
  {
   "cell_type": "code",
   "execution_count": null,
   "metadata": {},
   "outputs": [],
   "source": [
    "# Get the value of the pixel on the 200th row and 20th column\n",
    "\n",
    "#single intensity value for gray scale\n",
    "print (\"Value of pixel(200,20) for Camera\", camera[200, 20])\n",
    "\n",
    "#RGB intensity values for color\n",
    "print (\"Value of pixel(200,20) for Chelsea\", chelsea[200, 20])"
   ]
  },
  {
   "cell_type": "markdown",
   "metadata": {},
   "source": [
    "### Histograms"
   ]
  },
  {
   "cell_type": "code",
   "execution_count": null,
   "metadata": {},
   "outputs": [],
   "source": [
    "#plot histogram of intensities manually\n",
    "values, bins = np.histogram(camera,bins=np.arange(256))\n",
    "fig, ax1 = plt.subplots(figsize=(6, 4))\n",
    "ax1.plot(bins[:-1], values, lw=2, c='k')\n",
    "ax1.set_xlim(right=256)\n",
    "ax1.set_yticks([0, 400])\n",
    "ax1.set_title('Camera Histogram', fontsize=15)\n",
    "plt.show()"
   ]
  },
  {
   "cell_type": "code",
   "execution_count": null,
   "metadata": {},
   "outputs": [],
   "source": [
    "#plot histogram of intensities using Skimage API\n",
    "hist, bin_centers = exposure.histogram(camera)\n",
    "plt.fill_between(bin_centers, hist)\n",
    "plt.title(\"Camera Histogram\")"
   ]
  },
  {
   "cell_type": "markdown",
   "metadata": {},
   "source": [
    "For color pictures, we will plot a histogram for each color channel in a single plot. Instead of using `plt.hist`, use `plt.plot` or `plt.fill_between` in combination with `histogram` from `skimage.exposure`."
   ]
  },
  {
   "cell_type": "code",
   "execution_count": null,
   "metadata": {
    "scrolled": true
   },
   "outputs": [],
   "source": [
    "for col, channel in zip('rgb', np.rollaxis(chelsea, axis=-1)):\n",
    "    hist, bin_centers = exposure.histogram(channel)\n",
    "    plt.fill_between(bin_centers, hist, color=col, alpha=0.4)\n",
    "plt.title('Chelsea Histogram', fontsize=15)"
   ]
  },
  {
   "cell_type": "markdown",
   "metadata": {},
   "source": [
    "## Process Image"
   ]
  },
  {
   "cell_type": "code",
   "execution_count": null,
   "metadata": {},
   "outputs": [],
   "source": [
    "# Set to black the pixel on the 3rd row and 10th column\n",
    "camera[3, 10] = 0"
   ]
  },
  {
   "cell_type": "markdown",
   "metadata": {},
   "source": [
    "### Slicing"
   ]
  },
  {
   "cell_type": "code",
   "execution_count": null,
   "metadata": {},
   "outputs": [],
   "source": [
    "# Set to black the top 20 lines\n",
    "camera[:20] = 0\n",
    "# Set to white the bottom 40 lines\n",
    "camera[480:520] = 255\n",
    "plt.imshow(camera)"
   ]
  },
  {
   "cell_type": "markdown",
   "metadata": {},
   "source": [
    "### Masking\n",
    "\n",
    "**Indexing with masks of booleans**"
   ]
  },
  {
   "cell_type": "code",
   "execution_count": null,
   "metadata": {},
   "outputs": [],
   "source": [
    "mask = camera < 80\n",
    "print(mask)\n",
    "# Set to \"white\" (255) pixels where mask is True\n",
    "camera[mask] = 255\n",
    "plt.imshow(camera)"
   ]
  },
  {
   "cell_type": "markdown",
   "metadata": {},
   "source": [
    "**Indexing with sets of indices**"
   ]
  },
  {
   "cell_type": "code",
   "execution_count": null,
   "metadata": {},
   "outputs": [],
   "source": [
    "#draw lines \n",
    "inds_r = np.arange(len(camera))\n",
    "inds_c = 4 * inds_r % len(camera)\n",
    "camera[inds_r, inds_c] = 255\n",
    "plt.imshow(camera)"
   ]
  },
  {
   "cell_type": "code",
   "execution_count": null,
   "metadata": {},
   "outputs": [],
   "source": [
    "nrows, ncols = camera.shape\n",
    "row, col = np.ogrid[:nrows, :ncols]\n",
    "cnt_row, cnt_col = nrows / 2, ncols / 2\n",
    "outer_disk_mask = ((row - cnt_row)**2 + (col - cnt_col)**2 > (nrows / 2)**2)\n",
    "camera[outer_disk_mask] = 0\n",
    "plt.imshow(camera)"
   ]
  },
  {
   "cell_type": "markdown",
   "metadata": {},
   "source": [
    "## Basic Color Image Processing"
   ]
  },
  {
   "cell_type": "code",
   "execution_count": null,
   "metadata": {},
   "outputs": [],
   "source": [
    "#read image from disk\n",
    "filename = 'images/mandrill.png'\n",
    "mandrill = io.imread(filename)\n",
    "plt.imshow(mandrill)"
   ]
  },
  {
   "cell_type": "code",
   "execution_count": null,
   "metadata": {},
   "outputs": [],
   "source": [
    "type(mandrill), mandrill.shape"
   ]
  },
  {
   "cell_type": "code",
   "execution_count": null,
   "metadata": {
    "scrolled": true
   },
   "outputs": [],
   "source": [
    "#plot histogram\n",
    "for col, channel in zip('rgb', np.rollaxis(mandrill, axis=-1)):\n",
    "    hist, bin_centers = exposure.histogram(channel)\n",
    "    plt.fill_between(bin_centers, hist, color=col, alpha=0.3)"
   ]
  },
  {
   "cell_type": "markdown",
   "metadata": {},
   "source": [
    "NumPy indexing makes separating out each color layer of an image easy. The slicing operator ':' can be used to access all values of a specified dimension while a tuple is used to requests a subset. In order to view a particular color in isolation, we an set the other two values to 0 with these conventions."
   ]
  },
  {
   "cell_type": "code",
   "execution_count": null,
   "metadata": {},
   "outputs": [],
   "source": [
    "red, green, blue = mandrill.copy(), mandrill.copy(), mandrill.copy()\n",
    "red[:,:,(1,2)] = 0\n",
    "green[:,:,(0,2)] = 0\n",
    "blue[:,:,(0,1)] = 0\n",
    "\n",
    "show_images(images=[red, green, blue], titles=['Red Intensity', 'Green Intensity', 'Blue Intensity'])\n",
    "print ('Note: lighter areas correspond to higher intensities\\n')"
   ]
  },
  {
   "cell_type": "code",
   "execution_count": null,
   "metadata": {},
   "outputs": [],
   "source": [
    "#Method 2\n",
    "red_image = np.zeros_like(mandrill)\n",
    "green_image = np.zeros_like(mandrill)\n",
    "blue_image = np.zeros_like(mandrill)\n",
    "\n",
    "red_image[:, :, 0] = mandrill[:, :, 0]\n",
    "green_image[:, :, 1] = mandrill[:, :, 1]\n",
    "blue_image[:, :, 2] = mandrill[:, :, 2]\n",
    "#show_images(images=[red_image, green_image, blue_image], titles=['Red Intensity', 'Green Intensity', 'Blue Intensity'])"
   ]
  },
  {
   "cell_type": "markdown",
   "metadata": {},
   "source": [
    "### Color image to Gray scale"
   ]
  },
  {
   "cell_type": "code",
   "execution_count": null,
   "metadata": {},
   "outputs": [],
   "source": [
    "#convert image to grey scale and display\n",
    "mandrill_gray = color.rgb2gray(mandrill)\n",
    "plt.imshow(mandrill_gray)"
   ]
  },
  {
   "cell_type": "code",
   "execution_count": null,
   "metadata": {},
   "outputs": [],
   "source": [
    "#plot histogram of intensities using Skimage API\n",
    "hist, bin_centers = exposure.histogram(mandrill_gray)\n",
    "plt.fill_between(bin_centers, hist)\n",
    "plt.title(\"Mandrill Histogram\")"
   ]
  },
  {
   "cell_type": "code",
   "execution_count": null,
   "metadata": {},
   "outputs": [],
   "source": [
    "from skimage.exposure import equalize_hist\n",
    "\n",
    "mandrill_equalized = equalize_hist(mandrill_gray)\n",
    "\n",
    "show_images(images=[mandrill_gray,mandrill_equalized],\n",
    "            titles=[\"Grayscale\",\"Histogram Equalized\"])"
   ]
  },
  {
   "cell_type": "code",
   "execution_count": null,
   "metadata": {},
   "outputs": [],
   "source": [
    "#plot histogram of intensities using Skimage API\n",
    "hist, bin_centers = exposure.histogram(mandrill_equalized)\n",
    "plt.fill_between(bin_centers, hist)\n",
    "plt.title(\"Mandrill Equalized\")"
   ]
  },
  {
   "cell_type": "markdown",
   "metadata": {},
   "source": [
    "### Excercise\n",
    "\n",
    "1) Add two red patches under each eye of the mandrill under its eyes\n",
    "Hint: In a color image the pixel values should be [R,G,B] \n",
    "\n",
    "2) Plot the color histogram again. What difference do you observe ?"
   ]
  }
 ],
 "metadata": {
  "kernelspec": {
   "display_name": "Python 3 (ipykernel)",
   "language": "python",
   "name": "python3"
  },
  "language_info": {
   "codemirror_mode": {
    "name": "ipython",
    "version": 3
   },
   "file_extension": ".py",
   "mimetype": "text/x-python",
   "name": "python",
   "nbconvert_exporter": "python",
   "pygments_lexer": "ipython3",
   "version": "3.11.6"
  }
 },
 "nbformat": 4,
 "nbformat_minor": 4
}

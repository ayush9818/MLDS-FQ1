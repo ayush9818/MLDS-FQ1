{
 "cells": [
  {
   "cell_type": "markdown",
   "metadata": {},
   "source": [
    "# Convolution\n",
    "\n",
    "### Apply convolutions to arrays, functions and images"
   ]
  },
  {
   "cell_type": "code",
   "execution_count": null,
   "metadata": {},
   "outputs": [],
   "source": [
    "import numpy as np\n",
    "from scipy import ndimage, signal as sg\n",
    "from skimage import data, filters, io, color\n",
    "import matplotlib.pyplot as plt\n",
    "from matplotlib import cm\n",
    "%matplotlib inline"
   ]
  },
  {
   "cell_type": "code",
   "execution_count": null,
   "metadata": {},
   "outputs": [],
   "source": [
    "#Default value for color map is \"jet\", change to gray \n",
    "plt.rcParams[\"image.cmap\"] = \"gray\"\n",
    "#change default nterpolation tp nearest\n",
    "plt.rcParams[\"image.interpolation\"] = \"nearest\""
   ]
  },
  {
   "cell_type": "markdown",
   "metadata": {},
   "source": [
    "### 1d convolution - NumPy"
   ]
  },
  {
   "cell_type": "code",
   "execution_count": null,
   "metadata": {},
   "outputs": [],
   "source": [
    "f =[1,5,2,4]\n",
    "g=[2,3,1]"
   ]
  },
  {
   "cell_type": "code",
   "execution_count": null,
   "metadata": {},
   "outputs": [],
   "source": [
    "#Convolution operator flips the second array before “sliding” the two across one another.\n",
    "np.convolve(f, g, \"full\")"
   ]
  },
  {
   "cell_type": "code",
   "execution_count": null,
   "metadata": {},
   "outputs": [],
   "source": [
    "#Only two position where they completely overlap\n",
    "np.convolve(f, g, \"valid\")"
   ]
  },
  {
   "cell_type": "code",
   "execution_count": null,
   "metadata": {},
   "outputs": [],
   "source": [
    "#Only return the middle values of the convolution\n",
    "np.convolve(f, g, \"same\")"
   ]
  },
  {
   "cell_type": "markdown",
   "metadata": {},
   "source": [
    "### 2d convolution - Scipy"
   ]
  },
  {
   "cell_type": "code",
   "execution_count": null,
   "metadata": {},
   "outputs": [],
   "source": [
    "sg.convolve([[255, 7, 3],[212, 240, 4],[218, 216, 230]],[[2, -1]], \"valid\")"
   ]
  },
  {
   "cell_type": "markdown",
   "metadata": {},
   "source": [
    "### Signal convolution\n",
    "\n",
    "Convolve a signal with a square pulse"
   ]
  },
  {
   "cell_type": "code",
   "execution_count": null,
   "metadata": {},
   "outputs": [],
   "source": [
    "fig, (ax1, ax2, ax3) = plt.subplots(nrows=3, ncols=1, figsize=(10,9))\n",
    "\n",
    "t = np.linspace(0, 1, 1000, endpoint=False)\n",
    "#sine wave\n",
    "y = np.sin(2*2*np.pi*t)\n",
    "ax1.plot(t, y, 'r')\n",
    "ax1.set_title('Sine Signal')\n",
    "\n",
    "#square pulse\n",
    "ts = sg.square(2 * np.pi * 5 * t)\n",
    "ax2.plot(t, ts, 'b')\n",
    "ax2.set_title('Square Pulse')\n",
    "\n",
    "#convolved output\n",
    "ax3.plot(sg.convolve(y ,ts, \"same\"),'g')\n",
    "ax3.set_title('Convolved Signal')\n",
    "plt.show()"
   ]
  },
  {
   "cell_type": "markdown",
   "metadata": {},
   "source": [
    "### Gaussian Convolution\n",
    "\n",
    "The Gaussian smoothing operator is a 2-D convolution operator as a point-spread function. It is used to \"blur\" images and remove details and noise. It is similar to the mean filter, but it uses a different kernel that represents the shape of a Gaussian hump. \n",
    "\n",
    "The Gaussian outputs a weighted average of each pixel's neighborhood, with the average weighted more towards the value of the central pixels. This is in contrast to the mean filter's uniformly weighted average. Because of this, a Gaussian provides gentler smoothing and preserves edges better than a similarly sized mean filter.  "
   ]
  },
  {
   "cell_type": "code",
   "execution_count": null,
   "metadata": {},
   "outputs": [],
   "source": [
    "def gauss_kern(size, sizey=None):\n",
    "    \"\"\" Returns a normalized 2D gauss kernel array for convolutions \"\"\"\n",
    "    size = int(size)    \n",
    "    if not sizey:\n",
    "        sizey = size\n",
    "    else:\n",
    "        sizey = int(sizey)               \n",
    "    #print size, sizey    \n",
    "    x, y = np.mgrid[-size:size+1, -sizey:sizey+1]\n",
    "    g = np.exp(-(x**2/float(size)+y**2/float(sizey)))\n",
    "    return g / g.sum()\n",
    "\n",
    "def blur_image(im, n, ny=None) :\n",
    "    \"\"\" blurs the image by convolving with a gaussian kernel of typical\n",
    "        size n. The optional keyword argument ny allows for a different\n",
    "        size in the y direction.\n",
    "    \"\"\"\n",
    "    g = gauss_kern(n, sizey=ny)\n",
    "    improc = sg.convolve(im,g, mode='valid')\n",
    "    return(improc)    \n",
    "\n",
    "\n",
    "xmin, xmax, ymin, ymax = -70, 70, -70, 70\n",
    "extent = xmin, xmax, ymin, ymax\n",
    "\n",
    "X, Y = np.mgrid[-70:70, -70:70]\n",
    "print (X.shape)\n",
    "\n",
    "#circlular rings\n",
    "Z1 = np.cos((X**2+Y**2)/200.)\n",
    "\n",
    "#circlular rings + gausian noise\n",
    "Z2 = np.cos((X**2+Y**2)/200.)+ np.random.normal(size=X.shape)    \n",
    "\n",
    "#Plot the images\n",
    "fig, (ax1, ax2, ax3, ax4) = plt.subplots(nrows=1, ncols=4, figsize=(20, 8))\n",
    "\n",
    "#Original Signal\n",
    "ax1.imshow(abs(Z1), cmap=cm.jet, alpha=0.9, interpolation='bilinear', extent=extent)\n",
    "ax1.set_title(r'Original Signal')\n",
    "\n",
    "#Signal with Noise\n",
    "ax2.imshow(abs(Z2), cmap=cm.jet, alpha=.9, interpolation='bilinear', extent=extent)\n",
    "ax2.set_title(r'Signal + Noise')\n",
    "\n",
    "#Gausian Kernel\n",
    "P = gauss_kern(3)\n",
    "ax3.imshow(abs(P), cmap=cm.jet, alpha=.9, interpolation='bilinear', extent=extent)\n",
    "ax3.set_title(r'Gaussian Filter')\n",
    "\n",
    "#Blurred Image recovery after applying Gausian Kernel\n",
    "U = blur_image(Z2, 3)\n",
    "ax4.imshow(abs(U), cmap=cm.jet, alpha=.9, interpolation='bilinear', extent=extent)\n",
    "ax4.set_title(r'Cleaned')\n",
    "\n",
    "plt.show()"
   ]
  },
  {
   "cell_type": "markdown",
   "metadata": {},
   "source": [
    "### Convolution applied to images"
   ]
  },
  {
   "cell_type": "code",
   "execution_count": null,
   "metadata": {},
   "outputs": [],
   "source": [
    "image = data.camera()\n",
    "io.imshow(image)\n",
    "io.show()"
   ]
  },
  {
   "cell_type": "code",
   "execution_count": null,
   "metadata": {},
   "outputs": [],
   "source": [
    "pixelated = image[::3, ::3]\n",
    "io.imshow(pixelated)\n",
    "io.show()"
   ]
  },
  {
   "cell_type": "markdown",
   "metadata": {},
   "source": [
    "### Mean Kernel\n",
    "\n",
    "Mean filter (also known as an averaging filter) is a type of image filtering that replaces each pixel's value with the average value of its neighboring pixels"
   ]
  },
  {
   "cell_type": "code",
   "execution_count": null,
   "metadata": {},
   "outputs": [],
   "source": [
    "mean_kernel = 1.0/9.0 * np.ones((3, 3))\n",
    "print (mean_kernel)\n",
    "image1 = ndimage.convolve(pixelated, mean_kernel, cval=1.0)\n",
    "io.imshow(image1)\n",
    "io.show()"
   ]
  },
  {
   "cell_type": "markdown",
   "metadata": {},
   "source": [
    "### Smooth Kernel\n",
    "\n",
    "Designed for a smoothing effect, this kernel emphasizes the contribution of the center pixel while still considering the contributions of its surrounding pixels"
   ]
  },
  {
   "cell_type": "code",
   "execution_count": null,
   "metadata": {},
   "outputs": [],
   "source": [
    "#What do the numbers in the following convolution kernel tell about it ?\n",
    "smooth_kernel = np.array([[1/16,1/8,1/16],[1/8,1/4,1/8],[1/16,1/8,1/16]])\n",
    "print(smooth_kernel)\n",
    "image2 = ndimage.convolve(pixelated, smooth_kernel, cval=1.0)\n",
    "io.imshow(image2)"
   ]
  },
  {
   "cell_type": "markdown",
   "metadata": {},
   "source": [
    "### Gaussian Kernel"
   ]
  },
  {
   "cell_type": "code",
   "execution_count": null,
   "metadata": {},
   "outputs": [],
   "source": [
    "kernel_size = 5\n",
    "sigma = 1.0\n",
    "\n",
    "# Apply Gaussian blur\n",
    "image3 = ndimage.convolve(pixelated, gauss_kern(kernel_size), cval=1.0)\n",
    "io.imshow(image3)"
   ]
  },
  {
   "cell_type": "markdown",
   "metadata": {},
   "source": [
    "### Edge Detection Kernel"
   ]
  },
  {
   "cell_type": "code",
   "execution_count": null,
   "metadata": {
    "scrolled": true
   },
   "outputs": [],
   "source": [
    "edge_kernel = np.array([[-1,-1,-1],[-1,7,-1],[-1,-1,-1]])\n",
    "#edge_kernel = np.array([[-1/8,-1/8,-1/8],[-1/8,1,-1/8],[-1/8,-1/8,-1/8]])\n",
    "print(edge_kernel)\n",
    "\n",
    "image4 = ndimage.convolve(image, edge_kernel, cval=1.0)\n",
    "io.imshow(image4)\n",
    "io.show()"
   ]
  },
  {
   "cell_type": "markdown",
   "metadata": {},
   "source": [
    "### Emboss Kernel\n",
    "\n",
    "The emboss kernel (similar to the sobel kernel) givens the illusion of depth by emphasizing the differences of pixels in a given direction"
   ]
  },
  {
   "cell_type": "code",
   "execution_count": null,
   "metadata": {},
   "outputs": [],
   "source": [
    "emboss_kernel = np.array([[2,0,0],[0,-1,0],[0,0,-1]])\n",
    "print(emboss_kernel)\n",
    "image6 = ndimage.convolve(image, emboss_kernel, cval=1.0)\n",
    "io.imshow(image6)\n",
    "io.show()"
   ]
  },
  {
   "cell_type": "markdown",
   "metadata": {},
   "source": [
    "### Sharpen kernel\n",
    "\n",
    "The sharpen kernel emphasizes differences in adjacent pixel values."
   ]
  },
  {
   "cell_type": "code",
   "execution_count": null,
   "metadata": {},
   "outputs": [],
   "source": [
    "sharp_kernel = np.array([[-1,-1,-1],[-1,9,-1],[-1,-1,-1]]) #High-Pass Filter\n",
    "#sharp_kernel = np.array([[0, -1, 0],[-1, 4, -1],[0, -1, 0]]) #laplacian\n",
    "\n",
    "print(sharp_kernel)\n",
    "image6 = ndimage.convolve(image, sharp_kernel)\n",
    "io.imshow(image6)\n",
    "io.show()"
   ]
  }
 ],
 "metadata": {
  "kernelspec": {
   "display_name": "Python 3 (ipykernel)",
   "language": "python",
   "name": "python3"
  },
  "language_info": {
   "codemirror_mode": {
    "name": "ipython",
    "version": 3
   },
   "file_extension": ".py",
   "mimetype": "text/x-python",
   "name": "python",
   "nbconvert_exporter": "python",
   "pygments_lexer": "ipython3",
   "version": "3.11.6"
  }
 },
 "nbformat": 4,
 "nbformat_minor": 4
}

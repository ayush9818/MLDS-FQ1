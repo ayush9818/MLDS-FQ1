{
 "cells": [
  {
   "cell_type": "markdown",
   "id": "8391cfeb-5770-4ccd-9e65-5d9897de408a",
   "metadata": {},
   "source": [
    "# Vision Transformer - MNIST"
   ]
  },
  {
   "cell_type": "code",
   "execution_count": 1,
   "id": "dd356f9f-1caa-4c9b-a786-7032a4959e13",
   "metadata": {},
   "outputs": [],
   "source": [
    "import numpy as np\n",
    "import tensorflow as tf\n",
    "from tensorflow.keras.layers import Input\n",
    "from tensorflow.keras import layers, models, datasets\n",
    "from tensorflow.keras.optimizers import Adam\n",
    "from tensorflow.keras.utils import to_categorical\n",
    "import matplotlib.pyplot as plt"
   ]
  },
  {
   "cell_type": "code",
   "execution_count": 2,
   "id": "92bea00e-97fb-44f3-b71f-fd1821e418ba",
   "metadata": {},
   "outputs": [],
   "source": [
    "def create_patches(inputs, patch_size, num_patches, projection_dim, return_patches=False):\n",
    "    patches = layers.Conv2D(filters=projection_dim, kernel_size=patch_size, strides=patch_size, padding=\"valid\")(inputs)\n",
    "    reshaped_patches = layers.Reshape((num_patches, projection_dim))(patches)\n",
    "    if return_patches:\n",
    "        return patches  # Return patches for visualization\n",
    "    return reshaped_patches\n",
    "\n",
    "def add_position_embedding(patches, num_patches, projection_dim):\n",
    "    position_embedding = layers.Embedding(input_dim=num_patches, output_dim=projection_dim)(tf.range(num_patches))\n",
    "    return patches + position_embedding"
   ]
  },
  {
   "cell_type": "code",
   "execution_count": 3,
   "id": "b8fa8c54-e39e-4889-a4ab-5ee43f6946a5",
   "metadata": {},
   "outputs": [],
   "source": [
    "def transformer_encoder(patches, projection_dim, num_heads, transformer_depth):\n",
    "    for _ in range(transformer_depth):\n",
    "        # Normalize the input patches\n",
    "        x1 = layers.LayerNormalization(epsilon=1e-6)(patches)\n",
    "        \n",
    "        # Apply Multi-Head Attention\n",
    "        attention_output = layers.MultiHeadAttention(num_heads=num_heads, key_dim=projection_dim, dropout=0.1)(x1, x1)\n",
    "        \n",
    "        # Add the attention output back to the input (Skip Connection)\n",
    "        x2 = layers.Add()([attention_output, patches])\n",
    "        \n",
    "        # Normalize the result of the addition\n",
    "        x3 = layers.LayerNormalization(epsilon=1e-6)(x2)\n",
    "        \n",
    "        # Apply a feed-forward network (FFN) within the transformer, first expanding then projecting back\n",
    "        x3 = layers.Dense(units=projection_dim*2, activation=\"relu\")(x3)\n",
    "        patches = layers.Dense(units=projection_dim)(x3)\n",
    "        \n",
    "        # Add the output of the FFN back to the combined result of the attention output and the input (Second Skip Connection)\n",
    "        patches = layers.Add()([patches, x2])\n",
    "        \n",
    "    return patches\n",
    "\n",
    "def build_classifier(patches, num_classes):\n",
    "    # Normalize the input\n",
    "    representation = layers.LayerNormalization(epsilon=1e-6)(patches)\n",
    "    \n",
    "    # Flatten the normalized tensor to prepare for the dense layer\n",
    "    representation = layers.Flatten()(representation)\n",
    "    \n",
    "    # Dropout for regularization\n",
    "    features = layers.Dropout(0.5)(representation)\n",
    "    \n",
    "    # Dense layer for learning non-linear combinations\n",
    "    features = layers.Dense(128, activation=\"relu\")(features)\n",
    "    \n",
    "    # Another dropout for regularization\n",
    "    features = layers.Dropout(0.5)(features)\n",
    "    \n",
    "    # Final dense layer with softmax activation for classification\n",
    "    outputs = layers.Dense(num_classes, activation=\"softmax\")(features)\n",
    "    \n",
    "    return outputs\n",
    "\n",
    "def create_vit_classifier(input_shape, patch_size, num_patches, projection_dim, num_heads, transformer_depth, num_classes):\n",
    "    # Define the input layer with the specified input shape\n",
    "    inputs = layers.Input(shape=input_shape)\n",
    "    \n",
    "    # Extract patches from the input image and project to a higher-dimensional space\n",
    "    patches = create_patches(inputs, patch_size, num_patches, projection_dim)\n",
    "    \n",
    "    # Add positional embeddings to the patches to retain positional information\n",
    "    patches = add_position_embedding(patches, num_patches, projection_dim)\n",
    "    \n",
    "    # Pass the patches through the transformer encoder to process interactions between patches\n",
    "    patches = transformer_encoder(patches, projection_dim, num_heads, transformer_depth)\n",
    "    \n",
    "    # Build the classifier head to make final predictions from the encoded features\n",
    "    outputs = build_classifier(patches, num_classes)\n",
    "    \n",
    "    # Create the final Keras model with inputs as the image and outputs as the class predictions\n",
    "    model = models.Model(inputs=inputs, outputs=outputs)\n",
    "\n",
    "    return model"
   ]
  },
  {
   "cell_type": "code",
   "execution_count": 4,
   "id": "ac42b900-cb71-4555-981e-fc7eff8e7a87",
   "metadata": {},
   "outputs": [],
   "source": [
    "#Plot the accuracy \n",
    "def plot_accuracy(history):\n",
    "    plt.plot(history.history['accuracy'], label='Training accuracy')\n",
    "    plt.plot(history.history['val_accuracy'], label='Validation accuracy')\n",
    "    plt.title('Training and Validation Accuracy')\n",
    "    plt.xlabel('Epoch')\n",
    "    plt.ylabel('Accuracy')\n",
    "    plt.legend()\n",
    "    plt.grid(True)\n",
    "    plt.show()"
   ]
  },
  {
   "cell_type": "markdown",
   "id": "bbcf14d0-f1ac-48ae-93c4-17ef0799cec5",
   "metadata": {},
   "source": [
    "## Dataset"
   ]
  },
  {
   "cell_type": "code",
   "execution_count": 5,
   "id": "dc952c57-ce7b-4255-87a7-c8013dbea258",
   "metadata": {},
   "outputs": [],
   "source": [
    "# Load and prepare the MNIST dataset\n",
    "(x_train, y_train), (x_test, y_test) = datasets.mnist.load_data()\n",
    "x_train = np.expand_dims(x_train, -1)  # Expanding to (28, 28, 1)\n",
    "x_test = np.expand_dims(x_test, -1)    # Same for test set\n",
    "x_train = x_train.astype(\"float32\") / 255\n",
    "x_test = x_test.astype(\"float32\") / 255\n",
    "y_train = to_categorical(y_train, 10)\n",
    "y_test = to_categorical(y_test, 10)"
   ]
  },
  {
   "cell_type": "markdown",
   "id": "1caa7504-a2fb-47ef-bbbc-b867f1b3096a",
   "metadata": {},
   "source": [
    "## Model"
   ]
  },
  {
   "cell_type": "code",
   "execution_count": 6,
   "id": "77cedabb-fea8-4a34-9e6d-96cf7b071abb",
   "metadata": {},
   "outputs": [],
   "source": [
    "# Model configuration\n",
    "input_shape = (28, 28, 1)  # MNIST images size\n",
    "patch_size = 4  # Patch size: 4x4\n",
    "num_patches = (input_shape[0] // patch_size) * (input_shape[1] // patch_size)\n",
    "projection_dim = 64\n",
    "num_heads = 4\n",
    "transformer_depth = 4\n",
    "num_classes = 10  # 10 classes for the digits 0-9"
   ]
  },
  {
   "cell_type": "code",
   "execution_count": 7,
   "id": "6561d680-b508-4799-a486-bc0a881f54f8",
   "metadata": {},
   "outputs": [
    {
     "name": "stdout",
     "output_type": "stream",
     "text": [
      "Model: \"model\"\n",
      "__________________________________________________________________________________________________\n",
      " Layer (type)                Output Shape                 Param #   Connected to                  \n",
      "==================================================================================================\n",
      " input_1 (InputLayer)        [(None, 28, 28, 1)]          0         []                            \n",
      "                                                                                                  \n",
      " conv2d (Conv2D)             (None, 7, 7, 64)             1088      ['input_1[0][0]']             \n",
      "                                                                                                  \n",
      " reshape (Reshape)           (None, 49, 64)               0         ['conv2d[0][0]']              \n",
      "                                                                                                  \n",
      " tf.math.add (TFOpLambda)    (None, 49, 64)               0         ['reshape[0][0]']             \n",
      "                                                                                                  \n",
      " layer_normalization (Layer  (None, 49, 64)               128       ['tf.math.add[0][0]']         \n",
      " Normalization)                                                                                   \n",
      "                                                                                                  \n",
      " multi_head_attention (Mult  (None, 49, 64)               66368     ['layer_normalization[0][0]', \n",
      " iHeadAttention)                                                     'layer_normalization[0][0]'] \n",
      "                                                                                                  \n",
      " add (Add)                   (None, 49, 64)               0         ['multi_head_attention[0][0]',\n",
      "                                                                     'tf.math.add[0][0]']         \n",
      "                                                                                                  \n",
      " layer_normalization_1 (Lay  (None, 49, 64)               128       ['add[0][0]']                 \n",
      " erNormalization)                                                                                 \n",
      "                                                                                                  \n",
      " dense (Dense)               (None, 49, 128)              8320      ['layer_normalization_1[0][0]'\n",
      "                                                                    ]                             \n",
      "                                                                                                  \n",
      " dense_1 (Dense)             (None, 49, 64)               8256      ['dense[0][0]']               \n",
      "                                                                                                  \n",
      " add_1 (Add)                 (None, 49, 64)               0         ['dense_1[0][0]',             \n",
      "                                                                     'add[0][0]']                 \n",
      "                                                                                                  \n",
      " layer_normalization_2 (Lay  (None, 49, 64)               128       ['add_1[0][0]']               \n",
      " erNormalization)                                                                                 \n",
      "                                                                                                  \n",
      " multi_head_attention_1 (Mu  (None, 49, 64)               66368     ['layer_normalization_2[0][0]'\n",
      " ltiHeadAttention)                                                  , 'layer_normalization_2[0][0]\n",
      "                                                                    ']                            \n",
      "                                                                                                  \n",
      " add_2 (Add)                 (None, 49, 64)               0         ['multi_head_attention_1[0][0]\n",
      "                                                                    ',                            \n",
      "                                                                     'add_1[0][0]']               \n",
      "                                                                                                  \n",
      " layer_normalization_3 (Lay  (None, 49, 64)               128       ['add_2[0][0]']               \n",
      " erNormalization)                                                                                 \n",
      "                                                                                                  \n",
      " dense_2 (Dense)             (None, 49, 128)              8320      ['layer_normalization_3[0][0]'\n",
      "                                                                    ]                             \n",
      "                                                                                                  \n",
      " dense_3 (Dense)             (None, 49, 64)               8256      ['dense_2[0][0]']             \n",
      "                                                                                                  \n",
      " add_3 (Add)                 (None, 49, 64)               0         ['dense_3[0][0]',             \n",
      "                                                                     'add_2[0][0]']               \n",
      "                                                                                                  \n",
      " layer_normalization_4 (Lay  (None, 49, 64)               128       ['add_3[0][0]']               \n",
      " erNormalization)                                                                                 \n",
      "                                                                                                  \n",
      " multi_head_attention_2 (Mu  (None, 49, 64)               66368     ['layer_normalization_4[0][0]'\n",
      " ltiHeadAttention)                                                  , 'layer_normalization_4[0][0]\n",
      "                                                                    ']                            \n",
      "                                                                                                  \n",
      " add_4 (Add)                 (None, 49, 64)               0         ['multi_head_attention_2[0][0]\n",
      "                                                                    ',                            \n",
      "                                                                     'add_3[0][0]']               \n",
      "                                                                                                  \n",
      " layer_normalization_5 (Lay  (None, 49, 64)               128       ['add_4[0][0]']               \n",
      " erNormalization)                                                                                 \n",
      "                                                                                                  \n",
      " dense_4 (Dense)             (None, 49, 128)              8320      ['layer_normalization_5[0][0]'\n",
      "                                                                    ]                             \n",
      "                                                                                                  \n",
      " dense_5 (Dense)             (None, 49, 64)               8256      ['dense_4[0][0]']             \n",
      "                                                                                                  \n",
      " add_5 (Add)                 (None, 49, 64)               0         ['dense_5[0][0]',             \n",
      "                                                                     'add_4[0][0]']               \n",
      "                                                                                                  \n",
      " layer_normalization_6 (Lay  (None, 49, 64)               128       ['add_5[0][0]']               \n",
      " erNormalization)                                                                                 \n",
      "                                                                                                  \n",
      " multi_head_attention_3 (Mu  (None, 49, 64)               66368     ['layer_normalization_6[0][0]'\n",
      " ltiHeadAttention)                                                  , 'layer_normalization_6[0][0]\n",
      "                                                                    ']                            \n",
      "                                                                                                  \n",
      " add_6 (Add)                 (None, 49, 64)               0         ['multi_head_attention_3[0][0]\n",
      "                                                                    ',                            \n",
      "                                                                     'add_5[0][0]']               \n",
      "                                                                                                  \n",
      " layer_normalization_7 (Lay  (None, 49, 64)               128       ['add_6[0][0]']               \n",
      " erNormalization)                                                                                 \n",
      "                                                                                                  \n",
      " dense_6 (Dense)             (None, 49, 128)              8320      ['layer_normalization_7[0][0]'\n",
      "                                                                    ]                             \n",
      "                                                                                                  \n",
      " dense_7 (Dense)             (None, 49, 64)               8256      ['dense_6[0][0]']             \n",
      "                                                                                                  \n",
      " add_7 (Add)                 (None, 49, 64)               0         ['dense_7[0][0]',             \n",
      "                                                                     'add_6[0][0]']               \n",
      "                                                                                                  \n",
      " layer_normalization_8 (Lay  (None, 49, 64)               128       ['add_7[0][0]']               \n",
      " erNormalization)                                                                                 \n",
      "                                                                                                  \n",
      " flatten (Flatten)           (None, 3136)                 0         ['layer_normalization_8[0][0]'\n",
      "                                                                    ]                             \n",
      "                                                                                                  \n",
      " dropout (Dropout)           (None, 3136)                 0         ['flatten[0][0]']             \n",
      "                                                                                                  \n",
      " dense_8 (Dense)             (None, 128)                  401536    ['dropout[0][0]']             \n",
      "                                                                                                  \n",
      " dropout_1 (Dropout)         (None, 128)                  0         ['dense_8[0][0]']             \n",
      "                                                                                                  \n",
      " dense_9 (Dense)             (None, 10)                   1290      ['dropout_1[0][0]']           \n",
      "                                                                                                  \n",
      "==================================================================================================\n",
      "Total params: 736842 (2.81 MB)\n",
      "Trainable params: 736842 (2.81 MB)\n",
      "Non-trainable params: 0 (0.00 Byte)\n",
      "__________________________________________________________________________________________________\n"
     ]
    }
   ],
   "source": [
    "model = create_vit_classifier(input_shape, patch_size, num_patches, projection_dim, num_heads, transformer_depth, num_classes)\n",
    "model.summary()"
   ]
  },
  {
   "cell_type": "code",
   "execution_count": 8,
   "id": "80c4f62a-2604-49b1-968f-790bcfdbaf0f",
   "metadata": {},
   "outputs": [
    {
     "name": "stderr",
     "output_type": "stream",
     "text": [
      "WARNING:absl:At this time, the v2.11+ optimizer `tf.keras.optimizers.Adam` runs slowly on M1/M2 Macs, please use the legacy Keras optimizer instead, located at `tf.keras.optimizers.legacy.Adam`.\n"
     ]
    }
   ],
   "source": [
    "optimizer = Adam(learning_rate=0.01) \n",
    "model.compile(optimizer=optimizer, loss='categorical_crossentropy', metrics=['accuracy'])"
   ]
  },
  {
   "cell_type": "code",
   "execution_count": 9,
   "id": "bac6e336-de39-40b7-b59d-082d0527dd64",
   "metadata": {},
   "outputs": [
    {
     "name": "stdout",
     "output_type": "stream",
     "text": [
      "Epoch 1/5\n",
      "1688/1688 [==============================] - 125s 73ms/step - loss: 2.3630 - accuracy: 0.1096 - val_loss: 2.3023 - val_accuracy: 0.1050\n",
      "Epoch 2/5\n",
      "1688/1688 [==============================] - 161s 95ms/step - loss: 2.3028 - accuracy: 0.1102 - val_loss: 2.3038 - val_accuracy: 0.0952\n",
      "Epoch 3/5\n",
      "1688/1688 [==============================] - 169s 100ms/step - loss: 2.3023 - accuracy: 0.1101 - val_loss: 2.3023 - val_accuracy: 0.1113\n",
      "Epoch 4/5\n",
      "1688/1688 [==============================] - 164s 97ms/step - loss: 2.3024 - accuracy: 0.1109 - val_loss: 2.3019 - val_accuracy: 0.1050\n",
      "Epoch 5/5\n",
      "1688/1688 [==============================] - 160s 95ms/step - loss: 2.3024 - accuracy: 0.1100 - val_loss: 2.3030 - val_accuracy: 0.1050\n",
      "313/313 [==============================] - 15s 46ms/step - loss: 2.3028 - accuracy: 0.1135\n"
     ]
    },
    {
     "data": {
      "text/plain": [
       "[2.3027961254119873, 0.11349999904632568]"
      ]
     },
     "execution_count": 9,
     "metadata": {},
     "output_type": "execute_result"
    }
   ],
   "source": [
    "# Train the model\n",
    "history = model.fit(x_train, y_train, epochs=5, batch_size=32, validation_split=0.1)\n",
    "\n",
    "# Evaluate the model\n",
    "model.evaluate(x_test, y_test)"
   ]
  },
  {
   "cell_type": "code",
   "execution_count": 10,
   "id": "e2b1de75-ae51-4d90-b146-d680bcf8ed43",
   "metadata": {},
   "outputs": [
    {
     "data": {
      "image/png": "[encoded data removed]",
      "text/plain": [
       "<Figure size 640x480 with 1 Axes>"
      ]
     },
     "metadata": {},
     "output_type": "display_data"
    }
   ],
   "source": [
    "# Call the function to plot the accuracy\n",
    "plot_accuracy(history)"
   ]
  }
 ],
 "metadata": {
  "kernelspec": {
   "display_name": "Python 3 (ipykernel)",
   "language": "python",
   "name": "python3"
  },
  "language_info": {
   "codemirror_mode": {
    "name": "ipython",
    "version": 3
   },
   "file_extension": ".py",
   "mimetype": "text/x-python",
   "name": "python",
   "nbconvert_exporter": "python",
   "pygments_lexer": "ipython3",
   "version": "3.11.6"
  }
 },
 "nbformat": 4,
 "nbformat_minor": 5
}

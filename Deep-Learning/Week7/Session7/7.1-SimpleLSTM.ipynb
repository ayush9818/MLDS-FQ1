{
 "cells": [
  {
   "cell_type": "markdown",
   "metadata": {},
   "source": [
    "# Simple LSTM Model\n",
    "\n",
    "We will create LSTMs to predict a simple number sequence. We will experiment with the following architectures:\n",
    "\n",
    " 1. A 1-layered LSTM \n",
    " 2. With and without normalized data\n",
    " 3. A 2-layered LSTM \n",
    " 4. A variable input LSTM "
   ]
  },
  {
   "cell_type": "code",
   "execution_count": 1,
   "metadata": {},
   "outputs": [],
   "source": [
    "import numpy as np\n",
    "import matplotlib.pyplot as plt\n",
    "%matplotlib inline\n",
    "\n",
    "from tensorflow.keras.models import Sequential\n",
    "from tensorflow.keras.layers import Dense, LSTM \n",
    "from sklearn.model_selection import train_test_split"
   ]
  },
  {
   "cell_type": "markdown",
   "metadata": {},
   "source": [
    "### Generate data"
   ]
  },
  {
   "cell_type": "code",
   "execution_count": 2,
   "metadata": {},
   "outputs": [],
   "source": [
    "#Un-normalized\n",
    "#data = [[[(i+j)] for i in range (5)] for j in range(100)]\n",
    "#target = [(i+5) for i in range(100)]\n",
    "\n",
    "#Normalized\n",
    "data = [[[(i+j)/100] for i in range (5)] for j in range(100)]\n",
    "target = [(i+5)/100 for i in range(100)]"
   ]
  },
  {
   "cell_type": "code",
   "execution_count": 3,
   "metadata": {},
   "outputs": [
    {
     "data": {
      "text/plain": [
       "[[[0.0], [0.01], [0.02], [0.03], [0.04]],\n",
       " [[0.01], [0.02], [0.03], [0.04], [0.05]],\n",
       " [[0.02], [0.03], [0.04], [0.05], [0.06]],\n",
       " [[0.03], [0.04], [0.05], [0.06], [0.07]],\n",
       " [[0.04], [0.05], [0.06], [0.07], [0.08]],\n",
       " [[0.05], [0.06], [0.07], [0.08], [0.09]],\n",
       " [[0.06], [0.07], [0.08], [0.09], [0.1]],\n",
       " [[0.07], [0.08], [0.09], [0.1], [0.11]],\n",
       " [[0.08], [0.09], [0.1], [0.11], [0.12]],\n",
       " [[0.09], [0.1], [0.11], [0.12], [0.13]]]"
      ]
     },
     "execution_count": 3,
     "metadata": {},
     "output_type": "execute_result"
    }
   ],
   "source": [
    "data [:10]"
   ]
  },
  {
   "cell_type": "code",
   "execution_count": 4,
   "metadata": {},
   "outputs": [
    {
     "data": {
      "text/plain": [
       "[0.05, 0.06, 0.07, 0.08, 0.09, 0.1, 0.11, 0.12, 0.13, 0.14]"
      ]
     },
     "execution_count": 4,
     "metadata": {},
     "output_type": "execute_result"
    }
   ],
   "source": [
    "target [:10]"
   ]
  },
  {
   "cell_type": "code",
   "execution_count": 5,
   "metadata": {},
   "outputs": [
    {
     "name": "stdout",
     "output_type": "stream",
     "text": [
      "(100, 5, 1)\n",
      "(100,)\n"
     ]
    }
   ],
   "source": [
    "data = np.array(data, dtype=float)\n",
    "target = np.array(target, dtype=float)\n",
    "\n",
    "print (data.shape)\n",
    "print (target.shape)"
   ]
  },
  {
   "cell_type": "code",
   "execution_count": 6,
   "metadata": {},
   "outputs": [],
   "source": [
    "x_train, x_test, y_train, y_test = train_test_split (data, target, test_size = 0.2, random_state=4)"
   ]
  },
  {
   "cell_type": "markdown",
   "metadata": {},
   "source": [
    "### Build Models\n",
    "\n",
    "https://keras.io/layers/recurrent/#recurrent\n",
    "\n",
    "* Each LSTM cell will output one hidden state h for each input.\n",
    "\n",
    "* return sequences return the hidden state output for each input time step.\n",
    "\n",
    "* return state returns the hidden state output and cell state for the last input time step.\n",
    "\n",
    "* return sequences and return state can be used at the same time.\n",
    "\n",
    "\n",
    "#### Input Parameters\n",
    "\n",
    "LSTMs take a three-dimensional array as an input where the first dimension represents the *batch size*, the second dimension represents the *time-steps* and the third dimension represents the *number of units* in one input sequence. For example, the input shape looks like (batch_size, time_steps, seq_len).\n",
    "\n",
    "#### Statefulness\n",
    "\n",
    "You can set RNN layers to be 'stateful', which means that the states computed for the samples in one batch will be reused as initial states for the samples in the next batch. This assumes a one-to-one mapping between samples in different successive batches.\n",
    "\n",
    "#### Parameters\n",
    "\n",
    "params = 4 * ((size_of_input + 1) * size_of_output + size_of_output^2)\n",
    "\n",
    "4 since there are different weight and bias variables for the 3 gates (read/write/forget) and 4th for the cell state.\n",
    "\n",
    "$$ parameters = 4(nm+n^2+n)$$"
   ]
  },
  {
   "cell_type": "code",
   "execution_count": 7,
   "metadata": {},
   "outputs": [
    {
     "name": "stdout",
     "output_type": "stream",
     "text": [
      "Model: \"sequential\"\n",
      "_________________________________________________________________\n",
      " Layer (type)                Output Shape              Param #   \n",
      "=================================================================\n",
      " lstm (LSTM)                 (None, 1)                 12        \n",
      "                                                                 \n",
      "=================================================================\n",
      "Total params: 12 (48.00 Byte)\n",
      "Trainable params: 12 (48.00 Byte)\n",
      "Non-trainable params: 0 (0.00 Byte)\n",
      "_________________________________________________________________\n"
     ]
    }
   ],
   "source": [
    "#Model 1 - Single Layer\n",
    "model1 = Sequential()\n",
    "model1.add ( LSTM(units=1, batch_input_shape=(None, 5,1), return_sequences=False))\n",
    "model1.summary()"
   ]
  },
  {
   "cell_type": "code",
   "execution_count": 8,
   "metadata": {},
   "outputs": [
    {
     "name": "stdout",
     "output_type": "stream",
     "text": [
      "Model: \"sequential_1\"\n",
      "_________________________________________________________________\n",
      " Layer (type)                Output Shape              Param #   \n",
      "=================================================================\n",
      " lstm_1 (LSTM)               (None, 5, 1)              12        \n",
      "                                                                 \n",
      " lstm_2 (LSTM)               (None, 1)                 12        \n",
      "                                                                 \n",
      "=================================================================\n",
      "Total params: 24 (96.00 Byte)\n",
      "Trainable params: 24 (96.00 Byte)\n",
      "Non-trainable params: 0 (0.00 Byte)\n",
      "_________________________________________________________________\n"
     ]
    }
   ],
   "source": [
    "#Model 2 - Double Layer\n",
    "model2 = Sequential()\n",
    "model2.add ( LSTM(units=1, batch_input_shape=(None, 5,1), return_sequences=True))\n",
    "model2.add ( LSTM(units=1, return_sequences=False))\n",
    "model2.summary()"
   ]
  },
  {
   "cell_type": "code",
   "execution_count": 9,
   "metadata": {},
   "outputs": [],
   "source": [
    "model1.compile (loss='mean_absolute_error', optimizer ='adam', metrics =['accuracy'])\n",
    "model2.compile (loss='mean_absolute_error', optimizer ='adam', metrics =['accuracy'])"
   ]
  },
  {
   "cell_type": "markdown",
   "metadata": {},
   "source": [
    "### Train"
   ]
  },
  {
   "cell_type": "code",
   "execution_count": 10,
   "metadata": {},
   "outputs": [],
   "source": [
    "hist–ory1 = model1.fit( x_train, y_train, epochs=400, validation_data=(x_test, y_test), verbose=0)\n",
    "history2 = model2.fit( x_train, y_train, epochs=400, validation_data=(x_test, y_test), verbose=0)"
   ]
  },
  {
   "cell_type": "markdown",
   "metadata": {},
   "source": [
    "### Test"
   ]
  },
  {
   "cell_type": "code",
   "execution_count": 11,
   "metadata": {},
   "outputs": [
    {
     "name": "stdout",
     "output_type": "stream",
     "text": [
      "1/1 [==============================] - 0s 182ms/step\n",
      "1/1 [==============================] - 0s 329ms/step\n"
     ]
    }
   ],
   "source": [
    "results1 = model1.predict(x_test)\n",
    "results2 = model2.predict(x_test)"
   ]
  },
  {
   "cell_type": "code",
   "execution_count": 12,
   "metadata": {},
   "outputs": [
    {
     "data": {
      "image/png": "[encoded data removed]",
      "text/plain": [
       "<Figure size 2000x1000 with 3 Axes>"
      ]
     },
     "metadata": {},
     "output_type": "display_data"
    }
   ],
   "source": [
    "fig = plt.figure(figsize=(20,10))\n",
    "\n",
    "fig.add_subplot(231)\n",
    "plt.scatter(range(20), results1, c='r')\n",
    "plt.scatter(range(20), y_test, c='g')\n",
    "plt.title(\"Model1\")\n",
    "\n",
    "fig.add_subplot(232)\n",
    "plt.scatter(range(20), results2, c='r')\n",
    "plt.scatter(range(20), y_test, c='g')\n",
    "plt.title(\"Model2\")\n",
    "\n",
    "fig.add_subplot(233)\n",
    "plt.plot(history1.history['loss'])\n",
    "plt.plot(history2.history['loss'])\n",
    "plt.title(\"Loss\")\n",
    "\n",
    "plt.show()"
   ]
  },
  {
   "cell_type": "markdown",
   "metadata": {},
   "source": [
    "### Variable Length Model\n",
    "\n",
    "Here the model will be compiled once but used for a variable length input. This shows the flexibility of the LSTM architecture."
   ]
  },
  {
   "cell_type": "code",
   "execution_count": 13,
   "metadata": {},
   "outputs": [
    {
     "name": "stdout",
     "output_type": "stream",
     "text": [
      "Model: \"sequential_2\"\n",
      "_________________________________________________________________\n",
      " Layer (type)                Output Shape              Param #   \n",
      "=================================================================\n",
      " lstm_3 (LSTM)               (None, None, 1)           12        \n",
      "                                                                 \n",
      " lstm_4 (LSTM)               (None, 1)                 12        \n",
      "                                                                 \n",
      "=================================================================\n",
      "Total params: 24 (96.00 Byte)\n",
      "Trainable params: 24 (96.00 Byte)\n",
      "Non-trainable params: 0 (0.00 Byte)\n",
      "_________________________________________________________________\n"
     ]
    }
   ],
   "source": [
    "#Model 3\n",
    "model3 = Sequential()\n",
    "model3.add ( LSTM(1, batch_input_shape=(None, None,1), return_sequences=True))\n",
    "model3.add ( LSTM(1, return_sequences=False))\n",
    "model3.summary()\n",
    "model3.compile (loss='mean_absolute_error', optimizer ='adam', metrics =['accuracy'])"
   ]
  },
  {
   "cell_type": "code",
   "execution_count": 14,
   "metadata": {},
   "outputs": [
    {
     "name": "stdout",
     "output_type": "stream",
     "text": [
      "1/1 [==============================] - 0s 330ms/step\n"
     ]
    }
   ],
   "source": [
    "#fit model on existing data\n",
    "history3  = model3.fit( x_train, y_train, epochs=200, validation_data=(x_test, y_test), verbose=0)\n",
    "results3 = model3.predict(x_test)"
   ]
  },
  {
   "cell_type": "code",
   "execution_count": 15,
   "metadata": {},
   "outputs": [
    {
     "name": "stdout",
     "output_type": "stream",
     "text": [
      "(100, 6, 1)\n",
      "(100,)\n"
     ]
    }
   ],
   "source": [
    "#change the size of the input and target series\n",
    "\n",
    "data = [[[(i+j)/100] for i in range (6)] for j in range(100)]\n",
    "target = [(i+6)/100 for i in range(100)]\n",
    "data = np.array(data, dtype=float)\n",
    "target = np.array(target, dtype=float)\n",
    "\n",
    "print (data.shape)\n",
    "print (target.shape)\n",
    "x_train, x_test, y_train, y_test = train_test_split (data, target, test_size = 0.2, random_state=4)"
   ]
  },
  {
   "cell_type": "code",
   "execution_count": 16,
   "metadata": {},
   "outputs": [
    {
     "name": "stdout",
     "output_type": "stream",
     "text": [
      "1/1 [==============================] - 0s 319ms/step\n"
     ]
    }
   ],
   "source": [
    "#fit model on new data without recompiling\n",
    "history3  = model3.fit( x_train, y_train, epochs=200, validation_data=(x_test, y_test), verbose=0)\n",
    "results4 = model3.predict(x_test)"
   ]
  },
  {
   "cell_type": "code",
   "execution_count": null,
   "metadata": {},
   "outputs": [],
   "source": []
  }
 ],
 "metadata": {
  "kernelspec": {
   "display_name": "Python 3 (ipykernel)",
   "language": "python",
   "name": "python3"
  },
  "language_info": {
   "codemirror_mode": {
    "name": "ipython",
    "version": 3
   },
   "file_extension": ".py",
   "mimetype": "text/x-python",
   "name": "python",
   "nbconvert_exporter": "python",
   "pygments_lexer": "ipython3",
   "version": "3.11.6"
  }
 },
 "nbformat": 4,
 "nbformat_minor": 4
}

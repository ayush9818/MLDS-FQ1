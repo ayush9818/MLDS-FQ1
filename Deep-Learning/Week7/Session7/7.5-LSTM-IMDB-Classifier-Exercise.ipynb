{
 "cells": [
  {
   "cell_type": "markdown",
   "id": "74a3ca89-4c2e-4bc5-99b3-7901f2647886",
   "metadata": {},
   "source": [
    "# LSTM IMDB Classifier"
   ]
  },
  {
   "cell_type": "code",
   "execution_count": 9,
   "id": "80526001-3c31-4f85-8598-df7daec57610",
   "metadata": {},
   "outputs": [],
   "source": [
    "import numpy as np\n",
    "from keras.models import Sequential\n",
    "from keras.layers import LSTM, Embedding, Dense\n",
    "from keras.preprocessing import sequence\n",
    "from keras.datasets import imdb\n",
    "import matplotlib.pyplot as plt"
   ]
  },
  {
   "cell_type": "markdown",
   "id": "797fe3af-ecbf-4faa-a0da-47e85dad6103",
   "metadata": {},
   "source": [
    "### Dataset"
   ]
  },
  {
   "cell_type": "code",
   "execution_count": 2,
   "id": "bc3daccb-a182-4949-b38e-98dcff365675",
   "metadata": {},
   "outputs": [],
   "source": [
    "# Load the IMDB dataset\n",
    "(x_train, y_train), (x_test, y_test) = imdb.load_data(num_words=5000)\n",
    "\n",
    "# Pad sequences to a maximum length\n",
    "max_review_length = 500\n",
    "x_train = sequence.pad_sequences(x_train, maxlen=max_review_length)\n",
    "x_test = sequence.pad_sequences(x_test, maxlen=max_review_length)"
   ]
  },
  {
   "cell_type": "markdown",
   "id": "ec0f807c-65b8-4639-a4a1-ad405d4de7be",
   "metadata": {},
   "source": [
    "### LSTM\n",
    "\n",
    "#### Embedding Layer\n",
    "\n",
    "- The model has an embedding layer with a vocabulary size of 5000 words.\n",
    "- Each word is represented by a dense vector of length 32.\n",
    "- Input sequences (reviews) are expected to have a length of 'max_review_length'."
   ]
  },
  {
   "cell_type": "code",
   "execution_count": 3,
   "id": "30bf8af2-b3c6-4deb-ad79-6f8a05054343",
   "metadata": {},
   "outputs": [],
   "source": [
    "vocabulary_length = 5000\n",
    "embedding_length = 32"
   ]
  },
  {
   "cell_type": "code",
   "execution_count": 4,
   "id": "9c4501fc-ff3e-40c5-a0af-b1409eae0e4a",
   "metadata": {},
   "outputs": [],
   "source": [
    "# Define the LSTM model\n",
    "model = Sequential()\n",
    "model.add(Embedding(vocabulary_length, embedding_length, input_length=max_review_length))\n",
    "model.add(LSTM(100))\n",
    "model.add(Dense(1, activation='sigmoid'))"
   ]
  },
  {
   "cell_type": "code",
   "execution_count": 6,
   "id": "7eb8f5c7-74b1-46ce-8300-bf3172f1e235",
   "metadata": {},
   "outputs": [],
   "source": [
    "# Compile the model\n",
    "model.compile(loss='binary_crossentropy', optimizer='adam', metrics=['accuracy'])"
   ]
  },
  {
   "cell_type": "markdown",
   "id": "cd499503-4b53-4ec5-95f1-ed7cbf84baaa",
   "metadata": {},
   "source": [
    "### Train and Evaluate"
   ]
  },
  {
   "cell_type": "code",
   "execution_count": 7,
   "id": "6200092e-2a80-4a27-9eab-bed07fc52561",
   "metadata": {},
   "outputs": [
    {
     "name": "stdout",
     "output_type": "stream",
     "text": [
      "Epoch 1/3\n",
      "391/391 [==============================] - 270s 687ms/step - loss: 0.4763 - accuracy: 0.7624 - val_loss: 0.3438 - val_accuracy: 0.8599\n",
      "Epoch 2/3\n",
      "391/391 [==============================] - 232s 593ms/step - loss: 0.3253 - accuracy: 0.8676 - val_loss: 0.3480 - val_accuracy: 0.8570\n",
      "Epoch 3/3\n",
      "391/391 [==============================] - 276s 708ms/step - loss: 0.2991 - accuracy: 0.8832 - val_loss: 0.3886 - val_accuracy: 0.8351\n"
     ]
    }
   ],
   "source": [
    "# Train the model\n",
    "history = model.fit(x_train, y_train, epochs=3, batch_size=64, validation_data=(x_test, y_test))"
   ]
  },
  {
   "cell_type": "code",
   "execution_count": 8,
   "id": "04e76129-6516-4b18-993a-338f1b8eed18",
   "metadata": {},
   "outputs": [
    {
     "name": "stdout",
     "output_type": "stream",
     "text": [
      "Test Accuracy: 83.51%\n"
     ]
    }
   ],
   "source": [
    "# Evaluate the model\n",
    "scores = model.evaluate(x_test, y_test, verbose=0)\n",
    "print(\"Test Accuracy: %.2f%%\" % (scores[1]*100))"
   ]
  }
 ],
 "metadata": {
  "kernelspec": {
   "display_name": "Python 3 (ipykernel)",
   "language": "python",
   "name": "python3"
  },
  "language_info": {
   "codemirror_mode": {
    "name": "ipython",
    "version": 3
   },
   "file_extension": ".py",
   "mimetype": "text/x-python",
   "name": "python",
   "nbconvert_exporter": "python",
   "pygments_lexer": "ipython3",
   "version": "3.11.6"
  }
 },
 "nbformat": 4,
 "nbformat_minor": 5
}

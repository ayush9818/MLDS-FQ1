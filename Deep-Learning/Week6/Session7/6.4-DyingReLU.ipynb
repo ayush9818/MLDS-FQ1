{
 "cells": [
  {
   "cell_type": "markdown",
   "id": "b7509ebb",
   "metadata": {},
   "source": [
    "# Dying ReLU\n",
    "\n",
    "The dying ReLU problem occurs when several neurons only output a value of zero. This happens primarily when the input is negative. This offers an advantage of network sparsity to ReLU, but it creates a major problem when most of the inputs to the neurons are negative. The worst-case scenario is when the entire network dies and only a constant function remains.\n",
    "\n",
    "When most of the neurons output zero, the gradient fails to flow and the weights stop getting updated. Thus, the network stops learning. "
   ]
  },
  {
   "cell_type": "code",
   "execution_count": 1,
   "id": "d6e1818b",
   "metadata": {},
   "outputs": [],
   "source": [
    "import numpy as np\n",
    "import tensorflow as tf\n",
    "from tensorflow.keras.models import Model\n",
    "from tensorflow.keras.layers import Dense, Input\n",
    "from tensorflow.keras import initializers"
   ]
  },
  {
   "cell_type": "code",
   "execution_count": 2,
   "id": "bfeb8c54",
   "metadata": {},
   "outputs": [],
   "source": [
    "# Generate some synthetic training data\n",
    "np.random.seed(42)\n",
    "X_train = np.random.rand(1000, 10)\n",
    "y_train = np.random.randint(2, size=(1000, 1))"
   ]
  },
  {
   "cell_type": "markdown",
   "id": "8d593bd6",
   "metadata": {},
   "source": [
    "#### ReLU Activation\n",
    "We create a simple sequential model with two hidden layers and an output layer. Both hidden layers use the ReLU activation function. We initialize the weights of the layers using a constant value 0.5 or random normal distribution with a mean of 0 and a standard deviation of 0.1."
   ]
  },
  {
   "cell_type": "code",
   "execution_count": 3,
   "id": "e755b68f",
   "metadata": {},
   "outputs": [],
   "source": [
    "# Model using ReLU\n",
    "inputs = Input(shape=(10,))\n",
    "hidden1 = Dense(10, activation='relu', kernel_initializer=initializers.Constant(0.5))(inputs)\n",
    "hidden2 = Dense(10, activation='relu', kernel_initializer=initializers.Constant(-0.5))(hidden1)\n",
    "outputs = Dense(1, activation='sigmoid')(hidden2)"
   ]
  },
  {
   "cell_type": "markdown",
   "id": "80dac374",
   "metadata": {},
   "source": [
    "#### Swish Activation"
   ]
  },
  {
   "cell_type": "code",
   "execution_count": 6,
   "id": "c93b4d37",
   "metadata": {},
   "outputs": [],
   "source": [
    "#Model using Swish\n",
    "inputs = Input(shape=(10,))\n",
    "hidden1 = Dense(10, activation='swish', kernel_initializer=initializers.Constant(0.5))(inputs)\n",
    "hidden2 = Dense(10, activation='swish', kernel_initializer=initializers.Constant(-0.5))(hidden1)\n",
    "outputs = Dense(1, activation='sigmoid')(hidden2)"
   ]
  },
  {
   "cell_type": "code",
   "execution_count": 7,
   "id": "de79ad2c",
   "metadata": {},
   "outputs": [
    {
     "name": "stdout",
     "output_type": "stream",
     "text": [
      "Epoch 1/10\n",
      "32/32 [==============================] - 0s 736us/step - loss: 0.6931\n",
      "Epoch 2/10\n",
      "32/32 [==============================] - 0s 682us/step - loss: 0.6931\n",
      "Epoch 3/10\n",
      "32/32 [==============================] - 0s 638us/step - loss: 0.6930\n",
      "Epoch 4/10\n",
      "32/32 [==============================] - 0s 569us/step - loss: 0.6929\n",
      "Epoch 5/10\n",
      "32/32 [==============================] - 0s 541us/step - loss: 0.6929\n",
      "Epoch 6/10\n",
      "32/32 [==============================] - 0s 533us/step - loss: 0.6928\n",
      "Epoch 7/10\n",
      "32/32 [==============================] - 0s 499us/step - loss: 0.6928\n",
      "Epoch 8/10\n",
      "32/32 [==============================] - 0s 504us/step - loss: 0.6928\n",
      "Epoch 9/10\n",
      "32/32 [==============================] - 0s 499us/step - loss: 0.6927\n",
      "Epoch 10/10\n",
      "32/32 [==============================] - 0s 469us/step - loss: 0.6927\n",
      "Layer 1 neuron values:\n",
      "[[2.2742062 2.2742062 2.2742062 ... 2.2742062 2.2742062 2.2742062]\n",
      " [1.6155307 1.6155307 1.6155307 ... 1.6155307 1.6155307 1.6155307]\n",
      " [1.5957775 1.5957775 1.5957775 ... 1.5957775 1.5957775 1.5957775]\n",
      " ...\n",
      " [2.4228406 2.4228406 2.4228406 ... 2.4228406 2.4228406 2.4228406]\n",
      " [2.1356766 2.1356766 2.1356766 ... 2.1356766 2.1356766 2.1356766]\n",
      " [2.4301813 2.4301813 2.4301813 ... 2.4301813 2.4301813 2.4301813]]\n",
      "Layer 2 neuron values:\n",
      "[[-2.05692311e-04 -5.63098292e-05 -3.58903140e-04 ... -5.16848377e-05\n",
      "  -3.84886516e-04 -5.09663987e-05]\n",
      " [-3.43180611e-03 -1.39147195e-03 -5.04527893e-03 ... -1.31058076e-03\n",
      "  -5.29633462e-03 -1.29781757e-03]\n",
      " [-3.72623908e-03 -1.52883097e-03 -5.44990459e-03 ... -1.44107360e-03\n",
      "  -5.71740652e-03 -1.42722193e-03]\n",
      " ...\n",
      " [-1.07474742e-04 -2.69329885e-05 -1.94892811e-04 ... -2.45776027e-05\n",
      "  -2.10005921e-04 -2.42129445e-05]\n",
      " [-3.75216681e-04 -1.11545225e-04 -6.31592527e-04 ... -1.02939899e-04\n",
      "  -6.74295647e-04 -1.01598787e-04]\n",
      " [-1.04073362e-04 -2.59670251e-05 -1.89084021e-04 ... -2.36893193e-05\n",
      "  -2.03794931e-04 -2.33367246e-05]]\n"
     ]
    }
   ],
   "source": [
    "model = Model(inputs=inputs, outputs=outputs)\n",
    "\n",
    "# Compile the model\n",
    "model.compile(optimizer='adam', loss='binary_crossentropy')\n",
    "\n",
    "# Train the model\n",
    "model.fit(X_train, y_train, epochs=10, batch_size=32)\n",
    "\n",
    "# Extract and print neuron values\n",
    "get_layer_outputs = tf.keras.backend.function([model.layers[0].input], [model.layers[1].output, model.layers[2].output])\n",
    "layer1_values, layer2_values = get_layer_outputs([X_train])\n",
    "\n",
    "print(\"Layer 1 neuron values:\")\n",
    "print(layer1_values)\n",
    "print(\"Layer 2 neuron values:\")\n",
    "print(layer2_values)"
   ]
  },
  {
   "cell_type": "code",
   "execution_count": null,
   "id": "182fc32c",
   "metadata": {},
   "outputs": [],
   "source": []
  }
 ],
 "metadata": {
  "kernelspec": {
   "display_name": "Python 3 (ipykernel)",
   "language": "python",
   "name": "python3"
  },
  "language_info": {
   "codemirror_mode": {
    "name": "ipython",
    "version": 3
   },
   "file_extension": ".py",
   "mimetype": "text/x-python",
   "name": "python",
   "nbconvert_exporter": "python",
   "pygments_lexer": "ipython3",
   "version": "3.11.6"
  }
 },
 "nbformat": 4,
 "nbformat_minor": 5
}

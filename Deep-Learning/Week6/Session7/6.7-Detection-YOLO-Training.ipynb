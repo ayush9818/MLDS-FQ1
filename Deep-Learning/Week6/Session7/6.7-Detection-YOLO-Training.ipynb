{
 "cells": [
  {
   "cell_type": "markdown",
   "id": "23358f3b",
   "metadata": {},
   "source": [
    "## YOLO Training\n",
    "\n",
    "**Using Roboflow**\n",
    "https://colab.research.google.com/github/roboflow-ai/notebooks/blob/main/notebooks/train-yolov8-object-detection-on-custom-dataset.ipynb\n"
   ]
  },
  {
   "cell_type": "code",
   "execution_count": 2,
   "id": "a4a2a04d",
   "metadata": {},
   "outputs": [],
   "source": [
    "import cv2\n",
    "from PIL import Image\n",
    "from ultralytics import YOLO"
   ]
  },
  {
   "cell_type": "markdown",
   "id": "67f86a2e",
   "metadata": {},
   "source": [
    "### Create Model"
   ]
  },
  {
   "cell_type": "code",
   "execution_count": 3,
   "id": "d93678ef",
   "metadata": {},
   "outputs": [],
   "source": [
    "# Create a new YOLO model from scratch\n",
    "#model = YOLO('yolov8n.yaml')\n",
    "\n",
    "# Load a pretrained YOLO model (recommended for training)\n",
    "model = YOLO('yolov8n.pt')"
   ]
  },
  {
   "cell_type": "markdown",
   "id": "a6a8a684",
   "metadata": {},
   "source": [
    "### Train Model\n",
    "\n",
    "Dataset\n",
    "\n",
    "https://github.com/ultralytics/yolov5/blob/master/data/coco128.yaml"
   ]
  },
  {
   "cell_type": "code",
   "execution_count": null,
   "id": "d74ba009",
   "metadata": {},
   "outputs": [],
   "source": [
    "# Train the model using the 'coco128.yaml' dataset for 3 epochs\n",
    "model.train(data='coco128.yaml', epochs=3)"
   ]
  },
  {
   "cell_type": "markdown",
   "id": "d38a38c0",
   "metadata": {},
   "source": [
    "### Evaluate Model"
   ]
  },
  {
   "cell_type": "code",
   "execution_count": null,
   "id": "4ffef712",
   "metadata": {},
   "outputs": [
    {
     "name": "stderr",
     "output_type": "stream",
     "text": [
      "Ultralytics YOLOv8.0.200 🚀 Python-3.11.5 torch-2.1.0 CPU (Apple M2 Max)\n",
      "Model summary (fused): 168 layers, 3151904 parameters, 31920 gradients, 8.7 GFLOPs\n",
      "\n",
      "Dataset 'coco.yaml' images not found ⚠️, missing path '/opt/homebrew/datasets/coco/val2017.txt'\n",
      "Downloading https://github.com/ultralytics/yolov5/releases/download/v1.0/coco2017labels-segments.zip to '/opt/homebrew/datasets/coco2017labels-segments.zip'...\n",
      "100%|████████████████████████████████████████| 169M/169M [00:22<00:00, 7.87MB/s]\n",
      "Unzipping /opt/homebrew/datasets/coco2017labels-segments.zip to /opt/homebrew/da\n",
      "Downloading http://images.cocodataset.org/zips/test2017.zip to '/opt/homebrew/datasets/coco/images/test2017.zip'...\n",
      "Downloading http://images.cocodataset.org/zips/val2017.zip to '/opt/homebrew/datasets/coco/images/val2017.zip'...\n",
      "Downloading http://images.cocodataset.org/zips/train2017.zip to '/opt/homebrew/datasets/coco/images/train2017.zip'...\n"
     ]
    }
   ],
   "source": [
    "# Evaluate the model's performance on the validation set\n",
    "results = model.val()"
   ]
  },
  {
   "cell_type": "code",
   "execution_count": 5,
   "id": "31b1f0a2",
   "metadata": {},
   "outputs": [
    {
     "name": "stderr",
     "output_type": "stream",
     "text": [
      "Ultralytics YOLOv8.0.136 🚀 Python-3.10.11 torch-2.0.1 CPU (Apple M2 Max)\n",
      "\n",
      "\u001b[34m\u001b[1mPyTorch:\u001b[0m starting from /opt/homebrew/runs/detect/train5/weights/best.pt with input shape (1, 3, 640, 640) BCHW and output shape(s) (1, 84, 8400) (6.2 MB)\n",
      "\n",
      "\u001b[34m\u001b[1mONNX:\u001b[0m starting export with onnx 1.14.0 opset 17...\n",
      "\u001b[34m\u001b[1mONNX:\u001b[0m export success ✅ 0.6s, saved as /opt/homebrew/runs/detect/train5/weights/best.onnx (12.2 MB)\n",
      "\n",
      "Export complete (0.8s)\n",
      "Results saved to \u001b[1m/opt/homebrew/runs/detect/train5/weights\u001b[0m\n",
      "Predict:         yolo predict task=detect model=/opt/homebrew/runs/detect/train5/weights/best.onnx imgsz=640 \n",
      "Validate:        yolo val task=detect model=/opt/homebrew/runs/detect/train5/weights/best.onnx imgsz=640 data=/opt/homebrew/anaconda3/lib/python3.10/site-packages/ultralytics/cfg/datasets/coco128.yaml \n",
      "Visualize:       https://netron.app\n"
     ]
    },
    {
     "name": "stdout",
     "output_type": "stream",
     "text": [
      "================ Diagnostic Run torch.onnx.export version 2.0.1 ================\n",
      "verbose: False, log level: Level.ERROR\n",
      "======================= 0 NONE 0 NOTE 0 WARNING 0 ERROR ========================\n",
      "\n"
     ]
    }
   ],
   "source": [
    "# Export the model to ONNX format\n",
    "success = model.export(format='onnx')"
   ]
  },
  {
   "cell_type": "markdown",
   "id": "ee5f7a75",
   "metadata": {},
   "source": [
    "### Object Detection"
   ]
  },
  {
   "cell_type": "code",
   "execution_count": 6,
   "id": "428b5d1a",
   "metadata": {},
   "outputs": [
    {
     "name": "stderr",
     "output_type": "stream",
     "text": [
      "\n",
      "image 1/1 /Users/apujari/Documents/courses/DeepLearning/code/Week6/images/car.jpg: 384x640 1 person, 1 car, 1 truck, 45.8ms\n",
      "Speed: 1.9ms preprocess, 45.8ms inference, 0.6ms postprocess per image at shape (1, 3, 384, 640)\n"
     ]
    },
    {
     "data": {
      "text/plain": [
       "13"
      ]
     },
     "execution_count": 6,
     "metadata": {},
     "output_type": "execute_result"
    }
   ],
   "source": [
    "# Perform object detection on an image using the model\n",
    "results = model('images/car.jpg')\n",
    "\n",
    "res_plotted = results[0].plot()\n",
    "cv2.imshow(\"result\", res_plotted)\n",
    "cv2.waitKey(-1)"
   ]
  },
  {
   "cell_type": "code",
   "execution_count": 7,
   "id": "a7856112",
   "metadata": {},
   "outputs": [],
   "source": [
    "#what happens with a more complex image"
   ]
  }
 ],
 "metadata": {
  "kernelspec": {
   "display_name": "Python 3 (ipykernel)",
   "language": "python",
   "name": "python3"
  },
  "language_info": {
   "codemirror_mode": {
    "name": "ipython",
    "version": 3
   },
   "file_extension": ".py",
   "mimetype": "text/x-python",
   "name": "python",
   "nbconvert_exporter": "python",
   "pygments_lexer": "ipython3",
   "version": "3.11.6"
  }
 },
 "nbformat": 4,
 "nbformat_minor": 5
}

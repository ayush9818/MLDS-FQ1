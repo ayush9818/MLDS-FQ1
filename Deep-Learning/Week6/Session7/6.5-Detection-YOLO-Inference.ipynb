{
 "cells": [
  {
   "cell_type": "markdown",
   "id": "6b14e2c4",
   "metadata": {},
   "source": [
    "# Pretrained YOLO Prediction\n",
    "\n",
    "References: https://docs.ultralytics.com/ "
   ]
  },
  {
   "cell_type": "code",
   "execution_count": 1,
   "id": "4669eb2c",
   "metadata": {},
   "outputs": [],
   "source": [
    "# !pip install opencv-python\n",
    "# !pip install ultralytics"
   ]
  },
  {
   "cell_type": "code",
   "execution_count": 2,
   "id": "55b56452",
   "metadata": {},
   "outputs": [],
   "source": [
    "import cv2\n",
    "from PIL import Image\n",
    "from ultralytics import YOLO"
   ]
  },
  {
   "cell_type": "code",
   "execution_count": 3,
   "id": "e1d383c5",
   "metadata": {},
   "outputs": [],
   "source": [
    "def printResults(results):\n",
    "    for result in results:\n",
    "        # Detection\n",
    "        boxes = result.boxes  # Boxes object for bbox outputs\n",
    "        masks = result.masks  # Masks object for segmentation masks outputs\n",
    "        keypoints = result.keypoints  # Keypoints object for pose outputs\n",
    "        probs = result.probs  # Probs object for classification outputs\n",
    "        \n",
    "        print(boxes.xyxy)   # box with xyxy format, (N, 4)\n",
    "        print(boxes.xywh)   # box with xywh format, (N, 4)\n",
    "        print(boxes.xyxyn)  # box with xyxy format but normalized, (N, 4)\n",
    "        print(boxes.xywhn)  # box with xywh format but normalized, (N, 4)\n",
    "        print(boxes.conf)   # confidence score, (N, 1)\n",
    "        print(boxes.cls)    # cls, (N, 1)\n",
    "        \n",
    "        # Classification\n",
    "        print(probs)     # cls prob, (num_class, )"
   ]
  },
  {
   "cell_type": "markdown",
   "id": "b7d103d4",
   "metadata": {},
   "source": [
    "### Import Model"
   ]
  },
  {
   "cell_type": "code",
   "execution_count": 4,
   "id": "2955bb3f",
   "metadata": {},
   "outputs": [
    {
     "name": "stdout",
     "output_type": "stream",
     "text": [
      "\n",
      "0: 384x640 1 person, 1 car, 1 truck, 44.7ms\n",
      "Speed: 2.6ms preprocess, 44.7ms inference, 0.9ms postprocess per image at shape (1, 3, 384, 640)\n",
      "Results saved to \u001b[1m/opt/homebrew/runs/detect/predict28\u001b[0m\n"
     ]
    }
   ],
   "source": [
    "model = YOLO('yolov8n.pt')\n",
    "\n",
    "# from PIL\n",
    "im1 = Image.open(\"images/car.jpg\")\n",
    "results = model.predict(source=im1, save=True)  # save plotted images"
   ]
  },
  {
   "cell_type": "code",
   "execution_count": 5,
   "id": "7063dcdf",
   "metadata": {},
   "outputs": [
    {
     "data": {
      "text/plain": [
       "tensor([[7.7279e+02, 4.2642e+01, 9.4306e+02, 6.4114e+02, 8.7673e-01, 0.0000e+00],\n",
       "        [5.3271e+01, 1.3742e+02, 1.1186e+03, 6.5387e+02, 5.8116e-01, 2.0000e+00],\n",
       "        [5.8893e+01, 1.3633e+02, 1.1244e+03, 6.5235e+02, 4.8356e-01, 7.0000e+00]])"
      ]
     },
     "execution_count": 5,
     "metadata": {},
     "output_type": "execute_result"
    }
   ],
   "source": [
    "results[0].boxes.data"
   ]
  },
  {
   "cell_type": "code",
   "execution_count": null,
   "id": "591e0388",
   "metadata": {},
   "outputs": [],
   "source": [
    "res_plotted = results[0].plot()\n",
    "cv2.imshow(\"result\", res_plotted)\n",
    "cv2.waitKey(-1)"
   ]
  },
  {
   "cell_type": "code",
   "execution_count": null,
   "id": "fa5279bf",
   "metadata": {},
   "outputs": [],
   "source": [
    "printResults(results)"
   ]
  },
  {
   "cell_type": "markdown",
   "id": "d30f06f8",
   "metadata": {},
   "source": [
    "### Multi Object"
   ]
  },
  {
   "cell_type": "code",
   "execution_count": null,
   "id": "b802b9df",
   "metadata": {},
   "outputs": [],
   "source": [
    "im2 = cv2.imread(\"images/elephant.jpg\")\n",
    "im3 = cv2.imread(\"images/bus.jpg\")\n",
    "\n",
    "results = model.predict(source=im2, save=True, save_txt=True)  # save predictions as labels\n",
    "\n",
    "# from list of PIL/ndarray\n",
    "results = model.predict(source=[im2, im3])"
   ]
  },
  {
   "cell_type": "code",
   "execution_count": null,
   "id": "c4217917",
   "metadata": {},
   "outputs": [],
   "source": [
    "printResults(results)"
   ]
  }
 ],
 "metadata": {
  "kernelspec": {
   "display_name": "Python 3 (ipykernel)",
   "language": "python",
   "name": "python3"
  },
  "language_info": {
   "codemirror_mode": {
    "name": "ipython",
    "version": 3
   },
   "file_extension": ".py",
   "mimetype": "text/x-python",
   "name": "python",
   "nbconvert_exporter": "python",
   "pygments_lexer": "ipython3",
   "version": "3.11.6"
  }
 },
 "nbformat": 4,
 "nbformat_minor": 5
}

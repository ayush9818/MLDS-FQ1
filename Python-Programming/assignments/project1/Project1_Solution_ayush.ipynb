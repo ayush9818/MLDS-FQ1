{
 "cells": [
  {
   "cell_type": "markdown",
   "id": "dcf8db0c",
   "metadata": {},
   "source": [
    "# Exercise 1: OOP & Pandas Practice"
   ]
  },
  {
   "cell_type": "markdown",
   "id": "48160d69",
   "metadata": {},
   "source": [
    "### Combine the baby names by state data set into a single file using shell commands."
   ]
  },
  {
   "cell_type": "code",
   "execution_count": null,
   "id": "320f70e1",
   "metadata": {},
   "outputs": [],
   "source": [
    "! mkdir -p ./dataset\n",
    "! unzip babynamesbystate.zip -d ./dataset"
   ]
  },
  {
   "cell_type": "code",
   "execution_count": null,
   "id": "d9d29e2e",
   "metadata": {},
   "outputs": [],
   "source": [
    "! cat ./dataset/babynamesbystate/*.TXT >> ./dataset/mergedData.TXT\n",
    "#! tail -f ./dataset/mergedData.TXT & "
   ]
  },
  {
   "cell_type": "markdown",
   "id": "6724b958",
   "metadata": {},
   "source": [
    "### 1. Create a class called BabyNames\n",
    "\n",
    "for popularity, shall we consider those names which are present in 1 year and not present in 2nd year ?"
   ]
  },
  {
   "cell_type": "code",
   "execution_count": 42,
   "id": "608481a6",
   "metadata": {},
   "outputs": [],
   "source": [
    "import math\n",
    "import matplotlib.pyplot as plt\n",
    "import pandas as pd\n",
    "\n",
    "class BabyNames(object):\n",
    "    def __init__(self, dataset_path):\n",
    "        column_names = [\"StateCode\",\"Sex\",\"BirthYear\",\"CharacterName\",\"NumOccurences\"]\n",
    "        self.dataset = pd.read_csv(dataset_path, quotechar='\"', sep=',', header=None, names=column_names)\n",
    "        self.dataset = self.dataset.astype({\"BirthYear\": str, \"NumOccurences\": int})\n",
    "    \n",
    "    def get_state_year_df(self, state, year):\n",
    "        if len(state) > 0 and len(year) > 0:\n",
    "            df = self.dataset[(self.dataset.StateCode == state) & (self.dataset.BirthYear == year)]\n",
    "        elif len(state) == 0 and len(year) > 0:\n",
    "            df = self.dataset[self.dataset.BirthYear == year]\n",
    "        elif len(state) > 0 and len(year) == 0:\n",
    "            df = self.dataset[self.dataset.StateCode == state]\n",
    "        else:\n",
    "            df = self.dataset\n",
    "        return df\n",
    "    \n",
    "    def count(self, state='', year=''):\n",
    "        state_year_df = self.get_state_year_df(state, year)\n",
    "        total_birth_count = state_year_df['NumOccurences'].sum()\n",
    "        return total_birth_count\n",
    "\n",
    "    def top10babynames(self, state='', year=''):\n",
    "        topK = 10\n",
    "        state_year_df = self.get_state_year_df(state, year)\n",
    "        male_baby_list = (state_year_df[state_year_df.Sex == 'M']\n",
    "                          .groupby('CharacterName')\n",
    "                         .sum()\n",
    "                         .reset_index()\n",
    "                         .sort_values(by=['NumOccurences'], ascending=False)\n",
    "                         .iloc[:topK].CharacterName.tolist())\n",
    "        female_baby_list = (state_year_df[state_year_df.Sex == 'F']\n",
    "                         .groupby('CharacterName')\n",
    "                         .sum()\n",
    "                         .reset_index()\n",
    "                         .sort_values(by=['NumOccurences'], ascending=False)\n",
    "                         .iloc[:topK].CharacterName.tolist())\n",
    "        \n",
    "        print(male_baby_list, female_baby_list)\n",
    "        rank_list = list(range(1, topK+1))\n",
    "        result_df = pd.DataFrame({\n",
    "            \"Rank\" : rank_list,\n",
    "            \"Male\" : male_baby_list,\n",
    "            \"Female\" : female_baby_list\n",
    "        })\n",
    "        return result_df\n",
    "            \n",
    "    def change_of_popularity(self, fromYear, toYear, top=10):\n",
    "        \"\"\"\n",
    "        # Do we consider the gender ?? \n",
    "        Definition of Popularity for a given Year yi\n",
    "            Popularity(NamesA) = NumOccurences(NamesA)(yi)\n",
    "        \"\"\"\n",
    "        dfA = self.dataset[self.dataset.BirthYear == fromYear].groupby('CharacterName')['NumOccurences'].sum().to_dict()\n",
    "        dfB = self.dataset[self.dataset.BirthYear == toYear].groupby('CharacterName')['NumOccurences'].sum().to_dict()\n",
    "        \n",
    "        unique_names = self.dataset.CharacterName.unique().tolist()\n",
    "        posPop = {}\n",
    "        negPop = {}\n",
    "        equalPop = {}\n",
    "        for name in unique_names:\n",
    "            freqA = dfA.get(name, 0)\n",
    "            freqB = dfB.get(name, 0)\n",
    "            \n",
    "            if freqB > freqA:\n",
    "                # Increase\n",
    "                posPop[name] = freqB - freqA\n",
    "            elif freqA > freqB:\n",
    "                # Decrease\n",
    "                negPop[name] = abs(freqB - freqA)\n",
    "            else:\n",
    "                # Same\n",
    "                equalPop[name] = freqA\n",
    "        #import pdb;pdb.set_trace();\n",
    "        df_posPop = pd.DataFrame({\"Name\" : posPop.keys(), \"Pop\": posPop.values()})\n",
    "        df_negPop = pd.DataFrame({\"Name\" : negPop.keys(), \"Pop\": negPop.values()})\n",
    "        df_equalPop = pd.DataFrame({\"Name\" : equalPop.keys(), \"Pop\": equalPop.values()})\n",
    "                \n",
    "        df_posPop = df_posPop.sort_values(by=['Pop','Name'], ascending=[False, True]).iloc[:top]\n",
    "        df_negPop = df_negPop.sort_values(by=['Pop', 'Name'], ascending=[False, True]).iloc[:top]\n",
    "        df_equalPop = df_equalPop.sort_values(by=['Pop','Name'], ascending=[False,True]).iloc[:top]\n",
    "                \n",
    "        return {\n",
    "            \"increasingPopularity\" : df_posPop.Name.tolist(),\n",
    "            \"decreasingPo?pularity\" : df_negPop.Name.tolist(),\n",
    "            \"equalPopularity\" : df_equalPop.Name.tolist()\n",
    "        }\n",
    "    \n",
    "    def top5_names_per_year(self, year, sex=''):\n",
    "        assert year is not None or len(year) > 0, f\"year is a mandatory field\"\n",
    "        \n",
    "        topk = 5\n",
    "        if len(sex) == 0:\n",
    "            filter_df = self.dataset[(self.dataset.BirthYear == year)]\n",
    "        else:\n",
    "            filter_df = self.dataset[(self.dataset.BirthYear == year) & (self.dataset.Sex == sex)]\n",
    "         \n",
    "        filter_df = filter_df.groupby('StateCode')\n",
    "        row_list = []\n",
    "        for state, state_df in filter_df:\n",
    "            state_df = state_df.sort_values(by=['NumOccurences','CharacterName','Sex'], ascending=[False, True, True]).iloc[:topk]\n",
    "            curr_row = []\n",
    "            curr_row.append(state)\n",
    "            for idx, row in enumerate(state_df.itertuples()):\n",
    "                curr_row.append(row.CharacterName)\n",
    "                curr_row.append(row.NumOccurences)\n",
    "            \n",
    "            row_list.append(curr_row)\n",
    "        \n",
    "        result_df = pd.DataFrame(row_list, columns=['State', 'Rank1', 'Rank1_Num',\n",
    "                                          'Rank2', 'Rank2_Num', 'Rank3',\n",
    "                                          'Rank3_Num', 'Rank4', 'Rank4_Num',\n",
    "                                          'Rank5', 'Rank5_Num'])\n",
    "        return result_df\n",
    "    \n",
    "    \n",
    "    \n",
    "    def name_popularity_plot(self, name, yearRange, state, sex):\n",
    "        \"\"\"\n",
    "        Definition of Popularity\n",
    "            For a given state and Year, \n",
    "                Popularity(NameA) = Occurences(NameA) / Summation[i](Occurences(Names[i]))\n",
    "        \"\"\"\n",
    "        startYear = int(yearRange[0])\n",
    "        endYear = int(yearRange[1])\n",
    "        \n",
    "        popularity_list = []\n",
    "        for year in range(startYear, endYear+1):\n",
    "            state_year_df = self.dataset[(self.dataset.BirthYear == str(year)) & (self.dataset.StateCode == state)]\n",
    "            person_occ = state_year_df[(state_year_df.CharacterName==name) & (state_year_df.Sex==sex)]['NumOccurences']\n",
    "            if person_occ.shape[0] == 0:\n",
    "                person_occ = 0\n",
    "            else:\n",
    "                person_occ = int(person_occ.iloc[0])\n",
    "            person_pop = person_occ \n",
    "            #/ state_year_df['NumOccurences'].sum() * 100\n",
    "            popularity_list.append(person_pop)\n",
    "            \n",
    "        fig, ax = plt.subplots(nrows=1, ncols=1, figsize=(5,5))\n",
    "        ax.plot(list(range(startYear, endYear+1)),popularity_list)\n",
    "        ax.set_xlabel('Year')\n",
    "        ax.set_ylabel('Popularity in %')\n",
    "        ax.set_title(f\"Popularity Trend Chart for {name}/{sex} from Year {startYear} to {endYear} in the state of {state}\" )\n",
    "        ax.grid()\n",
    "        plt.show()\n",
    "    \n",
    "    def name_flip(self, n):\n",
    "        \"\"\"\n",
    "        A flip is considered if abs(diff(Count(NameA,M), Count(NameA,F))) > 0\n",
    "        The metric to calculate topk flips is abs(diff(Count(NameA,M), Count(NameA,F))) in descending order\n",
    "        \n",
    "        For each Name, plot the male and female count for each year\n",
    "        \"\"\"\n",
    "        topk = n\n",
    "        name_count_df = self.dataset.groupby(['CharacterName','Sex','Year']).size().unstack(fill_value=0)\n",
    "        flipped_names = []\n",
    "        for row in name_count_df.itertuples():\n",
    "            if row.F > 0 and row.M > 0:\n",
    "                flipped_names.append(row.Index)\n",
    "        flip_metric = []\n",
    "        for name in flipped_names:\n",
    "            name_row = name_count_df[name_count_df.index == name]\n",
    "            name_metric = abs(name_row.F.iloc[0] - name_row.M.iloc[0])\n",
    "            flip_metric.append((name, name_metric))\n",
    "        \n",
    "        flip_metric = sorted(flip_metric, key=lambda x : x[1], reverse=True)[:topk]\n",
    "        topk_flip_names = [ _[0] for _ in flip_metric]\n",
    "        return topk_flip_names"
   ]
  },
  {
   "cell_type": "code",
   "execution_count": 43,
   "id": "b3527fec",
   "metadata": {},
   "outputs": [],
   "source": [
    "babyName = BabyNames(dataset_path = './dataset/mergedData.TXT')"
   ]
  },
  {
   "cell_type": "code",
   "execution_count": 36,
   "id": "a78a3880",
   "metadata": {},
   "outputs": [
    {
     "data": {
      "text/plain": [
       "471610"
      ]
     },
     "execution_count": 36,
     "metadata": {},
     "output_type": "execute_result"
    }
   ],
   "source": [
    "babyName.count('CA','2000')"
   ]
  },
  {
   "cell_type": "code",
   "execution_count": 28,
   "id": "41da633d",
   "metadata": {},
   "outputs": [
    {
     "name": "stdout",
     "output_type": "stream",
     "text": [
      "['James', 'John', 'Robert', 'Michael', 'William', 'David', 'Richard', 'Joseph', 'Charles', 'Thomas'] ['Mary', 'Patricia', 'Elizabeth', 'Jennifer', 'Linda', 'Barbara', 'Margaret', 'Susan', 'Dorothy', 'Jessica']\n"
     ]
    },
    {
     "data": {
      "text/html": [
       "<div>\n",
       "<style scoped>\n",
       "    .dataframe tbody tr th:only-of-type {\n",
       "        vertical-align: middle;\n",
       "    }\n",
       "\n",
       "    .dataframe tbody tr th {\n",
       "        vertical-align: top;\n",
       "    }\n",
       "\n",
       "    .dataframe thead th {\n",
       "        text-align: right;\n",
       "    }\n",
       "</style>\n",
       "<table border=\"1\" class=\"dataframe\">\n",
       "  <thead>\n",
       "    <tr style=\"text-align: right;\">\n",
       "      <th></th>\n",
       "      <th>Rank</th>\n",
       "      <th>Male</th>\n",
       "      <th>Female</th>\n",
       "    </tr>\n",
       "  </thead>\n",
       "  <tbody>\n",
       "    <tr>\n",
       "      <th>0</th>\n",
       "      <td>1</td>\n",
       "      <td>James</td>\n",
       "      <td>Mary</td>\n",
       "    </tr>\n",
       "    <tr>\n",
       "      <th>1</th>\n",
       "      <td>2</td>\n",
       "      <td>John</td>\n",
       "      <td>Patricia</td>\n",
       "    </tr>\n",
       "    <tr>\n",
       "      <th>2</th>\n",
       "      <td>3</td>\n",
       "      <td>Robert</td>\n",
       "      <td>Elizabeth</td>\n",
       "    </tr>\n",
       "    <tr>\n",
       "      <th>3</th>\n",
       "      <td>4</td>\n",
       "      <td>Michael</td>\n",
       "      <td>Jennifer</td>\n",
       "    </tr>\n",
       "    <tr>\n",
       "      <th>4</th>\n",
       "      <td>5</td>\n",
       "      <td>William</td>\n",
       "      <td>Linda</td>\n",
       "    </tr>\n",
       "    <tr>\n",
       "      <th>5</th>\n",
       "      <td>6</td>\n",
       "      <td>David</td>\n",
       "      <td>Barbara</td>\n",
       "    </tr>\n",
       "    <tr>\n",
       "      <th>6</th>\n",
       "      <td>7</td>\n",
       "      <td>Richard</td>\n",
       "      <td>Margaret</td>\n",
       "    </tr>\n",
       "    <tr>\n",
       "      <th>7</th>\n",
       "      <td>8</td>\n",
       "      <td>Joseph</td>\n",
       "      <td>Susan</td>\n",
       "    </tr>\n",
       "    <tr>\n",
       "      <th>8</th>\n",
       "      <td>9</td>\n",
       "      <td>Charles</td>\n",
       "      <td>Dorothy</td>\n",
       "    </tr>\n",
       "    <tr>\n",
       "      <th>9</th>\n",
       "      <td>10</td>\n",
       "      <td>Thomas</td>\n",
       "      <td>Jessica</td>\n",
       "    </tr>\n",
       "  </tbody>\n",
       "</table>\n",
       "</div>"
      ],
      "text/plain": [
       "   Rank     Male     Female\n",
       "0     1    James       Mary\n",
       "1     2     John   Patricia\n",
       "2     3   Robert  Elizabeth\n",
       "3     4  Michael   Jennifer\n",
       "4     5  William      Linda\n",
       "5     6    David    Barbara\n",
       "6     7  Richard   Margaret\n",
       "7     8   Joseph      Susan\n",
       "8     9  Charles    Dorothy\n",
       "9    10   Thomas    Jessica"
      ]
     },
     "execution_count": 28,
     "metadata": {},
     "output_type": "execute_result"
    }
   ],
   "source": [
    "babyName.top10babynames()"
   ]
  },
  {
   "cell_type": "code",
   "execution_count": 37,
   "id": "6dd2f3c2",
   "metadata": {},
   "outputs": [
    {
     "data": {
      "text/plain": [
       "{'increasingPopularity': ['Oliver',\n",
       "  'Alexa',\n",
       "  'Mia',\n",
       "  'Hazel',\n",
       "  'Grayson',\n",
       "  'Matteo',\n",
       "  'Charlotte',\n",
       "  'Mateo',\n",
       "  'Lincoln',\n",
       "  'Scarlett'],\n",
       " 'decreasingPo?pularity': ['Jayden',\n",
       "  'Isabella',\n",
       "  'Jase',\n",
       "  'Sophia',\n",
       "  'Joshua',\n",
       "  'Annabelle',\n",
       "  'Andrew',\n",
       "  'Peyton',\n",
       "  'Michael',\n",
       "  'Alexis'],\n",
       " 'equalPopularity': ['Danny',\n",
       "  'Rosa',\n",
       "  'Hadassah',\n",
       "  'Lara',\n",
       "  'Yousef',\n",
       "  'Azaria',\n",
       "  'Abdiel',\n",
       "  'Reuben',\n",
       "  'Kymani',\n",
       "  'Abner']}"
      ]
     },
     "execution_count": 37,
     "metadata": {},
     "output_type": "execute_result"
    }
   ],
   "source": [
    "babyName.change_of_popularity(fromYear='2014', toYear='2015', top=10)"
   ]
  },
  {
   "cell_type": "code",
   "execution_count": null,
   "id": "58c2b2c2",
   "metadata": {},
   "outputs": [],
   "source": [
    "8038 - 6681"
   ]
  },
  {
   "cell_type": "code",
   "execution_count": null,
   "id": "23eef981",
   "metadata": {},
   "outputs": [],
   "source": [
    "name_count_df  = babyName.dataset.groupby(['CharacterName','Sex', 'BirthYear']).size().unstack(fill_value=0)\n",
    "name_count_df.head()"
   ]
  },
  {
   "cell_type": "code",
   "execution_count": null,
   "id": "0ba3e713",
   "metadata": {},
   "outputs": [],
   "source": [
    "flipped_names = []\n",
    "for row in name_count_df.itertuples():\n",
    "    if row.F > 0 and row.M > 0:\n",
    "        flipped_names.append(row.Index)"
   ]
  },
  {
   "cell_type": "code",
   "execution_count": null,
   "id": "b2d9e67c",
   "metadata": {},
   "outputs": [],
   "source": [
    "babyName.name_flip(20)"
   ]
  },
  {
   "cell_type": "code",
   "execution_count": 39,
   "id": "cf436a80",
   "metadata": {},
   "outputs": [
    {
     "data": {
      "text/html": [
       "<div>\n",
       "<style scoped>\n",
       "    .dataframe tbody tr th:only-of-type {\n",
       "        vertical-align: middle;\n",
       "    }\n",
       "\n",
       "    .dataframe tbody tr th {\n",
       "        vertical-align: top;\n",
       "    }\n",
       "\n",
       "    .dataframe thead th {\n",
       "        text-align: right;\n",
       "    }\n",
       "</style>\n",
       "<table border=\"1\" class=\"dataframe\">\n",
       "  <thead>\n",
       "    <tr style=\"text-align: right;\">\n",
       "      <th></th>\n",
       "      <th>State</th>\n",
       "      <th>Rank1</th>\n",
       "      <th>Rank1_Num</th>\n",
       "      <th>Rank2</th>\n",
       "      <th>Rank2_Num</th>\n",
       "      <th>Rank3</th>\n",
       "      <th>Rank3_Num</th>\n",
       "      <th>Rank4</th>\n",
       "      <th>Rank4_Num</th>\n",
       "      <th>Rank5</th>\n",
       "      <th>Rank5_Num</th>\n",
       "    </tr>\n",
       "  </thead>\n",
       "  <tbody>\n",
       "    <tr>\n",
       "      <th>0</th>\n",
       "      <td>AK</td>\n",
       "      <td>Liam</td>\n",
       "      <td>64</td>\n",
       "      <td>William</td>\n",
       "      <td>49</td>\n",
       "      <td>Mason</td>\n",
       "      <td>47</td>\n",
       "      <td>Noah</td>\n",
       "      <td>46</td>\n",
       "      <td>Wyatt</td>\n",
       "      <td>46</td>\n",
       "    </tr>\n",
       "    <tr>\n",
       "      <th>1</th>\n",
       "      <td>AL</td>\n",
       "      <td>William</td>\n",
       "      <td>438</td>\n",
       "      <td>Mason</td>\n",
       "      <td>293</td>\n",
       "      <td>James</td>\n",
       "      <td>288</td>\n",
       "      <td>John</td>\n",
       "      <td>281</td>\n",
       "      <td>Elijah</td>\n",
       "      <td>247</td>\n",
       "    </tr>\n",
       "    <tr>\n",
       "      <th>2</th>\n",
       "      <td>AR</td>\n",
       "      <td>William</td>\n",
       "      <td>196</td>\n",
       "      <td>Mason</td>\n",
       "      <td>187</td>\n",
       "      <td>Noah</td>\n",
       "      <td>161</td>\n",
       "      <td>James</td>\n",
       "      <td>147</td>\n",
       "      <td>Elijah</td>\n",
       "      <td>138</td>\n",
       "    </tr>\n",
       "    <tr>\n",
       "      <th>3</th>\n",
       "      <td>AZ</td>\n",
       "      <td>Jacob</td>\n",
       "      <td>389</td>\n",
       "      <td>Noah</td>\n",
       "      <td>389</td>\n",
       "      <td>Liam</td>\n",
       "      <td>388</td>\n",
       "      <td>Alexander</td>\n",
       "      <td>370</td>\n",
       "      <td>Daniel</td>\n",
       "      <td>362</td>\n",
       "    </tr>\n",
       "    <tr>\n",
       "      <th>4</th>\n",
       "      <td>CA</td>\n",
       "      <td>Jacob</td>\n",
       "      <td>2890</td>\n",
       "      <td>Ethan</td>\n",
       "      <td>2667</td>\n",
       "      <td>Daniel</td>\n",
       "      <td>2603</td>\n",
       "      <td>Jayden</td>\n",
       "      <td>2581</td>\n",
       "      <td>Matthew</td>\n",
       "      <td>2565</td>\n",
       "    </tr>\n",
       "  </tbody>\n",
       "</table>\n",
       "</div>"
      ],
      "text/plain": [
       "  State    Rank1  Rank1_Num    Rank2  Rank2_Num   Rank3  Rank3_Num      Rank4   \n",
       "0    AK     Liam         64  William         49   Mason         47       Noah  \\\n",
       "1    AL  William        438    Mason        293   James        288       John   \n",
       "2    AR  William        196    Mason        187    Noah        161      James   \n",
       "3    AZ    Jacob        389     Noah        389    Liam        388  Alexander   \n",
       "4    CA    Jacob       2890    Ethan       2667  Daniel       2603     Jayden   \n",
       "\n",
       "   Rank4_Num    Rank5  Rank5_Num  \n",
       "0         46    Wyatt         46  \n",
       "1        281   Elijah        247  \n",
       "2        147   Elijah        138  \n",
       "3        370   Daniel        362  \n",
       "4       2581  Matthew       2565  "
      ]
     },
     "execution_count": 39,
     "metadata": {},
     "output_type": "execute_result"
    }
   ],
   "source": [
    "babyName.top5_names_per_year(year='2013', sex='M').head()"
   ]
  },
  {
   "cell_type": "code",
   "execution_count": 44,
   "id": "261a413f",
   "metadata": {},
   "outputs": [
    {
     "data": {
      "image/png": "[encoded data removed]",
      "text/plain": [
       "<Figure size 500x500 with 1 Axes>"
      ]
     },
     "metadata": {},
     "output_type": "display_data"
    }
   ],
   "source": [
    "babyName.name_popularity_plot(name='Jackie', yearRange=('2000','2012'), state='CA',sex='M')"
   ]
  },
  {
   "cell_type": "code",
   "execution_count": null,
   "id": "0accb17c",
   "metadata": {},
   "outputs": [],
   "source": [
    "df = babyName.dataset"
   ]
  },
  {
   "cell_type": "code",
   "execution_count": null,
   "id": "ea5f29a0",
   "metadata": {},
   "outputs": [],
   "source": [
    "df.head()"
   ]
  },
  {
   "cell_type": "code",
   "execution_count": null,
   "id": "fc13eea2",
   "metadata": {},
   "outputs": [],
   "source": [
    "df.groupby(['CharacterName', 'Sex']).size()\n",
    "#unstack(fill_value=0)"
   ]
  },
  {
   "cell_type": "code",
   "execution_count": null,
   "id": "fbae63ee",
   "metadata": {},
   "outputs": [],
   "source": [
    "for row in df.groupby(['CharacterName', 'Sex']).size().unstack(fill_value=0).itertuples():\n",
    "    print(row.F, row.M)\n",
    "    break"
   ]
  },
  {
   "cell_type": "code",
   "execution_count": null,
   "id": "d9ba8a6f",
   "metadata": {},
   "outputs": [],
   "source": []
  }
 ],
 "metadata": {
  "kernelspec": {
   "display_name": "Python 3 (ipykernel)",
   "language": "python",
   "name": "python3"
  },
  "language_info": {
   "codemirror_mode": {
    "name": "ipython",
    "version": 3
   },
   "file_extension": ".py",
   "mimetype": "text/x-python",
   "name": "python",
   "nbconvert_exporter": "python",
   "pygments_lexer": "ipython3",
   "version": "3.10.13"
  }
 },
 "nbformat": 4,
 "nbformat_minor": 5
}

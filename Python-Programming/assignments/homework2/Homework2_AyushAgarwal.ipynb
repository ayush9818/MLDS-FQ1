{
 "cells": [
  {
   "cell_type": "markdown",
   "id": "4e6ee285-59e2-4918-86ad-8244a95acd49",
   "metadata": {},
   "source": [
    "# Exercise 1: Random and Timeit Practice\r",
    "Given a list of numbers and words, find the count of each element type in the list.\n",
    "\r",
    "**Example** \\\r",
    "    my_list = [2, 3, ‘word’, -1, ‘python programming language’, 9, 321] \\\r",
    "    Count of numbers: 5 \\\r",
    "    Count of words: 2 \r",
    "1. Create a function that will randomly generate a list of N numbers and words. Numbers and word counts are random and the order is random too. \r",
    "2. Create a function to calculate the desired output using loops. \r",
    "3. Create a function to calculate the desired output using list comprehension. \r",
    "4. Use the timeit library to check the performance difference between the two solutions for different list sizes (N = 100, 1000, 10000, 100000). Plot the difference using matplotlib. \r",
    "5. What conclusions can you draw from the results? "
   ]
  },
  {
   "cell_type": "markdown",
   "id": "4a33da3d-4081-46b0-94a3-92876f81909b",
   "metadata": {},
   "source": [
    "#### Part 1: Create a function that will randomly generate a list of N numbers and words. Numbers and word counts are random and the order is random too."
   ]
  },
  {
   "cell_type": "code",
   "execution_count": 68,
   "id": "10bc52b2-0c9e-4623-a870-8ba6d4f008af",
   "metadata": {},
   "outputs": [
    {
     "name": "stdout",
     "output_type": "stream",
     "text": [
      "N : 10\n",
      "[200, 'y', 118, 'j', 'y', 'd', 331, 'l', 305, 392]\n"
     ]
    }
   ],
   "source": [
    "import random\n",
    "import string\n",
    "\n",
    "def generate_random_list(N):\n",
    "    \"\"\"\n",
    "    Given an integer N, the function will generate a list, containing x numbers and N-x words\n",
    "    Numbers are sampled from a fixed NUMBER_LIST which is from [1,999]\n",
    "    Words are sample from a fixed WORD_LIST which contains words 'word', 'python', 'MLDS', 'Deep Learning', 'AI'\n",
    "    args:\n",
    "        N : integer N, size of output list\n",
    "    output:\n",
    "        random_list: output list in a randomised order\n",
    "    \"\"\"\n",
    "    # Handling N = 0 egde Case\n",
    "    if N == 0:\n",
    "        raise ValueError(\"Value of N should be greater than 0\")\n",
    "    print(f\"N : {N}\")\n",
    "\n",
    "    # Defining fixed word list. All the words will be sampled from it\n",
    "    WORD_LIST = list(string.ascii_lowercase) + list(string.ascii_uppercase)\n",
    "    # Defining fixed number list which ranges from 1 to 999\n",
    "    NUMBER_LIST = list(range(1,1000))\n",
    "    \n",
    "    # Generating a random numbers b/w 1 to N for word count and number count\n",
    "    random_word_count = random.randint(1,N)\n",
    "    random_number_count = N - random_word_count\n",
    "\n",
    "    # Creating list of words and numbers from above defined list using random counts\n",
    "    random_list = []\n",
    "    random_list.extend(random.choices(WORD_LIST, k = random_word_count))\n",
    "    random_list.extend(random.choices(NUMBER_LIST, k = random_number_count))\n",
    "    random.shuffle(random_list)\n",
    "    return random_list\n",
    "\n",
    "print(generate_random_list(10))"
   ]
  },
  {
   "cell_type": "markdown",
   "id": "0cd8c192-1490-40e6-b949-5ab7baaa9f60",
   "metadata": {},
   "source": [
    "#### Part 2: Create a function to calculate the desired output using loops."
   ]
  },
  {
   "cell_type": "code",
   "execution_count": 69,
   "id": "78c8f015-99fd-4fec-9fb2-6f9f8f7cf08c",
   "metadata": {},
   "outputs": [],
   "source": [
    "def count_numbers_and_words_using_loop(input_list):\n",
    "    \"\"\"\n",
    "    Given a list of words and numbers, the function returns word and numbers counts in the list using for loop\n",
    "    args:\n",
    "        input_list: input list of words and numbers \n",
    "    returns:\n",
    "        word_count : Count of words\n",
    "        number_count : Count of numbers\n",
    "    \"\"\"\n",
    "    word_count = 0\n",
    "    number_count = 0\n",
    "    \n",
    "    # Iterating over the input list of words and numbers\n",
    "    # Checking each data type and counting words and numbers\n",
    "    for entry in input_list:\n",
    "        if isinstance(entry, int):\n",
    "            number_count+=1\n",
    "        elif isinstance(entry, str):\n",
    "            word_count+=1\n",
    "        else:\n",
    "            # Raising exception if data type is other than int or string \n",
    "            raise Exception(f\"Input List should contain only str and int data types. Found {type(entry)}\")\n",
    "\n",
    "    return word_count, number_count"
   ]
  },
  {
   "cell_type": "code",
   "execution_count": 70,
   "id": "0930c678-4c06-4c18-abec-4f4c0c72e732",
   "metadata": {},
   "outputs": [
    {
     "name": "stdout",
     "output_type": "stream",
     "text": [
      "N : 10\n",
      "[956, 617, 'g', 'S', 'd', 327, 'd', 75, 'J', 747]\n",
      "Count of Words: 5\n",
      "Count of Numbers: 5\n"
     ]
    }
   ],
   "source": [
    "N = 10\n",
    "# Generating random list of numbers and words\n",
    "my_list = generate_random_list(N)\n",
    "# Getting word and number count using loop\n",
    "word_count, number_count = count_numbers_and_words_using_loop(input_list = my_list)\n",
    "\n",
    "print(my_list)\n",
    "print(f\"Count of Words: {word_count}\\nCount of Numbers: {number_count}\")"
   ]
  },
  {
   "cell_type": "markdown",
   "id": "9ceb4d4e-7e58-494a-841e-8c874ed941af",
   "metadata": {},
   "source": [
    "#### Part 3: Create a function to calculate the desired output using list comprehension."
   ]
  },
  {
   "cell_type": "code",
   "execution_count": 71,
   "id": "b3df6876-2b71-4be7-8806-8a55f1cbd0aa",
   "metadata": {},
   "outputs": [],
   "source": [
    "def count_numbers_and_words_using_lc(input_list):\n",
    "    \"\"\"\n",
    "    Given a list of words and numbers, the function returns word and numbers counts in the list using list comprehension\n",
    "    args:\n",
    "        input_list: input list of words and numbers \n",
    "    returns:\n",
    "        word_count : Count of words\n",
    "        number_count : Count of numbers\n",
    "    \"\"\"\n",
    "    word_count = sum(1 for entry in input_list if isinstance(entry, str))\n",
    "    number_count = sum(1 for entry in input_list if isinstance(entry, int))\n",
    "    return word_count, number_count"
   ]
  },
  {
   "cell_type": "code",
   "execution_count": 72,
   "id": "8cd231ba-98fc-4dcb-ab8c-c94b2070e013",
   "metadata": {},
   "outputs": [
    {
     "name": "stdout",
     "output_type": "stream",
     "text": [
      "N : 20\n",
      "[693, 704, 'R', 859, 'r', 889, 'e', 452, 150, 923, 'e', 236, 239, 'L', 67, 749, 207, 437, 'c', 744]\n",
      "Count of Words: 6\n",
      "Count of Numbers: 14\n"
     ]
    }
   ],
   "source": [
    "N = 20\n",
    "# Generating random list of numbers and words\n",
    "my_list = generate_random_list(N)\n",
    "# Getting word and number count using loop\n",
    "word_count, number_count = count_numbers_and_words_using_lc(input_list = my_list)\n",
    "\n",
    "print(my_list)\n",
    "print(f\"Count of Words: {word_count}\\nCount of Numbers: {number_count}\")"
   ]
  },
  {
   "cell_type": "markdown",
   "id": "0db90476-cf4f-4156-b736-07c5e3e76c32",
   "metadata": {},
   "source": [
    "#### Part 4: Use the timeit library to check the performance difference between the two solutions for different list sizes (N = 100, 1000, 10000, 100000). Plot the difference using matplotlib."
   ]
  },
  {
   "cell_type": "code",
   "execution_count": 73,
   "id": "8659ed65-b39f-4788-97ef-413c1812182b",
   "metadata": {},
   "outputs": [
    {
     "name": "stdout",
     "output_type": "stream",
     "text": [
      "N : 100\n",
      "N : 1000\n",
      "N : 10000\n",
      "N : 100000\n"
     ]
    }
   ],
   "source": [
    "import timeit\n",
    "import statistics\n",
    "\n",
    "\n",
    "def count_numbers_and_words_using_loop_wrapper():\n",
    "    \"\"\"\n",
    "    Wrapper function to call count_numbers_and_words_using_loop for using timeit \n",
    "    \"\"\"\n",
    "    global my_list\n",
    "    word_count, number_count = count_numbers_and_words_using_loop(input_list = my_list)\n",
    "\n",
    "def count_numbers_and_words_using_lc_wrapper():\n",
    "    \"\"\"\n",
    "    Wrapper functions to call count_numbers_and_words_using_lc for using timeit \n",
    "    \"\"\"\n",
    "    global my_list\n",
    "    word_count, number_count = count_numbers_and_words_using_lc(input_list = my_list)\n",
    "\n",
    "# Defining number of runs and loops as 10 and 200 respectively (CONSTANTS)\n",
    "NUM_RUNS = 10 \n",
    "NUM_LOOPS = 200\n",
    "\n",
    "# Defining a list for different sizes of input list given to count_number_and_words_* functions\n",
    "N_list  = [100, 1000, 10000, 100000]\n",
    "loop_time_list = []\n",
    "lc_time_list = []\n",
    "\n",
    "for N in N_list:\n",
    "    '''\n",
    "    - Benchmarking time for \"count_numbers_and_words_using_loop\" and  \"count_numbers_and_words_using_lc\" over \n",
    "      NUN_RUNS(10) cycles and NUM_LOOPS(200) loops\n",
    "    - Taking mean over all the runs to get average run time\n",
    "    '''\n",
    "    my_list = generate_random_list(N)\n",
    "    loop_run_time = statistics.mean(timeit.repeat(count_numbers_and_words_using_loop_wrapper, repeat=NUM_RUNS, number=NUM_LOOPS))\n",
    "    lc_run_time = statistics.mean(timeit.repeat(count_numbers_and_words_using_lc_wrapper, repeat=NUM_RUNS, number=NUM_LOOPS))\n",
    "\n",
    "    loop_time_list.append(loop_run_time)\n",
    "    lc_time_list.append(lc_run_time)"
   ]
  },
  {
   "cell_type": "code",
   "execution_count": 74,
   "id": "9fc57f4e-98e2-4a43-8fc0-d6efe29e1320",
   "metadata": {},
   "outputs": [
    {
     "data": {
      "image/png": "[encoded data removed]",
      "text/plain": [
       "<Figure size 500x500 with 1 Axes>"
      ]
     },
     "metadata": {},
     "output_type": "display_data"
    }
   ],
   "source": [
    "import matplotlib.pyplot as plt\n",
    "\n",
    "# Creating a plot for average run time for function using loop and list comprehension for different list sizes\n",
    "plt.figure(figsize=(5,5))\n",
    "plt.plot(N_list, loop_time_list, label='loop-time')\n",
    "plt.plot(N_list, lc_time_list, label='list-comprehension-time')\n",
    "plt.xlabel('Number of elements in the list (N)')\n",
    "plt.ylabel('Average Time (seconds)')\n",
    "plt.grid(color='black', linestyle='-', linewidth=0.1)\n",
    "plt.margins(0.05)\n",
    "plt.legend()\n",
    "plt.show()"
   ]
  },
  {
   "cell_type": "markdown",
   "id": "143048f2-ed28-4723-9b54-fe2724153a17",
   "metadata": {},
   "source": [
    "#### Part 5: What conclusions can you draw from the results?"
   ]
  },
  {
   "cell_type": "markdown",
   "id": "24609e53-b89a-4b00-8cdf-d28aa56e1444",
   "metadata": {},
   "source": [
    "From the above plot, it is evident that list comprehension time is always greater than loop time. For this usecase, we can deduce that loops are performing faster than list comprehensions"
   ]
  },
  {
   "cell_type": "markdown",
   "id": "0e5f3975-1b77-4fa9-a3ee-28e90605d849",
   "metadata": {},
   "source": [
    "# Exercise 2: The Collections Library"
   ]
  },
  {
   "cell_type": "markdown",
   "id": "0c105253-bece-44be-99b9-75292b9c739d",
   "metadata": {},
   "source": [
    "Create a function that returns the \"beauty\" of a string.\n",
    "\r",
    "- Given a string s, the beauty is the sum of the beauty of the letters in it\r",
    "- The beauty of each letter is an integer between 1 and 26, inclusive, and no two letters have the same beauty\r",
    "- For each word, the most common letter should be given a beauty of 26, the second most common 25, and so on\r",
    "- An uppercase A and lowercase a will have the same beauty\r",
    "- You can ignore punctuation\n",
    "\n",
    "Here are some inputs:\r",
    "- ABbCcc\r",
    "- Ignore punctuation, please :)\r",
    "- Sometimes test cases are hard to make up.\r",
    "\r",
    "And here are the outputs for them:\r",
    "- 152 \r",
    "- 491 \r",
    "- 729 "
   ]
  },
  {
   "cell_type": "code",
   "execution_count": 75,
   "id": "1ee9d311-a225-4808-a09d-f729f579513a",
   "metadata": {},
   "outputs": [],
   "source": [
    "def calculate_beauty_wrapper(freq_map):\n",
    "    \"\"\"\n",
    "    - Given a frequency map for different characters, the wrapper function calculates the beauty value for the map\n",
    "    - Assigns 26 to highest freq char, 25 to second highest and so on\n",
    "    args:\n",
    "        freq_map: dictionary containing the frequency of different characters\n",
    "    returns:\n",
    "        total_beauty: beauty value of the frequency map\n",
    "    \"\"\"\n",
    "    # Sorting frequency map in descening order of frequencies\n",
    "    freq_map = sorted(zip(freq_map.values(), freq_map.keys()), reverse=True)\n",
    "    beauty_num = 26\n",
    "    total_beauty = 0\n",
    "    for freq, ch in freq_map:\n",
    "        total_beauty += beauty_num * freq\n",
    "        beauty_num-=1\n",
    "    return total_beauty"
   ]
  },
  {
   "cell_type": "markdown",
   "id": "1e53e175-599f-4a7d-8aeb-18be9d21b0c9",
   "metadata": {},
   "source": [
    "#### Part 1: Create a function that returns the \"beauty\" of a string using a defaultdict (from the Collections library) to store the counts. Apply it to the three test cases."
   ]
  },
  {
   "cell_type": "code",
   "execution_count": 76,
   "id": "f9edd2d2-e624-4bce-abf1-157349a36ea9",
   "metadata": {},
   "outputs": [],
   "source": [
    "from collections import defaultdict\n",
    "\n",
    "def calculate_beauty_using_dict(input_str):\n",
    "    \"\"\"\n",
    "    Given an input string, the function does the following\n",
    "        - Split the string into words, removes punctuation marks and creates a string\n",
    "        - Creates a frequency map of characters from the string using dict\n",
    "        - calculate the beauty of the string using \"calculate_beauty_wrapper\"\n",
    "    args:\n",
    "        input_str: input string\n",
    "    returns:\n",
    "        beauty value of the string\n",
    "    \"\"\"\n",
    "    # Defining list of punctuation marks\n",
    "    punction_marks = \"\"\":.,?!;()[]{},\"\"\"\n",
    "    # Splitting string into words, removing punctuations and reconstructing the string without spaces\n",
    "    input_str = \"\".join(word.strip(punction_marks).lower() for word in input_str.split())\n",
    "\n",
    "    # Creating frequency map of characters from the reconstructed string\n",
    "    freq_map = defaultdict(int)\n",
    "    for ch in input_str:\n",
    "        freq_map[ch]+=1\n",
    "\n",
    "    # Calculating and returning beauty value of the string\n",
    "    return calculate_beauty_wrapper(freq_map)"
   ]
  },
  {
   "cell_type": "code",
   "execution_count": 77,
   "id": "ac55eb3e-00de-4d87-8f70-5a6a7271c2e2",
   "metadata": {},
   "outputs": [
    {
     "name": "stdout",
     "output_type": "stream",
     "text": [
      "All test cases passed\n"
     ]
    }
   ],
   "source": [
    "test_case1 = \"ABbCcc\"\n",
    "assert calculate_beauty_using_dict(test_case1) == 152\n",
    "test_case2 = \"Ignore punctuation, please :)\"\n",
    "assert calculate_beauty_using_dict(test_case2) == 491\n",
    "test_case3 = \"Sometimes test cases are hard to make up.\"\n",
    "assert calculate_beauty_using_dict(test_case3) == 729\n",
    "\n",
    "print(\"All test cases passed\")"
   ]
  },
  {
   "cell_type": "markdown",
   "id": "57a4e8f9-abe2-4b59-8380-7ab8084d598f",
   "metadata": {},
   "source": [
    "#### Part 2: Create a function that returns the \"beauty\" of a string using Counter (from the Collections library) to store the counts. Apply it to the three test cases."
   ]
  },
  {
   "cell_type": "code",
   "execution_count": 78,
   "id": "9a2adaab-e423-44d8-b9b0-99d50582983e",
   "metadata": {},
   "outputs": [],
   "source": [
    "from collections import Counter\n",
    "\n",
    "def calculate_beauty_using_counter(input_str):\n",
    "    \"\"\"\n",
    "    Given an input string, the function does the following\n",
    "        - Split the string into words, removes punctuation marks and creates a string\n",
    "        - Creates a frequency map of characters from the string using Counter\n",
    "        - calculate the beauty of the string using \"calculate_beauty_wrapper\"\n",
    "    args:\n",
    "        input_str: input string\n",
    "    returns:\n",
    "        beauty value of the string\n",
    "    \"\"\"\n",
    "    # Defining list of punctuation marks\n",
    "    punction_marks = \"\"\":.,?!;()[]{},\"\"\"\n",
    "    # Splitting string into words, removing punctuations and reconstructing the string without spaces\n",
    "    input_str = \"\".join(word.strip(punction_marks).lower() for word in input_str.split())\n",
    "\n",
    "    # Creating frequency map of characters using Counter from the reconstructed string\n",
    "    freq_map = Counter(input_str)\n",
    "\n",
    "    # Calculating and returning beauty value of the string    \n",
    "    return calculate_beauty_wrapper(freq_map)"
   ]
  },
  {
   "cell_type": "code",
   "execution_count": 79,
   "id": "355a1a26-ea81-4e53-8fd3-fd620b96a9d8",
   "metadata": {},
   "outputs": [
    {
     "name": "stdout",
     "output_type": "stream",
     "text": [
      "All test cases passed\n"
     ]
    }
   ],
   "source": [
    "test_case1 = \"ABbCcc\"\n",
    "assert calculate_beauty_using_counter(test_case1) == 152\n",
    "test_case2 = \"Ignore punctuation, please :)\"\n",
    "assert calculate_beauty_using_counter(test_case2) == 491\n",
    "test_case3 = \"Sometimes test cases are hard to make up.\"\n",
    "assert calculate_beauty_using_counter(test_case3) == 729\n",
    "\n",
    "print(\"All test cases passed\")"
   ]
  },
  {
   "cell_type": "markdown",
   "id": "de445087-afcf-4434-9939-07d76bb3e12a",
   "metadata": {},
   "source": [
    "#### Part 3: Compare the two solutions. Explain which one you think is better."
   ]
  },
  {
   "cell_type": "markdown",
   "id": "5453e985-eb11-47c8-a079-b494e331c14e",
   "metadata": {},
   "source": [
    "The counter solution is better in two ways:\n",
    "1) From the below time analysis, it can be seen Counter solution is always faster than the dictionary solution. This time diff is due to the fact that the Counter library uses C underneath which makes it faster.\n",
    "2) The Counter Solution is better in the sense, it helps writing cleaner code as well"
   ]
  },
  {
   "cell_type": "code",
   "execution_count": 42,
   "id": "9e5aa899-4e14-4641-bdd6-1feef60f6f23",
   "metadata": {},
   "outputs": [
    {
     "name": "stdout",
     "output_type": "stream",
     "text": [
      "4.32 µs ± 1.52 µs per loop (mean ± std. dev. of 5 runs, 1,000 loops each)\n"
     ]
    }
   ],
   "source": [
    "%%timeit -r 5 -n 1000\n",
    "calculate_beauty_using_dict(test_case1)"
   ]
  },
  {
   "cell_type": "code",
   "execution_count": 43,
   "id": "76d2d434-99af-4452-855c-f08f60677716",
   "metadata": {},
   "outputs": [
    {
     "name": "stdout",
     "output_type": "stream",
     "text": [
      "4.1 µs ± 1.41 µs per loop (mean ± std. dev. of 5 runs, 1,000 loops each)\n"
     ]
    }
   ],
   "source": [
    "%%timeit -r 5 -n 1000\n",
    "calculate_beauty_using_counter(test_case1)"
   ]
  },
  {
   "cell_type": "code",
   "execution_count": 44,
   "id": "e18cc80a-f4a0-4356-91d9-0f65c4542808",
   "metadata": {},
   "outputs": [
    {
     "name": "stdout",
     "output_type": "stream",
     "text": [
      "9.42 µs ± 3.05 µs per loop (mean ± std. dev. of 5 runs, 1,000 loops each)\n"
     ]
    }
   ],
   "source": [
    "%%timeit -r 5 -n 1000\n",
    "calculate_beauty_using_dict(test_case2)"
   ]
  },
  {
   "cell_type": "code",
   "execution_count": 45,
   "id": "32d992a7-3252-45c2-a986-749d99a64c91",
   "metadata": {},
   "outputs": [
    {
     "name": "stdout",
     "output_type": "stream",
     "text": [
      "8.05 µs ± 1.09 µs per loop (mean ± std. dev. of 5 runs, 1,000 loops each)\n"
     ]
    }
   ],
   "source": [
    "%%timeit -r 5 -n 1000\n",
    "calculate_beauty_using_counter(test_case2)"
   ]
  },
  {
   "cell_type": "code",
   "execution_count": 46,
   "id": "670db60b-42e1-49ec-a296-61ca2a2726a0",
   "metadata": {},
   "outputs": [
    {
     "name": "stdout",
     "output_type": "stream",
     "text": [
      "12.2 µs ± 3.28 µs per loop (mean ± std. dev. of 5 runs, 1,000 loops each)\n"
     ]
    }
   ],
   "source": [
    "%%timeit -r 5 -n 1000\n",
    "calculate_beauty_using_dict(test_case3)"
   ]
  },
  {
   "cell_type": "code",
   "execution_count": 47,
   "id": "a86baead-7d4f-4404-b58d-50d348d1d14f",
   "metadata": {},
   "outputs": [
    {
     "name": "stdout",
     "output_type": "stream",
     "text": [
      "9.57 µs ± 2.3 µs per loop (mean ± std. dev. of 5 runs, 1,000 loops each)\n"
     ]
    }
   ],
   "source": [
    "%%timeit -r 5 -n 1000\n",
    "calculate_beauty_using_counter(test_case3)"
   ]
  },
  {
   "cell_type": "markdown",
   "id": "a9e2a797-b104-4c87-85ee-b5c6b80aff98",
   "metadata": {},
   "source": [
    "# Exercise 3: Explore a Library"
   ]
  },
  {
   "cell_type": "markdown",
   "id": "5e8caad0-5545-4ae7-81fa-231b02fcdf42",
   "metadata": {},
   "source": [
    "Pick an extension library from PyPI or other sources (something of interest to you). Summarize the functionality provided by the library (one paragraph) and show a usage example. \n",
    "\r",
    "Document step-by-step how to run the example provided. \n",
    "\r",
    "PyPI: https://pypi.python.org/pypi"
   ]
  },
  {
   "cell_type": "markdown",
   "id": "aa80c3bf-81fb-422a-a73a-fd862be21820",
   "metadata": {},
   "source": [
    "**Library** : Request \\\n",
    "**Link** : https://pypi.org/project/request3/\n",
    "\n",
    "**SUMMARY**\\\n",
    "The requests library in Python serves as an essential tool for managing HTTP communication, enabling the initiation of various HTTP requests such as **GET,POST, PUT, PATCH, DELETE** for interaction with web services. It streamlines complex operations like handling cookies, managing sessions, and more. This library is highly versatile and adaptable, finding application in activities like data retrieval from APIs, web scraping for information extraction from web pages, and seamless interaction with web services. Its design is aligned with Python's principles, providing a user-friendly and idiomatic approach to manipulate HTTP requests and responses.\n",
    "\n",
    "Some useful methods in request library are: \n",
    "- get : requests.get() will run a GET request on the input URL and fetch the data\n",
    "- post: request.post() will run a POST request on the input URL with the given input data\n",
    "- patch : request.post() will run a PATCH request on the input URL with the given input data\n",
    "- put : request.post() will run a PUT request on the input URL with the given input data\n",
    "\n",
    "Given below is an example demonstrating GET request using requests module"
   ]
  },
  {
   "cell_type": "code",
   "execution_count": 58,
   "id": "2ad4ec2e-5574-448d-a824-8c0aeb41af2b",
   "metadata": {},
   "outputs": [
    {
     "name": "stdout",
     "output_type": "stream",
     "text": [
      "<!doctype html>\n",
      "<html>\n",
      "<head>\n",
      "    <title>Example Domain</title>\n",
      "\n",
      "    <meta charset=\"utf-8\" />\n",
      "    <meta http-equiv=\"Content-type\" content=\"text/html; charset=utf-8\" />\n",
      "    <meta name=\"viewport\" content=\"width=device-width, initial-scale=1\" />\n",
      "    <style type=\"text/css\">\n",
      "    body {\n",
      "        background-color: #f0f0f2;\n",
      "        margin: 0;\n",
      "        padding: 0;\n",
      "        font-family: -apple-system, system-ui, BlinkMacSystemFont, \"Segoe UI\", \"Open Sans\", \"Helvetica Neue\", Helvetica, Arial, sans-serif;\n",
      "        \n",
      "    }\n",
      "    div {\n",
      "        width: 600px;\n",
      "        margin: 5em auto;\n",
      "        padding: 2em;\n",
      "        background-color: #fdfdff;\n",
      "        border-radius: 0.5em;\n",
      "        box-shadow: 2px 3px 7px 2px rgba(0,0,0,0.02);\n",
      "    }\n",
      "    a:link, a:visited {\n",
      "        color: #38488f;\n",
      "        text-decoration: none;\n",
      "    }\n",
      "    @media (max-width: 700px) {\n",
      "        div {\n",
      "            margin: 0 auto;\n",
      "            width: auto;\n",
      "        }\n",
      "    }\n",
      "    </style>    \n",
      "</head>\n",
      "\n",
      "<body>\n",
      "<div>\n",
      "    <h1>Example Domain</h1>\n",
      "    <p>This domain is for use in illustrative examples in documents. You may use this\n",
      "    domain in literature without prior coordination or asking for permission.</p>\n",
      "    <p><a href=\"https://www.iana.org/domains/example\">More information...</a></p>\n",
      "</div>\n",
      "</body>\n",
      "</html>\n",
      "\n"
     ]
    }
   ],
   "source": [
    "import requests\n",
    "\n",
    "# Input URL\n",
    "url = \"https://www.example.com\"\n",
    "\n",
    "# Getting Contents of the URL using .get() method\n",
    "response = requests.get(url)\n",
    "\n",
    "# If the status_code is 200, means that the query is success\n",
    "if response.status_code == 200:\n",
    "    print(response.text)\n",
    "else:\n",
    "    raise requests.ConnectionError(\"Expected status code 200, but got {}\".format(response.status_code))"
   ]
  },
  {
   "cell_type": "code",
   "execution_count": null,
   "id": "6fbd561a-fd2b-4340-8b51-b65aaa5bff23",
   "metadata": {},
   "outputs": [],
   "source": []
  }
 ],
 "metadata": {
  "kernelspec": {
   "display_name": "Python 3 (ipykernel)",
   "language": "python",
   "name": "python3"
  },
  "language_info": {
   "codemirror_mode": {
    "name": "ipython",
    "version": 3
   },
   "file_extension": ".py",
   "mimetype": "text/x-python",
   "name": "python",
   "nbconvert_exporter": "python",
   "pygments_lexer": "ipython3",
   "version": "3.11.3"
  }
 },
 "nbformat": 4,
 "nbformat_minor": 5
}

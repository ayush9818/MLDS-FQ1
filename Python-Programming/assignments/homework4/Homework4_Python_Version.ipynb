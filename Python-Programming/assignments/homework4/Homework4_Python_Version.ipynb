{
 "cells": [
  {
   "cell_type": "code",
   "execution_count": 144,
   "id": "903c689f",
   "metadata": {},
   "outputs": [],
   "source": [
    "import pandas as pd\n",
    "import warnings\n",
    "warnings.filterwarnings('ignore')"
   ]
  },
  {
   "cell_type": "markdown",
   "id": "a279ca37",
   "metadata": {},
   "source": [
    "## Part 1\n",
    "\n",
    "Read in the movie_reviews.csv file\n",
    " - Print the number of rows in the data set"
   ]
  },
  {
   "cell_type": "code",
   "execution_count": 145,
   "id": "90be5f88",
   "metadata": {},
   "outputs": [
    {
     "data": {
      "text/html": [
       "<div>\n",
       "<style scoped>\n",
       "    .dataframe tbody tr th:only-of-type {\n",
       "        vertical-align: middle;\n",
       "    }\n",
       "\n",
       "    .dataframe tbody tr th {\n",
       "        vertical-align: top;\n",
       "    }\n",
       "\n",
       "    .dataframe thead th {\n",
       "        text-align: right;\n",
       "    }\n",
       "</style>\n",
       "<table border=\"1\" class=\"dataframe\">\n",
       "  <thead>\n",
       "    <tr style=\"text-align: right;\">\n",
       "      <th></th>\n",
       "      <th>movie_title</th>\n",
       "      <th>movie_info</th>\n",
       "      <th>rating</th>\n",
       "      <th>genre</th>\n",
       "      <th>directors</th>\n",
       "      <th>in_theaters_date</th>\n",
       "      <th>on_streaming_date</th>\n",
       "      <th>runtime_in_minutes</th>\n",
       "      <th>critic_rating</th>\n",
       "      <th>critic_count</th>\n",
       "      <th>audience_rating</th>\n",
       "      <th>audience_count</th>\n",
       "    </tr>\n",
       "  </thead>\n",
       "  <tbody>\n",
       "    <tr>\n",
       "      <th>0</th>\n",
       "      <td>Percy Jackson &amp; the Olympians: The Lightning T...</td>\n",
       "      <td>A teenager discovers he's the descendant of a ...</td>\n",
       "      <td>PG</td>\n",
       "      <td>Action &amp; Adventure, Comedy, Drama, Science Fic...</td>\n",
       "      <td>Chris Columbus</td>\n",
       "      <td>2/12/10</td>\n",
       "      <td>6/29/10</td>\n",
       "      <td>83.0</td>\n",
       "      <td>49</td>\n",
       "      <td>144</td>\n",
       "      <td>53.0</td>\n",
       "      <td>254287.0</td>\n",
       "    </tr>\n",
       "    <tr>\n",
       "      <th>1</th>\n",
       "      <td>Please Give</td>\n",
       "      <td>Kate has a lot on her mind. There's the ethics...</td>\n",
       "      <td>R</td>\n",
       "      <td>Comedy</td>\n",
       "      <td>Nicole Holofcener</td>\n",
       "      <td>4/30/10</td>\n",
       "      <td>10/19/10</td>\n",
       "      <td>90.0</td>\n",
       "      <td>86</td>\n",
       "      <td>140</td>\n",
       "      <td>64.0</td>\n",
       "      <td>11567.0</td>\n",
       "    </tr>\n",
       "  </tbody>\n",
       "</table>\n",
       "</div>"
      ],
      "text/plain": [
       "                                         movie_title   \n",
       "0  Percy Jackson & the Olympians: The Lightning T...  \\\n",
       "1                                        Please Give   \n",
       "\n",
       "                                          movie_info rating   \n",
       "0  A teenager discovers he's the descendant of a ...     PG  \\\n",
       "1  Kate has a lot on her mind. There's the ethics...      R   \n",
       "\n",
       "                                               genre          directors   \n",
       "0  Action & Adventure, Comedy, Drama, Science Fic...     Chris Columbus  \\\n",
       "1                                             Comedy  Nicole Holofcener   \n",
       "\n",
       "  in_theaters_date on_streaming_date  runtime_in_minutes  critic_rating   \n",
       "0          2/12/10           6/29/10                83.0             49  \\\n",
       "1          4/30/10          10/19/10                90.0             86   \n",
       "\n",
       "   critic_count  audience_rating  audience_count  \n",
       "0           144             53.0        254287.0  \n",
       "1           140             64.0         11567.0  "
      ]
     },
     "execution_count": 145,
     "metadata": {},
     "output_type": "execute_result"
    }
   ],
   "source": [
    "df = pd.read_csv('movie_reviews.csv')\n",
    "df.head(2)"
   ]
  },
  {
   "cell_type": "code",
   "execution_count": 146,
   "id": "c9615132",
   "metadata": {},
   "outputs": [
    {
     "name": "stdout",
     "output_type": "stream",
     "text": [
      "Number of Rows: 16638\n"
     ]
    }
   ],
   "source": [
    "print(f\"Number of Rows: {df.shape[0]}\")"
   ]
  },
  {
   "cell_type": "markdown",
   "id": "551c27a4",
   "metadata": {},
   "source": [
    "## Part 2\n",
    "Filter the data to only contain “popular” movies that were released in\n",
    "theatres before 2010 (popular = movies with more audience reviews than\n",
    "the average number of audience reviews of all movies before 2010)\n",
    "- Print the number of rows in the output"
   ]
  },
  {
   "cell_type": "code",
   "execution_count": 147,
   "id": "27b8a610",
   "metadata": {},
   "outputs": [],
   "source": [
    "#df[df.in_theaters_date == '4/13/18']"
   ]
  },
  {
   "cell_type": "code",
   "execution_count": 148,
   "id": "5e4bb6aa",
   "metadata": {},
   "outputs": [],
   "source": [
    "#19, 20, 21, 22, 23 --> 1900 + x"
   ]
  },
  {
   "cell_type": "code",
   "execution_count": 150,
   "id": "79ef8cc8",
   "metadata": {},
   "outputs": [],
   "source": [
    "year_list = []\n",
    "for d in df['in_theaters_date']:\n",
    "    try:\n",
    "        x = int(d.split('/')[-1])\n",
    "        if x < 19:\n",
    "            year_list.append(2000+x)\n",
    "        else:\n",
    "            year_list.append(1900+x)\n",
    "    except:\n",
    "        pass"
   ]
  },
  {
   "cell_type": "code",
   "execution_count": 152,
   "id": "e71fb6ed",
   "metadata": {},
   "outputs": [
    {
     "data": {
      "text/html": [
       "<div>\n",
       "<style scoped>\n",
       "    .dataframe tbody tr th:only-of-type {\n",
       "        vertical-align: middle;\n",
       "    }\n",
       "\n",
       "    .dataframe tbody tr th {\n",
       "        vertical-align: top;\n",
       "    }\n",
       "\n",
       "    .dataframe thead th {\n",
       "        text-align: right;\n",
       "    }\n",
       "</style>\n",
       "<table border=\"1\" class=\"dataframe\">\n",
       "  <thead>\n",
       "    <tr style=\"text-align: right;\">\n",
       "      <th></th>\n",
       "      <th>year_num</th>\n",
       "    </tr>\n",
       "  </thead>\n",
       "  <tbody>\n",
       "    <tr>\n",
       "      <th>0</th>\n",
       "      <td>2010</td>\n",
       "    </tr>\n",
       "    <tr>\n",
       "      <th>1</th>\n",
       "      <td>2010</td>\n",
       "    </tr>\n",
       "    <tr>\n",
       "      <th>2</th>\n",
       "      <td>1979</td>\n",
       "    </tr>\n",
       "    <tr>\n",
       "      <th>3</th>\n",
       "      <td>1957</td>\n",
       "    </tr>\n",
       "    <tr>\n",
       "      <th>4</th>\n",
       "      <td>1954</td>\n",
       "    </tr>\n",
       "  </tbody>\n",
       "</table>\n",
       "</div>"
      ],
      "text/plain": [
       "   year_num\n",
       "0      2010\n",
       "1      2010\n",
       "2      1979\n",
       "3      1957\n",
       "4      1954"
      ]
     },
     "execution_count": 152,
     "metadata": {},
     "output_type": "execute_result"
    }
   ],
   "source": [
    "y = pd.DataFrame({'year_num' : year_list})\n",
    "y.head()"
   ]
  },
  {
   "cell_type": "code",
   "execution_count": 154,
   "id": "18e4cd23",
   "metadata": {},
   "outputs": [
    {
     "data": {
      "text/plain": [
       "10135"
      ]
     },
     "execution_count": 154,
     "metadata": {},
     "output_type": "execute_result"
    }
   ],
   "source": [
    "sum(y.year_num < 2010)"
   ]
  },
  {
   "cell_type": "code",
   "execution_count": 155,
   "id": "4bb7ef9b",
   "metadata": {},
   "outputs": [],
   "source": [
    "def adjust_year(date):\n",
    "    try:\n",
    "        year = int(date.split('/')[-1])\n",
    "        if year < 19:\n",
    "            return 2000+year\n",
    "        return 1900+year\n",
    "    except:\n",
    "        return date"
   ]
  },
  {
   "cell_type": "code",
   "execution_count": 156,
   "id": "ae51548c",
   "metadata": {},
   "outputs": [],
   "source": [
    "# df['in_theaters_date'] = df['in_theaters_date'].apply(lambda x : adjust_year(x))\n",
    "# df.in_theaters_date.head()"
   ]
  },
  {
   "cell_type": "code",
   "execution_count": 157,
   "id": "be4cccbe",
   "metadata": {},
   "outputs": [
    {
     "name": "stdout",
     "output_type": "stream",
     "text": [
      "10135\n",
      "Number of Rows : 1030\n"
     ]
    }
   ],
   "source": [
    "df['in_theater_year'] = df['in_theaters_date'].apply(lambda x : adjust_year(x))\n",
    "df_before_2k10 = df[df.in_theater_year < 2010]\n",
    "print(df_before_2k10.shape[0])\n",
    "\n",
    "mean_audience_count = df_before_2k10.audience_count.mean()\n",
    "df_pop_2k10 = df_before_2k10[df_before_2k10.audience_count > mean_audience_count]\n",
    "\n",
    "print(f\"Number of Rows : {df_pop_2k10.shape[0]}\")"
   ]
  },
  {
   "cell_type": "code",
   "execution_count": 158,
   "id": "ce71b18e",
   "metadata": {},
   "outputs": [
    {
     "data": {
      "text/plain": [
       "236882.80483919146"
      ]
     },
     "execution_count": 158,
     "metadata": {},
     "output_type": "execute_result"
    }
   ],
   "source": [
    "mean_audience_count"
   ]
  },
  {
   "cell_type": "markdown",
   "id": "70c00f3c",
   "metadata": {},
   "source": [
    "## Part 3\n",
    "\n",
    "Using the filtered data, display the percent of movies that fall under each\n",
    "type of rating (R, PG-13, etc.)\n",
    "- Share an insight from the summary table"
   ]
  },
  {
   "cell_type": "code",
   "execution_count": 159,
   "id": "eec8711c",
   "metadata": {},
   "outputs": [
    {
     "data": {
      "text/html": [
       "<div>\n",
       "<style scoped>\n",
       "    .dataframe tbody tr th:only-of-type {\n",
       "        vertical-align: middle;\n",
       "    }\n",
       "\n",
       "    .dataframe tbody tr th {\n",
       "        vertical-align: top;\n",
       "    }\n",
       "\n",
       "    .dataframe thead th {\n",
       "        text-align: right;\n",
       "    }\n",
       "</style>\n",
       "<table border=\"1\" class=\"dataframe\">\n",
       "  <thead>\n",
       "    <tr style=\"text-align: right;\">\n",
       "      <th></th>\n",
       "      <th>rating</th>\n",
       "      <th>rating_count</th>\n",
       "      <th>rating_perc</th>\n",
       "    </tr>\n",
       "  </thead>\n",
       "  <tbody>\n",
       "    <tr>\n",
       "      <th>0</th>\n",
       "      <td>PG-13</td>\n",
       "      <td>426</td>\n",
       "      <td>41.36</td>\n",
       "    </tr>\n",
       "    <tr>\n",
       "      <th>1</th>\n",
       "      <td>R</td>\n",
       "      <td>336</td>\n",
       "      <td>32.62</td>\n",
       "    </tr>\n",
       "    <tr>\n",
       "      <th>2</th>\n",
       "      <td>PG</td>\n",
       "      <td>200</td>\n",
       "      <td>19.42</td>\n",
       "    </tr>\n",
       "    <tr>\n",
       "      <th>3</th>\n",
       "      <td>G</td>\n",
       "      <td>66</td>\n",
       "      <td>6.41</td>\n",
       "    </tr>\n",
       "    <tr>\n",
       "      <th>4</th>\n",
       "      <td>NR</td>\n",
       "      <td>2</td>\n",
       "      <td>0.19</td>\n",
       "    </tr>\n",
       "  </tbody>\n",
       "</table>\n",
       "</div>"
      ],
      "text/plain": [
       "  rating  rating_count  rating_perc\n",
       "0  PG-13           426        41.36\n",
       "1      R           336        32.62\n",
       "2     PG           200        19.42\n",
       "3      G            66         6.41\n",
       "4     NR             2         0.19"
      ]
     },
     "execution_count": 159,
     "metadata": {},
     "output_type": "execute_result"
    }
   ],
   "source": [
    "rating_counts = df_pop_2k10.rating.value_counts().reset_index()\n",
    "rating_counts.rename(columns={'count' : 'rating_count'}, inplace=True)\n",
    "total_movie_count = rating_counts['rating_count'].sum()\n",
    "\n",
    "rating_counts['rating_perc'] = round(rating_counts['rating_count'] / total_movie_count * 100,2)\n",
    "rating_counts"
   ]
  },
  {
   "cell_type": "markdown",
   "id": "ce298f0c",
   "metadata": {},
   "source": [
    "## Part 4\n",
    "\n",
    "Engineer a new feature from any of the existing columns\n",
    "- Create a summary table using the new feature\n",
    "- Share an insight from the summary table"
   ]
  },
  {
   "cell_type": "markdown",
   "id": "467c92bc",
   "metadata": {},
   "source": [
    "#### Feature 1\n",
    "\n",
    "**Runtime Categories:** \n",
    "\n",
    "Movies are categorized into \n",
    "- 'Short' (less than 90 minutes)\n",
    "- 'Medium' (90 to 120 minutes)\n",
    "- 'Long' (more than 120 minutes). \n",
    "\n",
    "This categorization can help analyze trends across different movie durations."
   ]
  },
  {
   "cell_type": "code",
   "execution_count": null,
   "id": "bff7ff35",
   "metadata": {},
   "outputs": [],
   "source": []
  }
 ],
 "metadata": {
  "kernelspec": {
   "display_name": "Python 3 (ipykernel)",
   "language": "python",
   "name": "python3"
  },
  "language_info": {
   "codemirror_mode": {
    "name": "ipython",
    "version": 3
   },
   "file_extension": ".py",
   "mimetype": "text/x-python",
   "name": "python",
   "nbconvert_exporter": "python",
   "pygments_lexer": "ipython3",
   "version": "3.10.13"
  }
 },
 "nbformat": 4,
 "nbformat_minor": 5
}

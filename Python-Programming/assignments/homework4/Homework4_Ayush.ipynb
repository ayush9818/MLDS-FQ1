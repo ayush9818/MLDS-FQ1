{
 "cells": [
  {
   "cell_type": "markdown",
   "id": "427e68d8",
   "metadata": {},
   "source": [
    "# Question 1\n",
    "\n",
    "**Write a function**\n",
    "- The function should\n",
    "    - Take in a string\n",
    "    - Split the string on spaces\n",
    "    - Remove a few punctuation marks (.,?!)\n",
    "    - Make the text lowercase\n",
    "    - Return the most common word in the string\n",
    "- Input a test string (‘I bought a sandwich with a side of chips!’) into the function and print the output"
   ]
  },
  {
   "cell_type": "code",
   "execution_count": 11,
   "id": "e3f92428",
   "metadata": {},
   "outputs": [
    {
     "name": "stderr",
     "output_type": "stream",
     "text": [
      "\u001b[32m\u001b[1m   Resolving\u001b[22m\u001b[39m package versions...\n",
      "\u001b[32m\u001b[1m  No Changes\u001b[22m\u001b[39m to `~/.julia/environments/v1.9/Project.toml`\n",
      "\u001b[32m\u001b[1m  No Changes\u001b[22m\u001b[39m to `~/.julia/environments/v1.9/Manifest.toml`\n"
     ]
    }
   ],
   "source": [
    "import Pkg; Pkg.add(\"DataStructures\")"
   ]
  },
  {
   "cell_type": "code",
   "execution_count": 21,
   "id": "aa0adc09",
   "metadata": {},
   "outputs": [
    {
     "name": "stdout",
     "output_type": "stream",
     "text": [
      "The most common word is: a\n"
     ]
    }
   ],
   "source": [
    "using DataStructures\n",
    "\n",
    "function find_most_common_word(text::String)\n",
    "    # Split the string on spaces\n",
    "    words = split(text)\n",
    "    \n",
    "    # Remove punctuation marks and make each word lowercase\n",
    "    words = map(w -> lowercase(replace(w, r\"[,.!?]\" => \"\")), words)\n",
    "    \n",
    "    # Count the frequency of each word\n",
    "    word_counts = counter(words)\n",
    "    \n",
    "    # Find the word with the maximum frequency\n",
    "    freq, most_common_word = findmax(word_counts)\n",
    "    \n",
    "    return most_common_word\n",
    "end\n",
    "\n",
    "# Test the function with a given string\n",
    "test_string = \"I bought a sandwich with a side of chips!\"\n",
    "println(\"The most common word is: \", find_most_common_word(test_string))"
   ]
  },
  {
   "cell_type": "markdown",
   "id": "426d90a6",
   "metadata": {},
   "source": [
    "# Question 2"
   ]
  },
  {
   "cell_type": "markdown",
   "id": "517b1af0",
   "metadata": {},
   "source": [
    "### Part 1\n",
    "Read in the movie_reviews.csv file\n",
    "- Print the number of rows in the data set"
   ]
  },
  {
   "cell_type": "code",
   "execution_count": 26,
   "id": "ddbbc5df",
   "metadata": {},
   "outputs": [],
   "source": [
    "#Pkg.add(\"DataFrames\")\n",
    "#Pkg.add(\"CSV\")\n",
    "using DataFrames\n",
    "using CSV"
   ]
  },
  {
   "cell_type": "code",
   "execution_count": 64,
   "id": "f97fba71",
   "metadata": {
    "scrolled": true
   },
   "outputs": [
    {
     "name": "stdout",
     "output_type": "stream",
     "text": [
      "Number of Rows: 16638\n"
     ]
    }
   ],
   "source": [
    "# Read in the movie_reviews.csv file\n",
    "df = CSV.read(\"movie_reviews.csv\", DataFrame)\n",
    "\n",
    "# Print the number of rows in the data set\n",
    "println(\"Number of Rows: $(size(df, 1))\")"
   ]
  },
  {
   "cell_type": "markdown",
   "id": "bd4dc08b",
   "metadata": {},
   "source": [
    "### Part 2\n",
    "Filter the data to only contain “popular” movies that were released in\n",
    "theatres before 2010 (popular = movies with more audience reviews than\n",
    "the average number of audience reviews of all movies before 2010)\n",
    "- Print the number of rows in the output"
   ]
  },
  {
   "cell_type": "code",
   "execution_count": 72,
   "id": "4d49c62f",
   "metadata": {},
   "outputs": [
    {
     "name": "stdout",
     "output_type": "stream",
     "text": [
      "Number of Rows before 2010: 10135\n",
      "Number of popular movies Rows before 2010: 1030\n"
     ]
    }
   ],
   "source": [
    "#Pkg.add(\"Dates\")\n",
    "using Dates, Statistics\n",
    "\n",
    "# Omit rows with missing dates\n",
    "df = dropmissing(df, :in_theaters_date)\n",
    "\n",
    "# Function to decide the correct century\n",
    "function add_century(year::Int)\n",
    "    # If the year is less than 50, assume it's 2000's; otherwise, it's 1900's\n",
    "    return year < 19 ? 2000 + year : 1900 + year\n",
    "end\n",
    "\n",
    "# Parse the dates and adjust the years\n",
    "df[!, :in_theater_year] = [add_century(year(d)) for d in Date.(df[!, :in_theaters_date], DateFormat(\"m/d/y\"))]\n",
    "\n",
    "# Filter the DataFrame to only contain rows where the movie was released before 2010\n",
    "df_before_2k10 = filter(row -> row[:in_theater_year] < 2010, df)\n",
    "\n",
    "# Print the number of rows in the data set before 2010\n",
    "println(\"Number of Rows before 2010: $(nrow(df_before_2k10))\")\n",
    "\n",
    "# Calculate the mean audience count for movies before 2010\n",
    "mean_audience_count = float(mean(skipmissing(df_before_2k10[!, :audience_count])))\n",
    "\n",
    "# Filter the df to contain only popular movies, i.e., those with more audience reviews than the average\n",
    "df_pop_2k10 = filter(row -> !ismissing(row[:audience_count]) && row[:audience_count] > mean_audience_count, df_before_2k10)\n",
    "\n",
    "# Print the number of rows of popular movies before 2010\n",
    "println(\"Number of popular movies Rows before 2010: $(nrow(df_pop_2k10))\")"
   ]
  },
  {
   "cell_type": "markdown",
   "id": "f76ff43c",
   "metadata": {},
   "source": [
    "### Part 3\n",
    "Using the filtered data, display the percent of movies that fall under each type of rating (R, PG-13, etc.)\n",
    "- Share an insight from the summary table"
   ]
  },
  {
   "cell_type": "code",
   "execution_count": 80,
   "id": "06418e32",
   "metadata": {},
   "outputs": [
    {
     "data": {
      "text/html": [
       "<div><div style = \"float: left;\"><span>5×3 DataFrame</span></div><div style = \"clear: both;\"></div></div><div class = \"data-frame\" style = \"overflow-x: scroll;\"><table class = \"data-frame\" style = \"margin-bottom: 6px;\"><thead><tr class = \"header\"><th class = \"rowNumber\" style = \"font-weight: bold; text-align: right;\">Row</th><th style = \"text-align: left;\">rating</th><th style = \"text-align: left;\">rating_count</th><th style = \"text-align: left;\">rating_perc</th></tr><tr class = \"subheader headerLastRow\"><th class = \"rowNumber\" style = \"font-weight: bold; text-align: right;\"></th><th title = \"String7\" style = \"text-align: left;\">String7</th><th title = \"Int64\" style = \"text-align: left;\">Int64</th><th title = \"Float64\" style = \"text-align: left;\">Float64</th></tr></thead><tbody><tr><td class = \"rowNumber\" style = \"font-weight: bold; text-align: right;\">1</td><td style = \"text-align: left;\">PG</td><td style = \"text-align: right;\">200</td><td style = \"text-align: right;\">19.42</td></tr><tr><td class = \"rowNumber\" style = \"font-weight: bold; text-align: right;\">2</td><td style = \"text-align: left;\">R</td><td style = \"text-align: right;\">336</td><td style = \"text-align: right;\">32.62</td></tr><tr><td class = \"rowNumber\" style = \"font-weight: bold; text-align: right;\">3</td><td style = \"text-align: left;\">NR</td><td style = \"text-align: right;\">2</td><td style = \"text-align: right;\">0.19</td></tr><tr><td class = \"rowNumber\" style = \"font-weight: bold; text-align: right;\">4</td><td style = \"text-align: left;\">G</td><td style = \"text-align: right;\">66</td><td style = \"text-align: right;\">6.41</td></tr><tr><td class = \"rowNumber\" style = \"font-weight: bold; text-align: right;\">5</td><td style = \"text-align: left;\">PG-13</td><td style = \"text-align: right;\">426</td><td style = \"text-align: right;\">41.36</td></tr></tbody></table></div>"
      ],
      "text/latex": [
       "\\begin{tabular}{r|ccc}\n",
       "\t& rating & rating\\_count & rating\\_perc\\\\\n",
       "\t\\hline\n",
       "\t& String7 & Int64 & Float64\\\\\n",
       "\t\\hline\n",
       "\t1 & PG & 200 & 19.42 \\\\\n",
       "\t2 & R & 336 & 32.62 \\\\\n",
       "\t3 & NR & 2 & 0.19 \\\\\n",
       "\t4 & G & 66 & 6.41 \\\\\n",
       "\t5 & PG-13 & 426 & 41.36 \\\\\n",
       "\\end{tabular}\n"
      ],
      "text/plain": [
       "\u001b[1m5×3 DataFrame\u001b[0m\n",
       "\u001b[1m Row \u001b[0m│\u001b[1m rating  \u001b[0m\u001b[1m rating_count \u001b[0m\u001b[1m rating_perc \u001b[0m\n",
       "     │\u001b[90m String7 \u001b[0m\u001b[90m Int64        \u001b[0m\u001b[90m Float64     \u001b[0m\n",
       "─────┼────────────────────────────────────\n",
       "   1 │ PG                200        19.42\n",
       "   2 │ R                 336        32.62\n",
       "   3 │ NR                  2         0.19\n",
       "   4 │ G                  66         6.41\n",
       "   5 │ PG-13             426        41.36"
      ]
     },
     "execution_count": 80,
     "metadata": {},
     "output_type": "execute_result"
    }
   ],
   "source": [
    "rating_counts = combine(groupby(df_pop_2k10, :rating, skipmissing=true), nrow => :rating_count)\n",
    "\n",
    "# Calculate the total count of movies; skipmissing is used to ensure missing values don't affect the sum\n",
    "total_movie_count = sum(skipmissing(rating_counts[!, :rating_count]))\n",
    "\n",
    "# Calculate the percentage of each rating count\n",
    "rating_counts[!, :rating_perc] = round.((rating_counts[!, :rating_count] ./ total_movie_count) .* 100, digits=2)\n",
    "\n",
    "rating_counts"
   ]
  },
  {
   "cell_type": "markdown",
   "id": "785f3a75",
   "metadata": {},
   "source": [
    "### Part 4\n",
    "\n",
    "Engineer a new feature from any of the existing columns\n",
    "- Create a summary table using the new feature\n",
    "- Share an insight from the summary table"
   ]
  },
  {
   "cell_type": "markdown",
   "id": "5a2a652f",
   "metadata": {},
   "source": [
    "#### Feature 1\n",
    "\n",
    "**Runtime Categories:** \n",
    "\n",
    "Movies are categorized into \n",
    "- 'Short' (less than 90 minutes)\n",
    "- 'Medium' (90 to 120 minutes)\n",
    "- 'Long' (more than 120 minutes). \n",
    "\n",
    "This categorization can help analyze trends across different movie durations.\n",
    "\n",
    "**Insight:**\n",
    "- Most movies are of medium length (90-120 minutes), indicating this as a preferred movie length. \n",
    "- Short and long movies are less common, suggesting specific audience or artistic choices."
   ]
  },
  {
   "cell_type": "code",
   "execution_count": 84,
   "id": "042b693d",
   "metadata": {},
   "outputs": [
    {
     "name": "stdout",
     "output_type": "stream",
     "text": [
      "\u001b[1m4×2 DataFrame\u001b[0m\n",
      "\u001b[1m Row \u001b[0m│\u001b[1m runtime_category \u001b[0m\u001b[1m count \u001b[0m\n",
      "     │\u001b[90m String           \u001b[0m\u001b[90m Int64 \u001b[0m\n",
      "─────┼─────────────────────────\n",
      "   1 │ Short              3202\n",
      "   2 │ Medium            10384\n",
      "   3 │ Long               2112\n",
      "   4 │ Unknown             125\n"
     ]
    }
   ],
   "source": [
    "# Define the categorize_runtime function that maps a runtime to a category\n",
    "function categorize_runtime(runtime)\n",
    "    if ismissing(runtime) || runtime < 0\n",
    "        return \"Unknown\"  # Handling missing or invalid data\n",
    "    elseif runtime < 90\n",
    "        return \"Short\"\n",
    "    elseif runtime <= 120\n",
    "        return \"Medium\"\n",
    "    else\n",
    "        return \"Long\"\n",
    "    end\n",
    "end\n",
    "\n",
    "# Apply the function to each row in the runtime_in_minutes column\n",
    "# to create the runtime_category column (Assuming 'runtime_in_minutes' is the column name in your CSV)\n",
    "df.runtime_category = map(categorize_runtime, df.runtime_in_minutes)\n",
    "\n",
    "# Generate the summary table by counting the number of occurrences of each runtime category\n",
    "runtime_summary = combine(groupby(df, :runtime_category), nrow => :count)\n",
    "\n",
    "# Display the summary table\n",
    "println(runtime_summary)"
   ]
  },
  {
   "cell_type": "markdown",
   "id": "fa9e4a8d",
   "metadata": {},
   "source": [
    "#### Feature 2\n",
    "\n",
    "**Genre Count:**\n",
    "Counts the number of genres associated with each movie. This feature could provide insights into the complexity or audience appeal based on the variety of genres.\n",
    "\n",
    "**Insights**\n",
    "- G' rated movies have the highest average number of genres, indicating these movies might be targeting a broader audience, including families and children, with diverse themes.\n",
    "- PG-13 and R-rated movies have a similar average genre count, suggesting a consistent approach in targeting their respective audiences."
   ]
  },
  {
   "cell_type": "code",
   "execution_count": 88,
   "id": "4f988f8b",
   "metadata": {},
   "outputs": [
    {
     "name": "stdout",
     "output_type": "stream",
     "text": [
      "\u001b[1m6×2 DataFrame\u001b[0m\n",
      "\u001b[1m Row \u001b[0m│\u001b[1m rating  \u001b[0m\u001b[1m genre_count_function \u001b[0m\n",
      "     │\u001b[90m String7 \u001b[0m\u001b[90m Float64              \u001b[0m\n",
      "─────┼───────────────────────────────\n",
      "   1 │ PG                    2.51918\n",
      "   2 │ R                     2.10727\n",
      "   3 │ NR                    2.31221\n",
      "   4 │ G                     3.12934\n",
      "   5 │ PG-13                 2.0951\n",
      "   6 │ NC17                  2.71429\n"
     ]
    }
   ],
   "source": [
    "function count_genres(genre_str)\n",
    "    if ismissing(genre_str)\n",
    "        return missing  # Return missing if the genre string is missing\n",
    "    else\n",
    "        return length(split(genre_str, \", \"))  # Split on \", \" and count the genres\n",
    "    end\n",
    "end\n",
    "\n",
    "# Generate \"Genre Count\" feature, handling missing values\n",
    "df[!, :genre_count] = map(count_genres, df[!, :genre])\n",
    "\n",
    "# Summary Table for Genre Count (grouped by rating)\n",
    "genre_count_summary = combine(groupby(df, :rating), \n",
    "                              :genre_count => x -> mean(skipmissing(x)))\n",
    "\n",
    "# Display the summary table\n",
    "println(genre_count_summary)\n"
   ]
  },
  {
   "cell_type": "markdown",
   "id": "a5463fc4",
   "metadata": {},
   "source": [
    "# Question 3\n",
    "Explore an external library\n",
    "- Import a library that wasn’t covered in class\n",
    "- Explain how it works\n",
    "- Show an example of the library in action"
   ]
  },
  {
   "cell_type": "markdown",
   "id": "147b4227",
   "metadata": {},
   "source": [
    "For this Question, I will be exploring HTTP.jl package\n",
    "\n",
    "### Description of HTTP.jl:\n",
    "HTTP.jl is a Julia library for handling HTTP requests and responses. It provides a range of functionalities to facilitate both the client-side and server-side of HTTP communications.\n",
    "\n",
    "### How It Works ? \n",
    "- On the client-side, HTTP.jl allows users to send HTTP requests to servers and handle the responses. Various HTTP request methods like GET, POST, PUT, DELETE, etc can be performed using this. It provides functions to customize headers, handle authentication, and manage cookies.\n",
    "- On the server-side, HTTP.jl enables us to build a web server that can listen for HTTP requests and send responses back to clients. We can define endpoints, set up routing, and handle different HTTP methods. It also provides middleware functionality for tasks like logging and session management.\n",
    "\n",
    "### Primary Methods and Functions:\n",
    "- **HTTP.request:** General function for making HTTP requests.\n",
    "- **HTTP.get, HTTP.post, HTTP.put, HTTP.delete:** Specific functions for making HTTP GET, POST, PUT, and DELETE requests, respectively.\n",
    "- **HTTP.serve:** Function to start a server and listen for requests.\n",
    "- **HTTP.Response:** A type that represents an HTTP response, including status, headers, and body.\n",
    "- **HTTP.listen:** A lower-level function for handling incoming connections."
   ]
  },
  {
   "cell_type": "markdown",
   "id": "ebbf52b2",
   "metadata": {},
   "source": [
    "### Example 1: Making a GET Request\n",
    "\n",
    "This example sends a GET request to httpbin.org, which is a service for testing HTTP requests and responses. It then prints out the status code and the body of the response."
   ]
  },
  {
   "cell_type": "code",
   "execution_count": 91,
   "id": "affadc00",
   "metadata": {},
   "outputs": [
    {
     "name": "stdout",
     "output_type": "stream",
     "text": [
      "Status Code: 200\n",
      "Response Body: {\n",
      "  \"args\": {}, \n",
      "  \"headers\": {\n",
      "    \"Accept\": \"*/*\", \n",
      "    \"Accept-Encoding\": \"gzip\", \n",
      "    \"Content-Length\": \"0\", \n",
      "    \"Host\": \"httpbin.org\", \n",
      "    \"User-Agent\": \"HTTP.jl/1.9.4\", \n",
      "    \"X-Amzn-Trace-Id\": \"Root=1-6568fab4-29552fe13993c27e473c205a\"\n",
      "  }, \n",
      "  \"origin\": \"76.150.189.181\", \n",
      "  \"url\": \"https://httpbin.org/get\"\n",
      "}\n",
      "\n"
     ]
    }
   ],
   "source": [
    "#Pkg.add(\"HTTP\")\n",
    "using HTTP\n",
    "\n",
    "# Send a GET request to an API endpoint\n",
    "response = HTTP.get(\"https://httpbin.org/get\")\n",
    "\n",
    "# Display the status code and body of the response\n",
    "println(\"Status Code: \", response.status)\n",
    "println(\"Response Body: \", String(response.body))"
   ]
  },
  {
   "cell_type": "markdown",
   "id": "e4331e51",
   "metadata": {},
   "source": [
    "### Example 2: Sending a POST Request with Data\n",
    "\n",
    "In this example, a POST request is sent with a JSON body containing some data. The Content-Type header is set to application/json."
   ]
  },
  {
   "cell_type": "code",
   "execution_count": 94,
   "id": "af02b70b",
   "metadata": {},
   "outputs": [
    {
     "name": "stdout",
     "output_type": "stream",
     "text": [
      "Status Code: 200\n",
      "Response Body: {\n",
      "  \"args\": {}, \n",
      "  \"data\": \"{\\\"name\\\":\\\"Julia\\\",\\\"language\\\":\\\"JuliaLang\\\"}\", \n",
      "  \"files\": {}, \n",
      "  \"form\": {}, \n",
      "  \"headers\": {\n",
      "    \"Accept\": \"*/*\", \n",
      "    \"Accept-Encoding\": \"gzip\", \n",
      "    \"Content-Length\": \"39\", \n",
      "    \"Content-Type\": \"application/json\", \n",
      "    \"Host\": \"httpbin.org\", \n",
      "    \"User-Agent\": \"HTTP.jl/1.9.4\", \n",
      "    \"X-Amzn-Trace-Id\": \"Root=1-6568fae6-4388cca95545ecd24e5e10f3\"\n",
      "  }, \n",
      "  \"json\": {\n",
      "    \"language\": \"JuliaLang\", \n",
      "    \"name\": \"Julia\"\n",
      "  }, \n",
      "  \"origin\": \"76.150.189.181\", \n",
      "  \"url\": \"https://httpbin.org/post\"\n",
      "}\n",
      "\n"
     ]
    }
   ],
   "source": [
    "#Pkg.add(\"JSON\")\n",
    "using HTTP\n",
    "using JSON\n",
    "\n",
    "# Data to be sent in the request body\n",
    "data = Dict(\"name\" => \"Julia\", \"language\" => \"JuliaLang\")\n",
    "\n",
    "# Convert data to JSON\n",
    "json_data = JSON.json(data)\n",
    "\n",
    "# Send a POST request with JSON data\n",
    "response = HTTP.post(\"https://httpbin.org/post\", body=json_data, headers=Dict(\"Content-Type\" => \"application/json\"))\n",
    "\n",
    "# Display the status code and body of the response\n",
    "println(\"Status Code: \", response.status)\n",
    "println(\"Response Body: \", String(response.body))"
   ]
  }
 ],
 "metadata": {
  "kernelspec": {
   "display_name": "Julia 1.9.4",
   "language": "julia",
   "name": "julia-1.9"
  },
  "language_info": {
   "file_extension": ".jl",
   "mimetype": "application/julia",
   "name": "julia",
   "version": "1.9.4"
  }
 },
 "nbformat": 4,
 "nbformat_minor": 5
}

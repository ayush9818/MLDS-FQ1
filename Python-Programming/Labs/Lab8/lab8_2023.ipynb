{
 "cells": [
  {
   "cell_type": "markdown",
   "metadata": {},
   "source": [
    "## Lab 8 - Threading Project 2 11/15/23"
   ]
  },
  {
   "cell_type": "markdown",
   "metadata": {},
   "source": [
    "### Weather API (Without Threading)"
   ]
  },
  {
   "cell_type": "code",
   "execution_count": 25,
   "metadata": {},
   "outputs": [],
   "source": [
    "import requests\n",
    "import statistics\n",
    "import pandas as pd\n",
    "import matplotlib.pyplot as plt\n",
    "import turtle\n",
    "from threading import Thread\n",
    "import time\n",
    "import timeit"
   ]
  },
  {
   "cell_type": "code",
   "execution_count": 26,
   "metadata": {},
   "outputs": [],
   "source": [
    "def get_data(city):\n",
    "    data = requests.get(\"http://api.worldweatheronline.com/premium/v1/past-weather.ashx?\"\n",
    "                                + \"key=bea6a4b02a4a4fbda5e150043231511\"\n",
    "                                + \"&q=\" + city\n",
    "                                + \"&date=2023-09-01&enddate=2023-09-30\"\n",
    "                                + \"&format=json\")\n",
    "    result = data.json()\n",
    "    return result"
   ]
  },
  {
   "cell_type": "code",
   "execution_count": 27,
   "metadata": {},
   "outputs": [],
   "source": [
    "city_names = [\"Chicago\", \"Boston\", \"New York\", \"Baltimore\", \"Miami\", \"New Orleans\",\"Dallas\", \"Phoenix\", \"Denver\", \"Detroit\", \"Minneapolis\", \"Los Angeles\", \"San Franscisco\", \"Seattle\", \"Vancouver\", \"Toronto\", \"Montreal\", \"Seoul\", \"Toyko\", \"Beijing\"]"
   ]
  },
  {
   "cell_type": "code",
   "execution_count": 28,
   "metadata": {},
   "outputs": [
    {
     "name": "stdout",
     "output_type": "stream",
     "text": [
      "1.272096872329712\n"
     ]
    }
   ],
   "source": [
    "seq_start = time.time()\n",
    "wo_threading = []\n",
    "for city in city_names:\n",
    "    result = get_data(city)\n",
    "    wo_threading.append(city)\n",
    "seq_end = time.time()\n",
    "seq_time = seq_end - seq_start\n",
    "print(seq_time)"
   ]
  },
  {
   "cell_type": "markdown",
   "metadata": {},
   "source": [
    "### Weather API (With Threading)"
   ]
  },
  {
   "cell_type": "code",
   "execution_count": 29,
   "metadata": {},
   "outputs": [],
   "source": [
    "def get_data_threading(city,results_list,index):\n",
    "    data = requests.get(\"http://api.worldweatheronline.com/premium/v1/past-weather.ashx?\"\n",
    "                                + \"key=bea6a4b02a4a4fbda5e150043231511\"\n",
    "                                + \"&q=\" + city\n",
    "                                + \"&date=2023-09-01&enddate=2023-09-30\"\n",
    "                                + \"&format=json\")\n",
    "    result = data.json()\n",
    "    results_list[index] = result"
   ]
  },
  {
   "cell_type": "code",
   "execution_count": 30,
   "metadata": {},
   "outputs": [
    {
     "name": "stdout",
     "output_type": "stream",
     "text": [
      "<Thread(Thread-147 (get_data_threading), started 6396440576)>\n",
      "<Thread(Thread-148 (get_data_threading), started 6413266944)>\n",
      "<Thread(Thread-149 (get_data_threading), started 6430093312)>\n",
      "<Thread(Thread-150 (get_data_threading), started 10888441856)>\n",
      "<Thread(Thread-151 (get_data_threading), started 10905268224)>\n",
      "<Thread(Thread-152 (get_data_threading), started 10922094592)>\n",
      "<Thread(Thread-153 (get_data_threading), started 10938920960)>\n",
      "<Thread(Thread-154 (get_data_threading), started 10955747328)>\n",
      "<Thread(Thread-155 (get_data_threading), started 10972573696)>\n",
      "<Thread(Thread-156 (get_data_threading), started 10989400064)>\n",
      "<Thread(Thread-157 (get_data_threading), started 11006226432)>\n",
      "<Thread(Thread-158 (get_data_threading), started 11023052800)>\n",
      "<Thread(Thread-159 (get_data_threading), started 11039879168)>\n",
      "<Thread(Thread-160 (get_data_threading), started 11056705536)>\n",
      "<Thread(Thread-161 (get_data_threading), started 11073531904)>\n",
      "<Thread(Thread-162 (get_data_threading), started 11090358272)>\n",
      "<Thread(Thread-163 (get_data_threading), started 11107184640)>\n",
      "<Thread(Thread-164 (get_data_threading), started 11124011008)>\n",
      "<Thread(Thread-165 (get_data_threading), started 11140837376)>\n",
      "<Thread(Thread-166 (get_data_threading), started 11157663744)>\n",
      "0.10839605331420898\n"
     ]
    }
   ],
   "source": [
    "thread_start = time.time()\n",
    "\n",
    "thread_list = [None]*len(city_names)\n",
    "results_list = [None]*len(city_names)\n",
    "\n",
    "i = 0\n",
    "for city in city_names:\n",
    "    thread_list[i] = Thread(target=get_data_threading,args=(city,results_list,i))\n",
    "    thread_list[i].start()\n",
    "    print(thread_list[i])\n",
    "    \n",
    "    i += 1\n",
    "\n",
    "for t in thread_list:\n",
    "    t.join()\n",
    "\n",
    "thread_end = time.time()\n",
    "thread_time = thread_end-thread_start\n",
    "print(thread_time)"
   ]
  },
  {
   "cell_type": "code",
   "execution_count": 31,
   "metadata": {
    "scrolled": true
   },
   "outputs": [
    {
     "name": "stdout",
     "output_type": "stream",
     "text": [
      "The sequential running time is 1.272096872329712 and the thread running time is 0.10839605331420898\n"
     ]
    }
   ],
   "source": [
    "print(\"The sequential running time is\", seq_time, \"and the thread running time is\", thread_time)"
   ]
  },
  {
   "cell_type": "markdown",
   "metadata": {},
   "source": [
    "### Web Scraping without threading"
   ]
  },
  {
   "cell_type": "code",
   "execution_count": 34,
   "metadata": {},
   "outputs": [],
   "source": [
    "import requests\n",
    "from bs4 import BeautifulSoup\n",
    "import pandas as pd\n",
    "\n",
    "def get_alum_data(url):\n",
    "    response = requests.get(url)\n",
    "    soup = BeautifulSoup(response.text)\n",
    "    \n",
    "    # alumni list\n",
    "    alum_list = []\n",
    "    for alum in soup.find_all('div', class_='faculty cf'):\n",
    "        alum_list.append(alum)\n",
    "\n",
    "    # alumni details\n",
    "    alum_details = []\n",
    "    for alum in alum_list:\n",
    "        text_fields = [element.get_text() for element in alum.find_all(string=True)]\n",
    "        alum_details.append(text_fields)\n",
    "\n",
    "    return pd.DataFrame(alum_details)"
   ]
  },
  {
   "cell_type": "code",
   "execution_count": 36,
   "metadata": {},
   "outputs": [
    {
     "name": "stdout",
     "output_type": "stream",
     "text": [
      "1.4739909172058105\n"
     ]
    }
   ],
   "source": [
    "seq_start = time.time()\n",
    "\n",
    "df_list = []\n",
    "\n",
    "years_list = [str(year) for year in range(2013,2023)]\n",
    "\n",
    "for year in years_list:\n",
    "\n",
    "    # update the url\n",
    "    url = 'https://www.mccormick.northwestern.edu/machine-learning-data-science/people/alumni/class-of-' + str_year + '.html'\n",
    "\n",
    "    alum_details = get_alum_data(url)\n",
    "\n",
    "    df_list.append(alum_details)\n",
    "\n",
    "seq_end = time.time()\n",
    "seq_time = seq_end - seq_start\n",
    "print(seq_time)"
   ]
  },
  {
   "cell_type": "code",
   "execution_count": null,
   "metadata": {},
   "outputs": [],
   "source": [
    "def get_alum_data_threading(url,df_list,index):\n",
    "    response = requests.get(url)\n",
    "    soup = BeautifulSoup(response.text)\n",
    "    \n",
    "    # alumni list\n",
    "    alum_list = []\n",
    "    for alum in soup.find_all('div', class_='faculty cf'):\n",
    "        alum_list.append(alum)\n",
    "\n",
    "    # alumni details\n",
    "    alum_details = []\n",
    "    for alum in alum_list:\n",
    "        text_fields = [element.get_text() for element in alum.find_all(string=True)]\n",
    "        alum_details.append(text_fields)\n",
    "\n",
    "    df_list[index] = pd.DataFrame(alum_details)"
   ]
  },
  {
   "cell_type": "code",
   "execution_count": null,
   "metadata": {},
   "outputs": [],
   "source": [
    "thread_start = time.time()\n",
    "\n",
    "thread_list = [None]*len(years_list)\n",
    "results_list = [None]*len(years_list)\n",
    "\n",
    "i = 0\n",
    "for city in city_names:\n",
    "    thread_list[i] = Thread(target=get_data_threading,args=(city,results_list,i))\n",
    "    thread_list[i].start()\n",
    "    print(thread_list[i])\n",
    "    \n",
    "    i += 1\n",
    "\n",
    "for t in thread_list:\n",
    "    t.join()\n",
    "\n",
    "thread_end = time.time()\n",
    "thread_time = thread_end-thread_start\n",
    "print(thread_time)"
   ]
  }
 ],
 "metadata": {
  "kernelspec": {
   "display_name": "Python 3 (ipykernel)",
   "language": "python",
   "name": "python3"
  },
  "language_info": {
   "codemirror_mode": {
    "name": "ipython",
    "version": 3
   },
   "file_extension": ".py",
   "mimetype": "text/x-python",
   "name": "python",
   "nbconvert_exporter": "python",
   "pygments_lexer": "ipython3",
   "version": "3.10.13"
  }
 },
 "nbformat": 4,
 "nbformat_minor": 4
}

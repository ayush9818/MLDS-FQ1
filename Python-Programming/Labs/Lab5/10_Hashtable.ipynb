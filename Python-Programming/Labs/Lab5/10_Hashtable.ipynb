{
 "cells": [
  {
   "cell_type": "markdown",
   "metadata": {},
   "source": [
    "## Hash Visualization\n",
    "\n",
    "#### https://www.cs.usfca.edu/~galles/visualization/Algorithms.html"
   ]
  },
  {
   "cell_type": "markdown",
   "metadata": {},
   "source": [
    "## Simple Hashtable\n",
    "\n",
    "#### fixed size python list of integers"
   ]
  },
  {
   "cell_type": "code",
   "execution_count": 1,
   "metadata": {},
   "outputs": [],
   "source": [
    "# Capacity of the table\n",
    "CAPACITY = 10\n",
    "\n",
    "# Creating Hashtable\n",
    "HashTable = [[] for _ in range(CAPACITY)]"
   ]
  },
  {
   "cell_type": "code",
   "execution_count": 2,
   "metadata": {},
   "outputs": [
    {
     "data": {
      "text/plain": [
       "[[], [], [], [], [], [], [], [], [], []]"
      ]
     },
     "execution_count": 2,
     "metadata": {},
     "output_type": "execute_result"
    }
   ],
   "source": [
    "HashTable"
   ]
  },
  {
   "cell_type": "code",
   "execution_count": 3,
   "metadata": {},
   "outputs": [],
   "source": [
    "# Hashing Function to return\n",
    "# key for every value.\n",
    "def HashFunction(key):\n",
    "    return key % len(HashTable)"
   ]
  },
  {
   "cell_type": "code",
   "execution_count": 4,
   "metadata": {},
   "outputs": [],
   "source": [
    "# Insert Function to add\n",
    "# values to the hash table\n",
    "def insert(Hashtable, value):\n",
    "    hash_key = HashFunction(value)\n",
    "    bucket = Hashtable[hash_key]\n",
    "    if value not in bucket:\n",
    "        Hashtable[hash_key].append(value)"
   ]
  },
  {
   "cell_type": "code",
   "execution_count": 5,
   "metadata": {},
   "outputs": [],
   "source": [
    "# Function to display hashtable\n",
    "def display_hash(hashTable):\n",
    "    for i in range(len(hashTable)):\n",
    "        print(i, end = \" \")\n",
    "        for j in hashTable[i]:\n",
    "            print(\"-->\", end = \" \")\n",
    "            print(j, end = \" \")\n",
    "        print()"
   ]
  },
  {
   "cell_type": "code",
   "execution_count": 6,
   "metadata": {},
   "outputs": [
    {
     "name": "stdout",
     "output_type": "stream",
     "text": [
      "0 \n",
      "1 \n",
      "2 \n",
      "3 \n",
      "4 \n",
      "5 \n",
      "6 \n",
      "7 \n",
      "8 \n",
      "9 \n"
     ]
    }
   ],
   "source": [
    "display_hash(HashTable)"
   ]
  },
  {
   "cell_type": "code",
   "execution_count": 7,
   "metadata": {},
   "outputs": [],
   "source": [
    "# Test Code\n",
    "\n",
    "insert(HashTable,35)\n",
    "insert(HashTable,36)\n",
    "insert(HashTable,37)\n",
    "insert(HashTable,38)\n",
    "insert(HashTable,39)\n",
    "insert(HashTable,40)\n",
    "insert(HashTable,41)\n",
    "insert(HashTable,42)\n",
    "insert(HashTable,72)\n",
    "insert(HashTable,44)\n",
    "insert(HashTable,45)\n",
    "insert(HashTable,46)"
   ]
  },
  {
   "cell_type": "code",
   "execution_count": 8,
   "metadata": {},
   "outputs": [
    {
     "name": "stdout",
     "output_type": "stream",
     "text": [
      "0 --> 40 \n",
      "1 --> 41 \n",
      "2 --> 42 --> 72 \n",
      "3 \n",
      "4 --> 44 \n",
      "5 --> 35 --> 45 \n",
      "6 --> 36 --> 46 \n",
      "7 --> 37 \n",
      "8 --> 38 \n",
      "9 --> 39 \n"
     ]
    }
   ],
   "source": [
    "display_hash (HashTable)"
   ]
  },
  {
   "cell_type": "code",
   "execution_count": 9,
   "metadata": {},
   "outputs": [
    {
     "data": {
      "text/plain": [
       "[38]"
      ]
     },
     "execution_count": 9,
     "metadata": {},
     "output_type": "execute_result"
    }
   ],
   "source": [
    "print(HashFunction(38))\n",
    "HashTable[8]"
   ]
  },
  {
   "cell_type": "code",
   "execution_count": 10,
   "metadata": {},
   "outputs": [],
   "source": [
    "def search(hash_table, value):\n",
    "    hash_key = HashFunction(value)\n",
    "    bucket = hash_table[hash_key]\n",
    "    return value in bucket"
   ]
  },
  {
   "cell_type": "code",
   "execution_count": 11,
   "metadata": {},
   "outputs": [
    {
     "data": {
      "text/plain": [
       "True"
      ]
     },
     "execution_count": 11,
     "metadata": {},
     "output_type": "execute_result"
    }
   ],
   "source": [
    "search(HashTable, 38)"
   ]
  },
  {
   "cell_type": "code",
   "execution_count": 12,
   "metadata": {},
   "outputs": [
    {
     "data": {
      "text/plain": [
       "False"
      ]
     },
     "execution_count": 12,
     "metadata": {},
     "output_type": "execute_result"
    }
   ],
   "source": [
    "search(HashTable, 138)"
   ]
  },
  {
   "cell_type": "markdown",
   "metadata": {},
   "source": [
    "## HashTable as linked list data structure\n",
    "\n",
    "#### Chaining\n",
    "\n"
   ]
  },
  {
   "cell_type": "code",
   "execution_count": 20,
   "metadata": {},
   "outputs": [],
   "source": [
    "# Capacity of the table\n",
    "CAPACITY = 50\n",
    "    \n",
    "# Node data structure - essentially a LinkedList node\n",
    "class Node:\n",
    "    def __init__(self, key, value):\n",
    "        self.key = key #hash table key\n",
    "        self.value = value #value of item\n",
    "        self.next = None #next in the chain \n",
    "        \n",
    "    def __str__(self): #print function\n",
    "        return \"<Node: (%s, %s), next: %s>\" % (self.key, self.value, self.next != None)\n",
    "\n",
    "    def __repr__(self):\n",
    "        return self.__str__()\n",
    "            \n",
    "class HashTable:\n",
    "    \n",
    "    def __init__(self):\n",
    "        self.capacity = CAPACITY #hashtable capacity\n",
    "        self.size = 0 #number of items in the hash table\n",
    "        self.buckets = [None]*self.capacity #initialize empty list of linked lists\n",
    "    \n",
    "    # Generate a hash for a given key\n",
    "    # Input:  key - string\n",
    "    # Output: Index from 0 to self.capacity\n",
    "    \n",
    "    def hash(self, key):\n",
    "        hashsum = 0\n",
    "        # For each character in the key\n",
    "        for idx, c in enumerate(key):\n",
    "            # Add (index + length of key) ^ (current char code)\n",
    "            hashsum += (idx + len(key)) ** ord(c)\n",
    "            # Perform modulus to keep hashsum in range [0, self.capacity - 1]\n",
    "            hashsum = hashsum % self.capacity\n",
    "        return hashsum\n",
    "\n",
    "    # Insert a key,value pair to the hashtable\n",
    "    # Input:  key - string\n",
    "    #         value - anything\n",
    "    # Output: void\n",
    "    \n",
    "    def insert(self, key, value):\n",
    "        # 1. Increment size\n",
    "        self.size += 1\n",
    "        # 2. Compute index of key\n",
    "        index = self.hash(key)\n",
    "        # Go to the node corresponding to the hash\n",
    "        node = self.buckets[index]\n",
    "        # 3. If bucket is empty:\n",
    "        if node is None:\n",
    "            # Create node, add it, return\n",
    "            self.buckets[index] = Node(key, value)\n",
    "            return\n",
    "        # 4. Iterate to the end of the linked list at provided index\n",
    "        prev = node\n",
    "        while node is not None:\n",
    "            prev = node\n",
    "            node = node.next\n",
    "            # Add a new node at the end of the list with provided key/value\n",
    "            prev.next = Node(key, value)\n",
    "    \n",
    "    # Find a data value based on key\n",
    "    # Input:  key - string\n",
    "    # Output: value stored under \"key\" or None if not found\n",
    "    def find(self, key):\n",
    "        # 1. Compute hash\n",
    "        index = self.hash(key)\n",
    "        # 2. Go to first node in list at bucket\n",
    "        node = self.buckets[index]\n",
    "        # 3. Traverse the linked list at this node\n",
    "        while node is not None and node.key != key:\n",
    "            node = node.next\n",
    "        # 4. Now, node is the requested key/value pair or None\n",
    "        if node is None:\n",
    "            # Not found\n",
    "            return None\n",
    "        else:\n",
    "            # Found - return the data value\n",
    "            return node #.value"
   ]
  },
  {
   "cell_type": "code",
   "execution_count": 21,
   "metadata": {},
   "outputs": [],
   "source": [
    "ht = HashTable()"
   ]
  },
  {
   "cell_type": "code",
   "execution_count": 22,
   "metadata": {},
   "outputs": [
    {
     "data": {
      "text/plain": [
       "35"
      ]
     },
     "execution_count": 22,
     "metadata": {},
     "output_type": "execute_result"
    }
   ],
   "source": [
    "ht.hash(\"string key\")"
   ]
  },
  {
   "cell_type": "code",
   "execution_count": 23,
   "metadata": {},
   "outputs": [],
   "source": [
    "# insert\n",
    "\n",
    "ht.insert(\"K1\", \"test_value for K1\")\n",
    "ht.insert(\"K2\", \"test_value for K2\")\n",
    "ht.insert(\"K3\", \"test_value for K3\")\n",
    "ht.insert(\"K4\", \"test_value for K4\")\n",
    "ht.insert(\"K5\", \"test_value for K5\")"
   ]
  },
  {
   "cell_type": "code",
   "execution_count": 24,
   "metadata": {},
   "outputs": [
    {
     "name": "stdout",
     "output_type": "stream",
     "text": [
      "<Node: (K1, test_value for K1), next: False>\n"
     ]
    }
   ],
   "source": [
    "x = ht.find(\"K1\")\n",
    "print(x)"
   ]
  },
  {
   "cell_type": "code",
   "execution_count": 19,
   "metadata": {},
   "outputs": [
    {
     "data": {
      "text/plain": [
       "50"
      ]
     },
     "execution_count": 19,
     "metadata": {},
     "output_type": "execute_result"
    }
   ],
   "source": [
    "ht.capacity"
   ]
  },
  {
   "cell_type": "code",
   "execution_count": 20,
   "metadata": {},
   "outputs": [
    {
     "data": {
      "text/plain": [
       "4"
      ]
     },
     "execution_count": 20,
     "metadata": {},
     "output_type": "execute_result"
    }
   ],
   "source": [
    "ht.size"
   ]
  },
  {
   "cell_type": "code",
   "execution_count": null,
   "metadata": {},
   "outputs": [],
   "source": []
  }
 ],
 "metadata": {
  "kernelspec": {
   "display_name": "Python 3 (ipykernel)",
   "language": "python",
   "name": "python3"
  },
  "language_info": {
   "codemirror_mode": {
    "name": "ipython",
    "version": 3
   },
   "file_extension": ".py",
   "mimetype": "text/x-python",
   "name": "python",
   "nbconvert_exporter": "python",
   "pygments_lexer": "ipython3",
   "version": "3.10.8"
  }
 },
 "nbformat": 4,
 "nbformat_minor": 4
}

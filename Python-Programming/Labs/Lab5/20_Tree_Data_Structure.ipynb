{
 "cells": [
  {
   "cell_type": "markdown",
   "metadata": {},
   "source": [
    "## Binary Tree Visualization\n",
    "\n",
    "#### https://www.cs.usfca.edu/~galles/visualization/Algorithms.html"
   ]
  },
  {
   "cell_type": "markdown",
   "metadata": {},
   "source": [
    "## Binary Trees\n",
    "\n",
    "#### As Python List of Lists"
   ]
  },
  {
   "cell_type": "code",
   "execution_count": 1,
   "metadata": {},
   "outputs": [],
   "source": [
    "def binary_tree(r):\n",
    "    return [r, [], []]\n",
    "\n",
    "def insert_left(root, new_branch):\n",
    "    t = root.pop(1) #first element in the list of root\n",
    "    if len(t) > 1:\n",
    "        root.insert(1, [new_branch, t, []]) #old left tree becomes left subtree of new_branch\n",
    "    else:\n",
    "        root.insert(1, [new_branch, [], []])\n",
    "    return root\n",
    "\n",
    "def insert_right(root, new_branch):\n",
    "    t = root.pop(2) #second element in the list of root\n",
    "    if len(t) > 1:\n",
    "        root.insert(2, [new_branch, [], t])\n",
    "    else:\n",
    "        root.insert(2, [new_branch, [], []])\n",
    "    return root\n",
    "\n",
    "def get_root_val(root):\n",
    "    return root[0]\n",
    "\n",
    "def set_root_val(root, new_val):\n",
    "    root[0] = new_val\n",
    "\n",
    "def get_left_child(root):\n",
    "    return root[1]\n",
    "\n",
    "def get_right_child(root):\n",
    "    return root[2]\n"
   ]
  },
  {
   "cell_type": "code",
   "execution_count": 2,
   "metadata": {},
   "outputs": [
    {
     "name": "stdout",
     "output_type": "stream",
     "text": [
      "[3, [], []]\n",
      "[3, [4, [], []], []]\n",
      "[3, [5, [4, [], []], []], []]\n",
      "[3, [5, [4, [], []], []], [6, [], []]]\n",
      "[3, [5, [4, [], []], []], [7, [], [6, [], []]]]\n"
     ]
    }
   ],
   "source": [
    "r = binary_tree(3)\n",
    "print(r)\n",
    "insert_left(r, 4)\n",
    "print(r)\n",
    "insert_left(r, 5)\n",
    "print(r)\n",
    "insert_right(r, 6)\n",
    "print(r)\n",
    "insert_right(r, 7)\n",
    "print(r)\n"
   ]
  },
  {
   "cell_type": "code",
   "execution_count": 3,
   "metadata": {},
   "outputs": [
    {
     "name": "stdout",
     "output_type": "stream",
     "text": [
      "[5, [4, [], []], []]\n",
      "[3, [9, [4, [], []], []], [7, [], [6, [], []]]]\n",
      "[3, [9, [11, [4, [], []], []], []], [7, [], [6, [], []]]]\n"
     ]
    }
   ],
   "source": [
    "l = get_left_child(r)\n",
    "print(l)\n",
    "set_root_val(l, 9)\n",
    "print(r)\n",
    "insert_left(l, 11)\n",
    "print(r)"
   ]
  },
  {
   "cell_type": "markdown",
   "metadata": {},
   "source": [
    "#### Nodes and References"
   ]
  },
  {
   "cell_type": "code",
   "execution_count": 4,
   "metadata": {},
   "outputs": [],
   "source": [
    "class BinaryTree:\n",
    "    def __init__(self, root):\n",
    "        self.key = root #key = val\n",
    "        self.left_child = None\n",
    "        self.right_child = None\n",
    "    \n",
    "    def insert_left(self, new_node):\n",
    "        if self.left_child == None:\n",
    "            self.left_child = BinaryTree(new_node)\n",
    "        else:\n",
    "            t = BinaryTree(new_node)\n",
    "            t.left_child = self.left_child #old left tree becomes left subtree of new_branch\n",
    "            self.left_child = t\n",
    "\n",
    "    def insert_right(self, new_node):\n",
    "        if self.right_child == None:\n",
    "            self.right_child = BinaryTree(new_node)\n",
    "        else:\n",
    "            t = BinaryTree(new_node)\n",
    "            t.right_child = self.right_child\n",
    "            self.right_child = t\n",
    "\n",
    "    def get_right_child(self):\n",
    "        return self.right_child\n",
    "    def get_left_child(self):\n",
    "        return self.left_child\n",
    "    def set_root_val(self, obj):\n",
    "        self.key = obj\n",
    "    def get_root_val(self):\n",
    "        return self.key"
   ]
  },
  {
   "cell_type": "code",
   "execution_count": 5,
   "metadata": {},
   "outputs": [
    {
     "name": "stdout",
     "output_type": "stream",
     "text": [
      "a\n",
      "None\n",
      "<__main__.BinaryTree object at 0x00000260A004FA90>\n",
      "b\n",
      "<__main__.BinaryTree object at 0x00000260A007B0D0>\n",
      "c\n",
      "hello\n"
     ]
    }
   ],
   "source": [
    "r = BinaryTree('a')\n",
    "print(r.get_root_val())\n",
    "print(r.get_left_child())\n",
    "r.insert_left('b')\n",
    "print(r.get_left_child())\n",
    "print(r.get_left_child().get_root_val())\n",
    "r.insert_right('c')\n",
    "print(r.get_right_child())\n",
    "print(r.get_right_child().get_root_val())\n",
    "r.get_right_child().set_root_val('hello')\n",
    "print(r.get_right_child().get_root_val())"
   ]
  },
  {
   "cell_type": "markdown",
   "metadata": {},
   "source": [
    "# Binarytree Module in Python"
   ]
  },
  {
   "cell_type": "markdown",
   "metadata": {},
   "source": [
    "### pip install binarytree \n",
    "\n",
    "### conda install -c conda-forge binarytree\n",
    "\n",
    "https://github.com/conda-forge/binarytree-feedstock\n",
    "\n",
    "https://anaconda.org/conda-forge/binarytree"
   ]
  },
  {
   "cell_type": "code",
   "execution_count": 9,
   "metadata": {},
   "outputs": [
    {
     "ename": "ModuleNotFoundError",
     "evalue": "No module named 'binarytree'",
     "output_type": "error",
     "traceback": [
      "\u001b[1;31m---------------------------------------------------------------------------\u001b[0m",
      "\u001b[1;31mModuleNotFoundError\u001b[0m                       Traceback (most recent call last)",
      "Input \u001b[1;32mIn [9]\u001b[0m, in \u001b[0;36m<cell line: 1>\u001b[1;34m()\u001b[0m\n\u001b[1;32m----> 1\u001b[0m \u001b[38;5;28;01mfrom\u001b[39;00m \u001b[38;5;21;01mbinarytree\u001b[39;00m \u001b[38;5;28;01mimport\u001b[39;00m Node\n\u001b[0;32m      2\u001b[0m root \u001b[38;5;241m=\u001b[39m Node(\u001b[38;5;241m3\u001b[39m)\n\u001b[0;32m      3\u001b[0m root\u001b[38;5;241m.\u001b[39mleft \u001b[38;5;241m=\u001b[39m Node(\u001b[38;5;241m6\u001b[39m)\n",
      "\u001b[1;31mModuleNotFoundError\u001b[0m: No module named 'binarytree'"
     ]
    }
   ],
   "source": [
    "from binarytree import Node\n",
    "root = Node(3)\n",
    "root.left = Node(6)\n",
    "root.right = Node(8)\n",
    "\n",
    "# Getting binary tree\n",
    "print('Binary tree :', root)\n",
    "\n",
    "# Getting list of nodes\n",
    "print('List of nodes :', list(root))\n",
    "\n",
    "# Getting inorder of nodes\n",
    "print('Inorder of nodes :', root.inorder)\n",
    "\n",
    "# Checking tree properties\n",
    "print('Size of tree :', root.size)\n",
    "print('Height of tree :', root.height)\n",
    "\n",
    "# Get all properties at once\n",
    "print('Properties of tree : \\n', root.properties)\n"
   ]
  },
  {
   "cell_type": "code",
   "execution_count": 4,
   "metadata": {},
   "outputs": [
    {
     "name": "stdout",
     "output_type": "stream",
     "text": [
      "Binary tree from list :\n",
      " \n",
      "    ___3\n",
      "   /    \\\n",
      "  6      8\n",
      " / \\      \\\n",
      "2   11     13\n",
      "\n",
      "\n",
      "List from binary tree : [3, 6, 8, 2, 11, None, 13]\n"
     ]
    }
   ],
   "source": [
    "# Creating binary tree\n",
    "# from given list\n",
    "from binarytree import build\n",
    "\n",
    "# List of nodes\n",
    "nodes =[3, 6, 8, 2, 11, None, 13]\n",
    "\n",
    "# Building the binary tree\n",
    "binary_tree = build(nodes)\n",
    "print('Binary tree from list :\\n',\n",
    "    binary_tree)\n",
    "\n",
    "# Getting list of nodes from\n",
    "# binarytree\n",
    "print('\\nList from binary tree :',\n",
    "    binary_tree.values)\n"
   ]
  },
  {
   "cell_type": "code",
   "execution_count": 5,
   "metadata": {},
   "outputs": [
    {
     "name": "stdout",
     "output_type": "stream",
     "text": [
      "Binary tree of any height :\n",
      "\n",
      "        ______14____\n",
      "       /            \\\n",
      "     _5__          __9\n",
      "    /    \\        /   \\\n",
      "  _11     1      4     8\n",
      " /       / \\      \\     \\\n",
      "12      6   0      2     10\n",
      "\n",
      "Binary tree of given height :\n",
      "\n",
      "    0__\n",
      "   /   \\\n",
      "  2     1\n",
      " /     / \\\n",
      "3     4   6\n",
      "\n",
      "Perfect binary tree of given height :\n",
      "\n",
      "    __2__\n",
      "   /     \\\n",
      "  5       3\n",
      " / \\     / \\\n",
      "6   1   0   4\n",
      "\n"
     ]
    }
   ],
   "source": [
    "from binarytree import tree\n",
    "\n",
    "# Create a random binary\n",
    "# tree of any height\n",
    "root = tree()\n",
    "print(\"Binary tree of any height :\")\n",
    "print(root)\n",
    "\n",
    "# Create a random binary\n",
    "# tree of given height\n",
    "root2 = tree(height = 2)\n",
    "print(\"Binary tree of given height :\")\n",
    "print(root2)\n",
    "\n",
    "# Create a random perfect\n",
    "# binary tree of given height\n",
    "root3 = tree(height = 2,\n",
    "            is_perfect = True)\n",
    "print(\"Perfect binary tree of given height :\")\n",
    "print(root3)\n"
   ]
  },
  {
   "cell_type": "code",
   "execution_count": 6,
   "metadata": {},
   "outputs": [
    {
     "name": "stdout",
     "output_type": "stream",
     "text": [
      "BST of any height : \n",
      " \n",
      "  3________\n",
      " /         \\\n",
      "2       ____13\n",
      "       /\n",
      "      10\n",
      "     /  \\\n",
      "    9    11\n",
      "\n",
      "BST of given height : \n",
      " \n",
      "    __5\n",
      "   /   \\\n",
      "  2     6\n",
      " / \\\n",
      "0   3\n",
      "\n",
      "Perfect BST of given height : \n",
      " \n",
      "    __3__\n",
      "   /     \\\n",
      "  1       5\n",
      " / \\     / \\\n",
      "0   2   4   6\n",
      "\n"
     ]
    }
   ],
   "source": [
    "from binarytree import bst\n",
    "\n",
    "# Create a random BST\n",
    "# of any height\n",
    "root = bst()\n",
    "print('BST of any height : \\n',\n",
    "    root)\n",
    "\n",
    "# Create a random BST of\n",
    "# given height\n",
    "root2 = bst(height = 2)\n",
    "print('BST of given height : \\n',\n",
    "    root2)\n",
    "\n",
    "# Create a random perfect\n",
    "# BST of given height\n",
    "root3 = bst(height = 2,\n",
    "    is_perfect = True)\n",
    "print('Perfect BST of given height : \\n',\n",
    "    root3)\n"
   ]
  },
  {
   "cell_type": "code",
   "execution_count": null,
   "metadata": {},
   "outputs": [],
   "source": [
    "from binarytree import heap\n",
    "\n",
    "# Create a random max-heap\n",
    "root = heap()\n",
    "print('Max-heap of any height : \\n',\n",
    "    root)\n",
    "\n",
    "# Create a random max-heap\n",
    "# of given height\n",
    "root2 = heap(height = 2)\n",
    "\n",
    "print('Max-heap of given height : \\n',\n",
    "    root2)\n",
    "\n",
    "# Create a random perfect\n",
    "# min-heap of given height\n",
    "root3 = heap(height = 2,\n",
    "            is_max = False,\n",
    "            is_perfect = True)\n",
    "\n",
    "print('Perfect min-heap of given height : \\n',\n",
    "    root3)\n"
   ]
  }
 ],
 "metadata": {
  "kernelspec": {
   "display_name": "Python 3 (ipykernel)",
   "language": "python",
   "name": "python3"
  },
  "language_info": {
   "codemirror_mode": {
    "name": "ipython",
    "version": 3
   },
   "file_extension": ".py",
   "mimetype": "text/x-python",
   "name": "python",
   "nbconvert_exporter": "python",
   "pygments_lexer": "ipython3",
   "version": "3.10.8"
  }
 },
 "nbformat": 4,
 "nbformat_minor": 4
}

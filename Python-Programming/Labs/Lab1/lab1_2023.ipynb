{
 "cells": [
  {
   "cell_type": "markdown",
   "metadata": {
    "id": "y1QlgUSaKlAb"
   },
   "source": [
    "# Lab 1 09/27/23"
   ]
  },
  {
   "cell_type": "markdown",
   "metadata": {
    "id": "SeCdWbJC3ITp"
   },
   "source": [
    "## File I/O"
   ]
  },
  {
   "cell_type": "markdown",
   "metadata": {
    "id": "5uAWsRIXKygS"
   },
   "source": [
    "Recommend in homework: **relative path**"
   ]
  },
  {
   "cell_type": "markdown",
   "metadata": {
    "id": "MIebC7NxMwKL"
   },
   "source": [
    "* . ( single dot) denotes the current directory in the path.\n",
    "* .. (two dots) denotes the parent directory, i.e., one level above."
   ]
  },
  {
   "cell_type": "markdown",
   "metadata": {
    "id": "vMQl2APxSw_c"
   },
   "source": [
    "### Read data using open\n",
    "* https://docs.python.org/3/library/functions.html#open\n",
    "* https://stackoverflow.com/questions/1466000/difference-between-modes-a-a-w-w-and-r-in-built-in-open-function\n",
    "* Example modes: 'r', 'w', 'a'\n",
    "* Default ('t') opens as a text object\n",
    "\n",
    "### Other options: pickle, json"
   ]
  },
  {
   "cell_type": "markdown",
   "metadata": {},
   "source": [
    "### Input and Output \n",
    "* https://docs.python.org/3/tutorial/inputoutput.html#reading-and-writing-files\n",
    "* Open creates a file object\n",
    "* Example methods of this object: readlines, read, write"
   ]
  },
  {
   "cell_type": "code",
   "execution_count": 42,
   "metadata": {
    "colab": {
     "base_uri": "https://localhost:8080/"
    },
    "id": "4jkfNcN63ITp",
    "outputId": "1c7b14d4-24fd-407f-88a4-16574c4201fa",
    "scrolled": true
   },
   "outputs": [
    {
     "name": "stdout",
     "output_type": "stream",
     "text": [
      "['id,Name,Quizzes,Projects,Exams\\n', 'ID1,James,43,51,55\\n', 'ID2,Josephine,76,84,87\\n', 'ID3,Art,89,94,92\\n', 'ID4,Lenna,70,67,64\\n', 'ID5,Donette,63,59,58\\n', 'ID6,Simona,65,69,68\\n', 'ID7,Mitsue,41,43,34\\n', 'ID8,Leota,63,72,70\\n', 'ID9,Sage,56,71,65\\n', 'ID10,Kris,60,66,65\\n', 'ID11,Minna,41,49,43\\n', 'ID12,Abel,53,54,50\\n', 'ID13,Kiley,58,52,57\\n', 'ID14,Graciela,69,79,74\\n', 'ID15,Cammy,55,67,58\\n', 'ID16,Mattie,73,69,72\\n', 'ID17,Meaghan,69,81,76\\n', 'ID18,Gladys,69,70,73\\n', 'ID19,Yuki,82,81,79\\n', 'ID20,Fletcher,66,79,76\\n', 'ID21,Bette,58,62,63\\n', 'ID22,Veronika,90,83,77\\n', 'ID23,Willard,75,67,65\\n', 'ID24,Maryann,66,52,57\\n', 'ID25,Alisha,74,69,64\\n', 'ID26,Allene,78,84,81\\n', 'ID27,Chanel,45,53,49\\n', 'ID28,Ezekiel,53,69,62\\n', 'ID29,Willow,91,94,93\\n', 'ID30,Bernardo,48,46,42\\n', 'ID31,Ammie,65,70,65\\n', 'ID32,Francine,76,93,88\\n', 'ID33,Ernie,66,70,71\\n', 'ID34,Albina,21,41,33\\n', 'ID35,Alishia,65,66,68\\n', 'ID36,Solange,66,68,67\\n', 'ID37,Jose,62,66,68\\n', 'ID38,Rozella,59,72,74\\n', 'ID39,Valentine,83,85,78\\n', 'ID40,Kati,76,82,82\\n', 'ID41,Youlanda,87,85,80\\n', 'ID42,Dyan,99,100,100\\n', 'ID43,Roxane,69,54,58\\n', 'ID44,Lavera,54,55,54\\n', 'ID45,Erick,44,68,63\\n', 'ID46,Fatima,93,100,100\\n', 'ID47,Jina,72,87,95\\n', 'ID48,Kanisha,61,61,65\\n', 'ID49,Emerson,50,71,68\\n', 'ID50,Blair,97,89,89\\n', 'ID51,Brock,70,82,74\\n', 'ID52,Lorrie,69,61,67\\n', 'ID53,Sabra,40,47,55\\n', 'ID54,Marjory,69,77,77\\n', 'ID55,Karl,82,87,82\\n', 'ID56,Tonette,46,46,44\\n', 'ID57,Amber,82,82,74\\n', 'ID58,Shenika,57,77,74\\n', 'ID59,Delmy,85,85,86\\n', 'ID60,Deeanna,73,85,86\\n', 'ID61,Blondell,37,28,32\\n', 'ID62,Jamal,67,75,76\\n', 'ID63,Cecily,34,52,56\\n', 'ID64,Carmelina,57,58,61\\n', 'ID65,Maurine,68,75,79\\n', 'ID66,Tawna,54,52,49\\n', 'ID67,Penney,63,63,67\\n', 'ID68,Elly,59,51,47\\n', 'ID69,Ilene,67,67,62\\n', 'ID70,Vallie,82,92,89\\n', 'ID71,Kallie,72,69,66\\n', 'ID72,Johnetta,89,98,94\\n', 'ID73,Bobbye,61,60,54\\n', 'ID74,Micaela,72,74,71\\n', 'ID75,Tamar,54,61,66\\n', 'ID76,Moon,69,77,76\\n', 'ID77,Laurel,93,91,89\\n', 'ID78,Delisa,79,82,72\\n', 'ID79,Viva,90,91,94\\n', 'ID80,Elza,66,76,71\\n', 'ID81,Devorah,90,82,78\\n', 'ID82,Timothy,73,79,81\\n', 'ID83,Arlette,60,73,70\\n', 'ID84,Dominque,61,48,52\\n', 'ID85,Lettie,65,71,77\\n', 'ID86,Myra,39,52,51\\n', 'ID87,Stephaine,61,74,69\\n', 'ID88,Lai,58,79,70\\n', 'ID89,Stephen,81,67,73\\n', 'ID90,Tyra,82,76,68\\n', 'ID91,Tammara,66,85,81\\n', 'ID92,Cory,79,86,87\\n', 'ID93,Danica,50,60,58\\n', 'ID94,Wilda,82,82,78\\n', 'ID95,Elvera,81,83,86\\n', 'ID96,Carma,64,59,62\\n', 'ID97,Malinda,66,62,55\\n', 'ID98,Natalie,95,85,91\\n', 'ID99,Lisha,69,67,55\\n', 'ID100,Arlene,58,71,68\\n']\n"
     ]
    }
   ],
   "source": [
    "input_file_name = './exams.csv' # Comma separated tabular values\n",
    "with open(input_file_name, 'r') as f: # Read the file exams.csv from the beginning of the file\n",
    "    data = f.readlines() # Read all lines and set variable data\n",
    "\n",
    "print(data)"
   ]
  },
  {
   "cell_type": "markdown",
   "metadata": {
    "id": "SzO86uto3ITq"
   },
   "source": [
    "### Names from data input"
   ]
  },
  {
   "cell_type": "code",
   "execution_count": 43,
   "metadata": {
    "colab": {
     "base_uri": "https://localhost:8080/"
    },
    "id": "_jEjfbt53ITq",
    "outputId": "51b70a22-8bda-4137-93fb-3e7fd0adde8f",
    "scrolled": true
   },
   "outputs": [],
   "source": [
    "names = [elm.split(',')[1] for elm in data] # Second element of the list split by comma\n",
    "\n",
    "#names\n",
    "output_file_name = './names.txt'\n",
    "with open(output_file_name, 'w') as f: # Write to names.txt. If the file exists, overwrite\n",
    "    for name in names:\n",
    "        f.write(\"%s\\n\" % name) #For each name, write to file separated by newline"
   ]
  },
  {
   "cell_type": "markdown",
   "metadata": {},
   "source": [
    "## Functions and Variables Scope"
   ]
  },
  {
   "cell_type": "markdown",
   "metadata": {},
   "source": [
    "## Variables Scope\n",
    "* Global\n",
    "* Local\n",
    "* Nonlocal\n",
    "* https://python-textbok.readthedocs.io/en/1.0/Variables_and_Scope.html"
   ]
  },
  {
   "cell_type": "code",
   "execution_count": 44,
   "metadata": {},
   "outputs": [
    {
     "name": "stdout",
     "output_type": "stream",
     "text": [
      "0\n",
      "1\n",
      "global variable 'a' is still 0\n",
      "global variable 'a' is now 1\n"
     ]
    }
   ],
   "source": [
    "a = 0 #a is a global variable\n",
    "\n",
    "def print_global_a():\n",
    "    print(a) #a is a global variable\n",
    "\n",
    "print_global_a()\n",
    "\n",
    "def print_local_a():\n",
    "    a = 1 #a in this case is a local variable (assigned within function)\n",
    "    b = 2 #this is only accessible within the function print_local_a\n",
    "    print(a)\n",
    "\n",
    "print_local_a() #prints the local variable 'a'\n",
    "\n",
    "#print(b) #undefined error\n",
    "\n",
    "print(\"global variable 'a' is still\", a) #the global variable 'a' is unchanged\n",
    "\n",
    "def change_global_variable_a():\n",
    "    global a\n",
    "    a = 1\n",
    "\n",
    "change_global_variable_a() #changes the global variable 'a'\n",
    "\n",
    "print(\"global variable 'a' is now\", a)"
   ]
  },
  {
   "cell_type": "code",
   "execution_count": 45,
   "metadata": {},
   "outputs": [
    {
     "name": "stdout",
     "output_type": "stream",
     "text": [
      "New local x: 2\n",
      "Local x has changed: 2\n",
      "Global x is still: 0\n"
     ]
    }
   ],
   "source": [
    "x = 0 #global variable x\n",
    "\n",
    "def outer():\n",
    "    x = 1 #local variable x\n",
    "    def inner():\n",
    "        nonlocal x\n",
    "        x += 1\n",
    "        print('New local x:', x)\n",
    "    \n",
    "    inner()\n",
    "    \n",
    "    print('Local x has changed:', x)\n",
    "\n",
    "outer()\n",
    "\n",
    "print('Global x is still:', x)"
   ]
  },
  {
   "cell_type": "code",
   "execution_count": 46,
   "metadata": {},
   "outputs": [
    {
     "ename": "UnboundLocalError",
     "evalue": "local variable 'x' referenced before assignment",
     "output_type": "error",
     "traceback": [
      "\u001b[0;31m---------------------------------------------------------------------------\u001b[0m",
      "\u001b[0;31mUnboundLocalError\u001b[0m                         Traceback (most recent call last)",
      "Cell \u001b[0;32mIn[46], line 15\u001b[0m\n\u001b[1;32m     11\u001b[0m     inner()\n\u001b[1;32m     13\u001b[0m     \u001b[38;5;28mprint\u001b[39m(\u001b[38;5;124m'\u001b[39m\u001b[38;5;124mLocal x has changed:\u001b[39m\u001b[38;5;124m'\u001b[39m, x)\n\u001b[0;32m---> 15\u001b[0m \u001b[43mouter\u001b[49m\u001b[43m(\u001b[49m\u001b[43m)\u001b[49m\n\u001b[1;32m     17\u001b[0m \u001b[38;5;28mprint\u001b[39m(\u001b[38;5;124m'\u001b[39m\u001b[38;5;124mGlobal x is still:\u001b[39m\u001b[38;5;124m'\u001b[39m, x)\n",
      "Cell \u001b[0;32mIn[46], line 11\u001b[0m, in \u001b[0;36mouter\u001b[0;34m()\u001b[0m\n\u001b[1;32m      8\u001b[0m     \u001b[38;5;28mprint\u001b[39m(\u001b[38;5;124m'\u001b[39m\u001b[38;5;124mNew local x:\u001b[39m\u001b[38;5;124m'\u001b[39m, x)\n\u001b[1;32m      9\u001b[0m     \u001b[38;5;28;01mreturn\u001b[39;00m(x)\n\u001b[0;32m---> 11\u001b[0m \u001b[43minner\u001b[49m\u001b[43m(\u001b[49m\u001b[43m)\u001b[49m\n\u001b[1;32m     13\u001b[0m \u001b[38;5;28mprint\u001b[39m(\u001b[38;5;124m'\u001b[39m\u001b[38;5;124mLocal x has changed:\u001b[39m\u001b[38;5;124m'\u001b[39m, x)\n",
      "Cell \u001b[0;32mIn[46], line 7\u001b[0m, in \u001b[0;36mouter.<locals>.inner\u001b[0;34m()\u001b[0m\n\u001b[1;32m      5\u001b[0m \u001b[38;5;28;01mdef\u001b[39;00m \u001b[38;5;21minner\u001b[39m():\n\u001b[1;32m      6\u001b[0m     \u001b[38;5;66;03m#nonlocal x\u001b[39;00m\n\u001b[0;32m----> 7\u001b[0m     x \u001b[38;5;241m+\u001b[39m\u001b[38;5;241m=\u001b[39m \u001b[38;5;241m1\u001b[39m\n\u001b[1;32m      8\u001b[0m     \u001b[38;5;28mprint\u001b[39m(\u001b[38;5;124m'\u001b[39m\u001b[38;5;124mNew local x:\u001b[39m\u001b[38;5;124m'\u001b[39m, x)\n\u001b[1;32m      9\u001b[0m     \u001b[38;5;28;01mreturn\u001b[39;00m(x)\n",
      "\u001b[0;31mUnboundLocalError\u001b[0m: local variable 'x' referenced before assignment"
     ]
    }
   ],
   "source": [
    "x = 0 #global variable x\n",
    "\n",
    "def outer():\n",
    "    x = 1 #local variable x\n",
    "    def inner():\n",
    "        #nonlocal x\n",
    "        x += 1\n",
    "        print('New local x:', x)\n",
    "        return(x)\n",
    "    \n",
    "    inner()\n",
    "    \n",
    "    print('Local x has changed:', x)\n",
    "\n",
    "outer()\n",
    "\n",
    "print('Global x is still:', x)"
   ]
  },
  {
   "cell_type": "markdown",
   "metadata": {},
   "source": [
    "## Nested Functions"
   ]
  },
  {
   "cell_type": "markdown",
   "metadata": {},
   "source": [
    "* Functions can also be global and local\n",
    "* Local functions can be nested within global functions\n",
    "* https://www.freecodecamp.org/news/nested-functions-in-python/\n",
    "* 1) With nested functions, we can create local variables that are inaccessible global-wise\n",
    "* 2) Nested local functions are also inaccessible global-wise"
   ]
  },
  {
   "cell_type": "code",
   "execution_count": 61,
   "metadata": {},
   "outputs": [
    {
     "name": "stdout",
     "output_type": "stream",
     "text": [
      "1\n"
     ]
    }
   ],
   "source": [
    "def global_function1():\n",
    "    local_variable = 0\n",
    "    local_variable += 1\n",
    "    return local_variable\n",
    "\n",
    "returned_local_variable = global_function1()\n",
    "\n",
    "print(returned_local_variable)"
   ]
  },
  {
   "cell_type": "code",
   "execution_count": 62,
   "metadata": {},
   "outputs": [
    {
     "name": "stdout",
     "output_type": "stream",
     "text": [
      "1\n"
     ]
    }
   ],
   "source": [
    "def global_function2():\n",
    "    \n",
    "    def local_function():\n",
    "        local_variable = 0\n",
    "        local_variable += 1\n",
    "        return local_variable\n",
    "    \n",
    "    returned_local_variable = local_function()\n",
    "    \n",
    "    return returned_local_variable\n",
    "\n",
    "var = global_function2()\n",
    "\n",
    "print(var)"
   ]
  },
  {
   "cell_type": "code",
   "execution_count": 63,
   "metadata": {},
   "outputs": [
    {
     "name": "stdout",
     "output_type": "stream",
     "text": [
      "1\n",
      "1\n"
     ]
    }
   ],
   "source": [
    "def global_function3():\n",
    "    var1 = global_function1()\n",
    "    var2 = global_function2()\n",
    "    print(var1)\n",
    "    print(var2)\n",
    "\n",
    "global_function3()"
   ]
  },
  {
   "cell_type": "code",
   "execution_count": 64,
   "metadata": {},
   "outputs": [
    {
     "name": "stdout",
     "output_type": "stream",
     "text": [
      "1\n",
      "1\n"
     ]
    }
   ],
   "source": [
    "global_function1()\n",
    "global_function2()\n",
    "global_function3()"
   ]
  }
 ],
 "metadata": {
  "colab": {
   "collapsed_sections": [],
   "name": "lab1-2021.ipynb",
   "provenance": [],
   "toc_visible": true
  },
  "kernelspec": {
   "display_name": "Python 3 (ipykernel)",
   "language": "python",
   "name": "python3"
  },
  "language_info": {
   "codemirror_mode": {
    "name": "ipython",
    "version": 3
   },
   "file_extension": ".py",
   "mimetype": "text/x-python",
   "name": "python",
   "nbconvert_exporter": "python",
   "pygments_lexer": "ipython3",
   "version": "3.10.8"
  }
 },
 "nbformat": 4,
 "nbformat_minor": 1
}

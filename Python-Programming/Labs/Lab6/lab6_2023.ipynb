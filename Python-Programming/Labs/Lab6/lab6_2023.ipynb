{
 "cells": [
  {
   "cell_type": "markdown",
   "metadata": {
    "id": "QsBTooJqixaS"
   },
   "source": [
    "# Lab6 11/1/23"
   ]
  },
  {
   "cell_type": "markdown",
   "metadata": {
    "id": "NHDSUxkdVLYl"
   },
   "source": [
    "# Example for single-thread, multi-thread and multi-process comparison"
   ]
  },
  {
   "cell_type": "markdown",
   "metadata": {
    "id": "zqJkvmHSVLYm"
   },
   "source": [
    "* https://medium.com/towards-artificial-intelligence/the-why-when-and-how-of-using-python-multi-threading-and-multi-processing-afd1b8a8ecca\n",
    "* https://medium.com/analytics-vidhya/multithreading-and-multiprocessing-in-python-1f773d1d160d"
   ]
  },
  {
   "cell_type": "markdown",
   "metadata": {
    "id": "yVSkrgK9VLYn"
   },
   "source": [
    "## 1. Single-threaded, single-process"
   ]
  },
  {
   "cell_type": "code",
   "execution_count": 1,
   "metadata": {
    "id": "BbXzidIMVLYn"
   },
   "outputs": [
    {
     "name": "stdout",
     "output_type": "stream",
     "text": [
      "10\n"
     ]
    }
   ],
   "source": [
    "import urllib.request\n",
    "from concurrent.futures import ThreadPoolExecutor\n",
    "\n",
    "urls = [\n",
    "  'http://www.python.org',\n",
    "  'https://docs.python.org/3/',\n",
    "  'https://docs.python.org/3/whatsnew/3.7.html',\n",
    "  'https://docs.python.org/3/tutorial/index.html',\n",
    "  'https://docs.python.org/3/library/index.html',\n",
    "  'https://docs.python.org/3/reference/index.html',\n",
    "  'https://docs.python.org/3/using/index.html',\n",
    "  'https://docs.python.org/3/howto/index.html',\n",
    "  'https://docs.python.org/3/installing/index.html',\n",
    "  'https://docs.python.org/3/distributing/index.html',\n",
    "  'https://docs.python.org/3/extending/index.html',\n",
    "  'https://docs.python.org/3/c-api/index.html',\n",
    "  'https://docs.python.org/3/faq/index.html'\n",
    "  ]"
   ]
  },
  {
   "cell_type": "code",
   "execution_count": 2,
   "metadata": {
    "id": "Vnk6I4ErVLYp",
    "outputId": "ad6b7fbd-e2d2-4de9-fe32-be0b8c902507"
   },
   "outputs": [
    {
     "name": "stdout",
     "output_type": "stream",
     "text": [
      "1.33 s ± 156 ms per loop (mean ± std. dev. of 7 runs, 1 loop each)\n"
     ]
    }
   ],
   "source": [
    "%%timeit\n",
    "\n",
    "results = []\n",
    "for url in urls:\n",
    "    with urllib.request.urlopen(url) as src:\n",
    "        results.append(src)"
   ]
  },
  {
   "cell_type": "markdown",
   "metadata": {
    "id": "SVFMh1EBVLYr"
   },
   "source": [
    "## 2. Multi-threading\n",
    "\n",
    " * Can be used for IO-bound tasks (such as reading urls)\n",
    " * The majority of the time is waiting from the network, database, file, etc\n",
    " * Waiting for the I/O process can be used to access multiple urls concurrently \n",
    " * https://docs.python.org/3/library/concurrent.futures.html#concurrent.futures.ThreadPoolExecutor\n",
    " * A higher level interface to push tasks to a background thread without blocking execution of the calling thread, while still being able to retrieve their results when needed."
   ]
  },
  {
   "cell_type": "code",
   "execution_count": 3,
   "metadata": {
    "id": "ZMDSFO8rVLYs"
   },
   "outputs": [],
   "source": [
    "import urllib.request\n",
    "from concurrent.futures import ThreadPoolExecutor\n",
    "\n",
    "urls = [\n",
    "  'http://www.python.org',\n",
    "  'https://docs.python.org/3/',\n",
    "  'https://docs.python.org/3/whatsnew/3.7.html',\n",
    "  'https://docs.python.org/3/tutorial/index.html',\n",
    "  'https://docs.python.org/3/library/index.html',\n",
    "  'https://docs.python.org/3/reference/index.html',\n",
    "  'https://docs.python.org/3/using/index.html',\n",
    "  'https://docs.python.org/3/howto/index.html',\n",
    "  'https://docs.python.org/3/installing/index.html',\n",
    "  'https://docs.python.org/3/distributing/index.html',\n",
    "  'https://docs.python.org/3/extending/index.html',\n",
    "  'https://docs.python.org/3/c-api/index.html',\n",
    "  'https://docs.python.org/3/faq/index.html'\n",
    "  ]"
   ]
  },
  {
   "cell_type": "code",
   "execution_count": 4,
   "metadata": {
    "id": "WTmPlfbGVLYt",
    "outputId": "96266d4e-55e7-4d32-b531-dd606e6d933a"
   },
   "outputs": [
    {
     "name": "stdout",
     "output_type": "stream",
     "text": [
      "377 ms ± 19.1 ms per loop (mean ± std. dev. of 7 runs, 1 loop each)\n"
     ]
    }
   ],
   "source": [
    "%%timeit\n",
    "\n",
    "with ThreadPoolExecutor(4) as executor:\n",
    "    results = executor.map(urllib.request.urlopen, urls)"
   ]
  },
  {
   "cell_type": "code",
   "execution_count": 5,
   "metadata": {
    "id": "Kgn4DlQuVLYw",
    "outputId": "e32f649c-7a2c-4f8c-fec3-4c24f422d8db"
   },
   "outputs": [
    {
     "name": "stdout",
     "output_type": "stream",
     "text": [
      "208 ms ± 68.6 ms per loop (mean ± std. dev. of 7 runs, 10 loops each)\n"
     ]
    }
   ],
   "source": [
    "%%timeit\n",
    "\n",
    "with ThreadPoolExecutor(16) as executor:\n",
    "    results = executor.map(urllib.request.urlopen, urls)"
   ]
  },
  {
   "cell_type": "markdown",
   "metadata": {
    "id": "6k-0t__tVLYz"
   },
   "source": [
    "## 3. Multi-processing\n",
    "\n",
    " * Speed up CPU bound tasks by using the multiprocessing module\n",
    " * Useful for scripts that spend most of the computations on the CPU (mathematical computations, image processing, ect)\n",
    " * If computations are independent of one another, split them up among the available CPU cores \n",
    " * Independent workers (number of workers) depend on number of cores, RAM, other processes currently running, etc"
   ]
  },
  {
   "cell_type": "code",
   "execution_count": 10,
   "metadata": {
    "id": "hKVkHVNCVLYz"
   },
   "outputs": [],
   "source": [
    "from multiprocessing import Pool, cpu_count\n",
    "\n",
    "from if_prime import if_prime"
   ]
  },
  {
   "cell_type": "code",
   "execution_count": 11,
   "metadata": {
    "id": "LOB5UsNZVLY0",
    "outputId": "9f548fe1-74b7-44ad-a83d-364a4ad93199"
   },
   "outputs": [
    {
     "name": "stdout",
     "output_type": "stream",
     "text": [
      "CPU times: user 954 ms, sys: 1.84 ms, total: 956 ms\n",
      "Wall time: 959 ms\n"
     ]
    }
   ],
   "source": [
    "%%time\n",
    "\n",
    "sum_primes = 0\n",
    "\n",
    "for i in range(1000000):\n",
    "    sum_primes += if_prime(i)"
   ]
  },
  {
   "cell_type": "code",
   "execution_count": 12,
   "metadata": {
    "id": "IAUFtzr5VLY1",
    "outputId": "76dd7972-cd15-41e9-dde3-45632bfcb7a9"
   },
   "outputs": [
    {
     "name": "stdout",
     "output_type": "stream",
     "text": [
      "CPU times: user 55.2 ms, sys: 22.5 ms, total: 77.7 ms\n",
      "Wall time: 563 ms\n"
     ]
    }
   ],
   "source": [
    "%%time\n",
    "\n",
    "\n",
    "with Pool(2) as p:\n",
    "    answer = sum(p.map(if_prime, list(range(1000000))))"
   ]
  },
  {
   "cell_type": "code",
   "execution_count": 13,
   "metadata": {
    "id": "xM0uhbyAVLY1",
    "outputId": "94ec8f3e-1006-496c-90da-96bc6749fbed"
   },
   "outputs": [
    {
     "name": "stdout",
     "output_type": "stream",
     "text": [
      "CPU times: user 56.8 ms, sys: 32.6 ms, total: 89.4 ms\n",
      "Wall time: 339 ms\n"
     ]
    }
   ],
   "source": [
    "%%time\n",
    "\n",
    "with Pool(4) as p:\n",
    "    answer = sum(p.map(if_prime, list(range(1000000))))"
   ]
  },
  {
   "cell_type": "code",
   "execution_count": 14,
   "metadata": {
    "id": "m4erdziwVLY2",
    "outputId": "ee7e827d-2135-4f73-ea63-df309b4effc6"
   },
   "outputs": [
    {
     "name": "stdout",
     "output_type": "stream",
     "text": [
      "213 ms ± 3.47 ms per loop (mean ± std. dev. of 7 runs, 1 loop each)\n"
     ]
    }
   ],
   "source": [
    "%%timeit\n",
    "\n",
    "with Pool(8) as p:\n",
    "    answer = sum(p.map(if_prime, list(range(1000000))))"
   ]
  },
  {
   "cell_type": "code",
   "execution_count": 15,
   "metadata": {
    "id": "_K_hQu1VVLY3",
    "outputId": "05d052ce-57c2-44a6-d108-de9eb3a8e7b2"
   },
   "outputs": [
    {
     "name": "stdout",
     "output_type": "stream",
     "text": [
      "260 ms ± 1.87 ms per loop (mean ± std. dev. of 7 runs, 1 loop each)\n"
     ]
    }
   ],
   "source": [
    "%%timeit\n",
    "\n",
    "with Pool(16) as p:\n",
    "    answer = sum(p.map(if_prime, list(range(1000000))))"
   ]
  },
  {
   "cell_type": "code",
   "execution_count": 16,
   "metadata": {
    "id": "LtqGPaZCVLY4",
    "outputId": "2c127d7c-89e1-4acb-e13e-33b772c9843f"
   },
   "outputs": [
    {
     "name": "stdout",
     "output_type": "stream",
     "text": [
      "382 ms ± 3.34 ms per loop (mean ± std. dev. of 7 runs, 1 loop each)\n"
     ]
    }
   ],
   "source": [
    "%%timeit\n",
    "\n",
    "with Pool(32) as p:\n",
    "    answer = sum(p.map(if_prime, list(range(1000000))))"
   ]
  },
  {
   "cell_type": "code",
   "execution_count": 17,
   "metadata": {
    "id": "9Hw9-QYTVLY4",
    "outputId": "32a61e49-7dc3-45d4-e428-0904e16928d9"
   },
   "outputs": [
    {
     "name": "stdout",
     "output_type": "stream",
     "text": [
      "634 ms ± 5.44 ms per loop (mean ± std. dev. of 7 runs, 1 loop each)\n"
     ]
    }
   ],
   "source": [
    "%%timeit\n",
    "\n",
    "with Pool(64) as p:\n",
    "    answer = sum(p.map(if_prime, list(range(1000000))))"
   ]
  },
  {
   "cell_type": "code",
   "execution_count": 18,
   "metadata": {},
   "outputs": [
    {
     "name": "stdout",
     "output_type": "stream",
     "text": [
      "218 ms ± 3.73 ms per loop (mean ± std. dev. of 7 runs, 1 loop each)\n"
     ]
    }
   ],
   "source": [
    "%%timeit\n",
    "\n",
    "with Pool(cpu_count()-1) as p:\n",
    "    answer = sum(p.map(if_prime, list(range(1000000))))"
   ]
  },
  {
   "cell_type": "code",
   "execution_count": null,
   "metadata": {},
   "outputs": [],
   "source": []
  }
 ],
 "metadata": {
  "colab": {
   "name": "lab3.ipynb",
   "provenance": []
  },
  "kernelspec": {
   "display_name": "Python 3 (ipykernel)",
   "language": "python",
   "name": "python3"
  },
  "language_info": {
   "codemirror_mode": {
    "name": "ipython",
    "version": 3
   },
   "file_extension": ".py",
   "mimetype": "text/x-python",
   "name": "python",
   "nbconvert_exporter": "python",
   "pygments_lexer": "ipython3",
   "version": "3.11.2"
  }
 },
 "nbformat": 4,
 "nbformat_minor": 1
}

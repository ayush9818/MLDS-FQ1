{
 "cells": [
  {
   "cell_type": "markdown",
   "metadata": {
    "id": "QsBTooJqixaS"
   },
   "source": [
    "# Lab3 10/11/23"
   ]
  },
  {
   "cell_type": "markdown",
   "metadata": {},
   "source": [
    "## Variables\n",
    "* https://docs.python.org/3/tutorial/classes.html\n",
    "* https://docs.python.org/3/tutorial/classes.html#class-and-instance-variables\n",
    "* https://docs.python.org/3/tutorial/classes.html#tut-object"
   ]
  },
  {
   "cell_type": "markdown",
   "metadata": {},
   "source": [
    "### Overview of OOP Terminology\n",
    "* **Class:** A user-defined prototype for an object that defines a set of attributes that characterize any object of the class. \n",
    "* **Class variable:** A variable that is shared by all instances of a class. Class variables are defined within a class but outside any of the class's methods.\n",
    "* **Instance variable:** A variable that is defined inside a method and belongs only to the current instance of a class.\n",
    "* **Inheritance:** The transfer of the characteristics of a class to other classes that are derived from it.\n",
    "* **Instance:** An individual object of a certain class. An object obj that belongs to a class Circle, for example, is an instance of the class Circle.\n",
    "* **Instantiation:** The creation of an instance of a class. __init__ method: A special kind of function that is defined in a class definition.\n",
    "* **Object:** A unique instance of a data structure that's defined by its class."
   ]
  },
  {
   "cell_type": "code",
   "execution_count": 25,
   "metadata": {},
   "outputs": [
    {
     "name": "stdout",
     "output_type": "stream",
     "text": [
      "feline\n",
      "canine\n",
      "['play dead']\n",
      "['play dead']\n"
     ]
    }
   ],
   "source": [
    "# For class variables, the mutable changes are shared for all instances (also called static behavior)\n",
    "\n",
    "class Dog:\n",
    "\n",
    "    # class variables shared by all instances (instances are objects of same class)\n",
    "    kind = 'canine' #string are immutable       \n",
    "    tricks = [] #lists are mutable\n",
    "\n",
    "    def __init__(self, name):\n",
    "        self.name = name    # instance variable unique to each instance\n",
    "    \n",
    "    def change_kind(self, new_kind):\n",
    "        self.kind = new_kind \n",
    "    \n",
    "    def add_trick(self, trick):\n",
    "        self.tricks.append(trick)\n",
    "\n",
    "Fido = Dog('Fido') #argument defined by the constructor\n",
    "Buddy = Dog('Buddy')\n",
    "\n",
    "Fido.change_kind('feline') # changes 'kind' only in the Fido instance\n",
    "print(Fido.kind)\n",
    "print(Buddy.kind)\n",
    "# since strings are immutable, this method creates a new attribute of 'feline' for Fido\n",
    "\n",
    "Fido.add_trick('play dead') #the tricks list is changed for all instances\n",
    "print(Fido.tricks)\n",
    "print(Buddy.tricks)"
   ]
  },
  {
   "cell_type": "code",
   "execution_count": 26,
   "metadata": {},
   "outputs": [
    {
     "name": "stdout",
     "output_type": "stream",
     "text": [
      "['play dead']\n",
      "['roll over']\n"
     ]
    }
   ],
   "source": [
    "class Dog:\n",
    "\n",
    "    # class variables shared by all instances\n",
    "    kind = 'canine'         \n",
    "\n",
    "    # instance variables unique to each instance\n",
    "    def __init__(self, name):\n",
    "        self.name = name    \n",
    "        self.tricks = [] #mutable variables to instances\n",
    "    \n",
    "    def change_kind(self, new_kind):\n",
    "        self.kind = new_kind\n",
    "    \n",
    "    def add_trick(self, trick):\n",
    "        self.tricks.append(trick)\n",
    "\n",
    "Fido = Dog('Fido')\n",
    "Buddy = Dog('Buddy')\n",
    "\n",
    "Fido.add_trick('play dead')\n",
    "print(Fido.tricks)\n",
    "Buddy.add_trick('roll over')\n",
    "print(Buddy.tricks)"
   ]
  },
  {
   "cell_type": "markdown",
   "metadata": {},
   "source": [
    "## Methods\n",
    "* instance, class and static methods\n",
    "* https://wiki.python.org/moin/Decorators"
   ]
  },
  {
   "cell_type": "code",
   "execution_count": 27,
   "metadata": {},
   "outputs": [],
   "source": [
    "class MyClass:\n",
    "\n",
    "    # regular instance method:\n",
    "    # instance specific method\n",
    "    # self - the object instance as argument \n",
    "    def my_method(self):\n",
    "        pass\n",
    "\n",
    "    # class method:\n",
    "    # cls - the class as argument\n",
    "    @classmethod\n",
    "    def my_class_method(cls):\n",
    "        pass\n",
    "\n",
    "    # static method:\n",
    "    # just any function you would define outside of class\n",
    "    # can be defined within class to group it with the class for readability/logical connection etc\n",
    "    @staticmethod\n",
    "    def my_static_method():\n",
    "        pass"
   ]
  },
  {
   "cell_type": "markdown",
   "metadata": {},
   "source": [
    "* Class methods are useful for inheritance\n",
    "* MySubClass inherits the class method introduce from MyClass"
   ]
  },
  {
   "cell_type": "code",
   "execution_count": 28,
   "metadata": {},
   "outputs": [],
   "source": [
    "class MyClass:\n",
    "\n",
    "    @classmethod\n",
    "    def introduce(cls):\n",
    "        print(\"Hello, I am %s!\" %cls)\n",
    "\n",
    "class MySubClass(MyClass):\n",
    "    pass"
   ]
  },
  {
   "cell_type": "code",
   "execution_count": 29,
   "metadata": {},
   "outputs": [
    {
     "name": "stdout",
     "output_type": "stream",
     "text": [
      "Hello, I am <class '__main__.MyClass'>!\n",
      "Hello, I am <class '__main__.MySubClass'>!\n"
     ]
    }
   ],
   "source": [
    "MyClass.introduce()\n",
    "MySubClass.introduce()"
   ]
  },
  {
   "cell_type": "markdown",
   "metadata": {},
   "source": [
    "## Inheritance\n",
    "* https://docs.python.org/3/tutorial/classes.html#inheritance"
   ]
  },
  {
   "cell_type": "code",
   "execution_count": 34,
   "metadata": {},
   "outputs": [
    {
     "data": {
      "text/plain": [
       "'\\nclass MySubClass(MySuperClass1, MySuperClass2, MySuperClass3):\\n    ...\\n\\n'"
      ]
     },
     "execution_count": 34,
     "metadata": {},
     "output_type": "execute_result"
    }
   ],
   "source": [
    "'''\n",
    "class MySubClass(MySuperClass):\n",
    "    ...\n",
    "\n",
    "'''\n",
    "\n",
    "'''\n",
    "class MySubClass(MySuperClass1, MySuperClass2, MySuperClass3):\n",
    "    ...\n",
    "\n",
    "'''"
   ]
  },
  {
   "cell_type": "code",
   "execution_count": 84,
   "metadata": {},
   "outputs": [],
   "source": [
    "class Person:\n",
    "    \n",
    "    def __init__(self,name,age):\n",
    "        self.name = name\n",
    "        self.age = age\n",
    "\n",
    "    def __str__(self): ##instance specific methods are also inherited\n",
    "        return \"Name: %s  --- Age: %d\" % (self.name ,self.age)\n",
    "\n",
    "class Employee(Person):\n",
    "    \n",
    "    def __init__(self,name,age,department,salary):\n",
    "        Person.__init__(self,name,age)\n",
    "        self.department = department\n",
    "        self.salary = salary        "
   ]
  },
  {
   "cell_type": "code",
   "execution_count": 85,
   "metadata": {},
   "outputs": [
    {
     "name": "stdout",
     "output_type": "stream",
     "text": [
      "CS\n",
      "100\n"
     ]
    }
   ],
   "source": [
    "John = Employee('John',30,'CS',100) # Create an empty employee record - name, age, department, salary\n",
    "#John = Person('John',30)\n",
    "John.__str__()\n",
    "print(John.department)\n",
    "print(John.salary)"
   ]
  },
  {
   "cell_type": "code",
   "execution_count": 86,
   "metadata": {},
   "outputs": [],
   "source": [
    "class Employee(Person):\n",
    "    def __init__(self, instance, department, salary):\n",
    "        instance_attrs = vars(instance) #this inherits all instance specific variables and methods (attributes)\n",
    "        super().__init__(**instance_attrs)\n",
    "        self.department = department\n",
    "        self.salary = salary"
   ]
  },
  {
   "cell_type": "code",
   "execution_count": 87,
   "metadata": {},
   "outputs": [
    {
     "data": {
      "text/plain": [
       "'Name: John  --- Age: 30'"
      ]
     },
     "execution_count": 87,
     "metadata": {},
     "output_type": "execute_result"
    }
   ],
   "source": [
    "John = Person('John',30)#Employee() # Create an empty employee record - name, age, department, salary\n",
    "John_Employee = Employee(John,'CS',100)\n",
    "John.__str__()"
   ]
  },
  {
   "cell_type": "markdown",
   "metadata": {},
   "source": [
    "## Class Example\n",
    "* Convert Functions to Classes"
   ]
  },
  {
   "cell_type": "code",
   "execution_count": 92,
   "metadata": {
    "id": "TmRo5RQGbUSB"
   },
   "outputs": [],
   "source": [
    "import timeit\n",
    "\n",
    "class MySorted:\n",
    "\n",
    "    def __init__(self):\n",
    "\n",
    "        self.bubble_time = 0 #time taken for sorting\n",
    "        self.bubble_ncomp = 0\n",
    "\n",
    "    def bubble_sorted(self, a_list):\n",
    "\n",
    "        start_time = timeit.default_timer()\n",
    "\n",
    "        for i in range(len(a_list)): \n",
    "            for j in range(i+1,len(a_list)):\n",
    "                self.bubble_ncomp += 1\n",
    "                if a_list[i]>a_list[j]:       \n",
    "                    a_list[i], a_list[j] = a_list[j], a_list[i]\n",
    "\n",
    "        self.bubble_time = timeit.default_timer() - start_time\n",
    "\n",
    "        return a_list"
   ]
  },
  {
   "cell_type": "code",
   "execution_count": 94,
   "metadata": {
    "colab": {
     "base_uri": "https://localhost:8080/"
    },
    "id": "2SK3vBR4iq6X",
    "outputId": "3c0706a9-8789-4a6e-ca62-15b306f7f892"
   },
   "outputs": [
    {
     "name": "stdout",
     "output_type": "stream",
     "text": [
      "36\n",
      "3.0792027246207e-05\n"
     ]
    }
   ],
   "source": [
    "a_list = [54, 26, 93, 17, 77, 31, 44, 55, 20]\n",
    "\n",
    "sorted_f = MySorted()\n",
    "\n",
    "sorted_results = sorted_f.bubble_sorted(a_list)\n",
    "\n",
    "print(sorted_f.bubble_ncomp)\n",
    "print(sorted_f.bubble_time)"
   ]
  },
  {
   "cell_type": "markdown",
   "metadata": {},
   "source": [
    "## Stack Data Structure\n",
    "* Append to end (push)\n",
    "* Delete from last element added (pop)"
   ]
  },
  {
   "cell_type": "code",
   "execution_count": 95,
   "metadata": {
    "colab": {
     "base_uri": "https://localhost:8080/"
    },
    "id": "Cv7lx15liqvJ",
    "outputId": "fa78b488-093b-4f67-c2cf-159e0657187c"
   },
   "outputs": [],
   "source": [
    "class myStack:\n",
    "    def __init__(self):\n",
    "        self.contents = []\n",
    "    \n",
    "    def push(self,val):\n",
    "        self.contents.append(val)\n",
    "        \n",
    "    def pop(self):\n",
    "            if len(self.contents) > 0:\n",
    "                x = self.contents[len(self.contents) - 1]\n",
    "                del(self.contents[len(self.contents) - 1])\n",
    "                return x\n",
    "            else:\n",
    "                return None\n",
    "                \n",
    "    def isEmpty(self):\n",
    "        return len(self.contents) == 0"
   ]
  },
  {
   "cell_type": "code",
   "execution_count": 99,
   "metadata": {},
   "outputs": [
    {
     "name": "stdout",
     "output_type": "stream",
     "text": [
      "b\n",
      "['a']\n"
     ]
    }
   ],
   "source": [
    "stack_data_structure = myStack()\n",
    "stack_data_structure.push('a')\n",
    "stack_data_structure.push('b')\n",
    "print(stack_data_structure.pop())\n",
    "print(stack_data_structure.contents)"
   ]
  }
 ],
 "metadata": {
  "colab": {
   "name": "lab3.ipynb",
   "provenance": []
  },
  "kernelspec": {
   "display_name": "Python 3 (ipykernel)",
   "language": "python",
   "name": "python3"
  },
  "language_info": {
   "codemirror_mode": {
    "name": "ipython",
    "version": 3
   },
   "file_extension": ".py",
   "mimetype": "text/x-python",
   "name": "python",
   "nbconvert_exporter": "python",
   "pygments_lexer": "ipython3",
   "version": "3.10.8"
  }
 },
 "nbformat": 4,
 "nbformat_minor": 4
}

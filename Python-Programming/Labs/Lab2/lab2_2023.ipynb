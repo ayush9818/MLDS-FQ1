{
 "cells": [
  {
   "cell_type": "markdown",
   "metadata": {},
   "source": [
    "# Lab 2 10/4/23"
   ]
  },
  {
   "cell_type": "markdown",
   "metadata": {},
   "source": [
    "## Search Algorithms"
   ]
  },
  {
   "cell_type": "markdown",
   "metadata": {},
   "source": [
    "### Sequential Search\n",
    "* Unsorted iterable\n",
    "* Compare one element at a time"
   ]
  },
  {
   "cell_type": "code",
   "execution_count": 6,
   "metadata": {},
   "outputs": [
    {
     "name": "stdout",
     "output_type": "stream",
     "text": [
      "Target 3 is found, 5 steps needed.\n",
      "Target -20 is not found, 7 steps taken to search.\n"
     ]
    },
    {
     "data": {
      "text/plain": [
       "False"
      ]
     },
     "execution_count": 6,
     "metadata": {},
     "output_type": "execute_result"
    }
   ],
   "source": [
    "def sequential_search(lst, target):\n",
    "    count = 0 \n",
    "    for elm in lst:\n",
    "        count += 1\n",
    "        if elm == target:\n",
    "            print(\"Target {} is found, {} steps needed.\".format(target,count))\n",
    "            return True\n",
    "    \n",
    "    print(\"Target {} is not found, {} steps taken to search.\".format(target,count))\n",
    "    return False\n",
    "\n",
    "test_lst = [-4,5,7,10,3,12,-10]\n",
    "sequential_search(test_lst,3)\n",
    "sequential_search(test_lst,-20)"
   ]
  },
  {
   "cell_type": "markdown",
   "metadata": {},
   "source": [
    "### Binary Search\n",
    "* Sorted iterable\n",
    "* Successively split in half\n",
    "* https://www.geeksforgeeks.org/complexity-analysis-of-binary-search/"
   ]
  },
  {
   "cell_type": "code",
   "execution_count": 10,
   "metadata": {},
   "outputs": [
    {
     "name": "stdout",
     "output_type": "stream",
     "text": [
      "Target 3 is found, 3 steps needed.\n",
      "Target -20 is not found, 3 steps taken to search.\n"
     ]
    },
    {
     "data": {
      "text/plain": [
       "False"
      ]
     },
     "execution_count": 10,
     "metadata": {},
     "output_type": "execute_result"
    }
   ],
   "source": [
    "def binary_search(lst, target):\n",
    "    low = 0\n",
    "    high = len(lst) - 1\n",
    "    count = 0\n",
    "    while low <= high:\n",
    "        \n",
    "        count += 1\n",
    " \n",
    "        mid = (high + low) // 2\n",
    " \n",
    "        # If target is greater, ignore left half\n",
    "        if lst[mid] < target:\n",
    "            low = mid + 1\n",
    " \n",
    "        # If target is smaller, ignore right half\n",
    "        elif lst[mid] > target:\n",
    "            high = mid - 1\n",
    " \n",
    "        # means target is present at mid\n",
    "        else:\n",
    "            print(\"Target {} is found, {} steps needed.\".format(target,count))\n",
    "            return True\n",
    " \n",
    "    print(\"Target {} is not found, {} steps taken to search.\".format(target,count))\n",
    "    return False\n",
    "\n",
    "test_lst = [-4,5,7,10,3,12,-10]\n",
    "test_lst.sort()\n",
    "binary_search(test_lst,3)\n",
    "binary_search(test_lst,-20)"
   ]
  },
  {
   "cell_type": "markdown",
   "metadata": {},
   "source": [
    "## Sort Algorithms"
   ]
  },
  {
   "cell_type": "markdown",
   "metadata": {},
   "source": [
    "## Python in-build sort functions\n",
    "* sort - list specific method (in place)\n",
    "* sorted - any literable (not in place)\n",
    "* sorted takes in the key argument - how each element should be compared to one another for order"
   ]
  },
  {
   "cell_type": "code",
   "execution_count": 4,
   "metadata": {},
   "outputs": [
    {
     "name": "stdout",
     "output_type": "stream",
     "text": [
      "Help on built-in function sorted in module builtins:\n",
      "\n",
      "sorted(iterable, /, *, key=None, reverse=False)\n",
      "    Return a new list containing all items from the iterable in ascending order.\n",
      "    \n",
      "    A custom key function can be supplied to customize the sort order, and the\n",
      "    reverse flag can be set to request the result in descending order.\n",
      "\n"
     ]
    }
   ],
   "source": [
    "help(sorted)"
   ]
  },
  {
   "cell_type": "markdown",
   "metadata": {},
   "source": [
    "### Bubble Sort\n",
    "* Iterate through the list\n",
    "* While iterating, compare the consecutive elements to each other\n",
    "* If in incorrect order, switch the consecutive elements\n",
    "* This process repeats until there is no more switching\n",
    "* https://www.computersciencebytes.com/sorting-algorithms/bubble-sort/"
   ]
  },
  {
   "cell_type": "code",
   "execution_count": 5,
   "metadata": {},
   "outputs": [
    {
     "name": "stdout",
     "output_type": "stream",
     "text": [
      "[-10, -4, 3, 5, 7, 10, 12]\n",
      "[-10, -4, 3, 5, 7, 10, 12]\n"
     ]
    }
   ],
   "source": [
    "def bubble_sort(lst, key = None):\n",
    "        \n",
    "    #when using the default key (no specific key given to the function)\n",
    "    if key is None:\n",
    "        \n",
    "        def key(x):\n",
    "            return x\n",
    "    \n",
    "    for i in range(len(lst)):\n",
    "        for j in range(i+1,len(lst)):\n",
    "            if key(lst[i]) > key(lst[j]): #element comparison\n",
    "                lst[i], lst[j] = lst[j], lst[i]\n",
    "    \n",
    "    return lst\n",
    "\n",
    "test_lst = [-4,5,7,10,3,12,-10]\n",
    "sorted_lst = bubble_sort(test_lst)\n",
    "\n",
    "print(sorted(test_lst))\n",
    "print(sorted_lst)"
   ]
  },
  {
   "cell_type": "markdown",
   "metadata": {},
   "source": [
    "### Merge Sort\n",
    "* Successively split the list into left and right halves\n",
    "* Merge the smaller halves in correct order \n",
    "* https://www.geeksforgeeks.org/time-and-space-complexity-analysis-of-merge-sort/"
   ]
  },
  {
   "cell_type": "code",
   "execution_count": 8,
   "metadata": {},
   "outputs": [
    {
     "data": {
      "text/plain": [
       "[-10, -4, 3, 5, 7, 10, 12]"
      ]
     },
     "execution_count": 8,
     "metadata": {},
     "output_type": "execute_result"
    }
   ],
   "source": [
    "def merge_sort(lst):\n",
    "\n",
    "    if len(lst) > 1: #Recursively call until sublists of 2 elements\n",
    "        mid = len(lst) // 2\n",
    "        left_half = lst[:mid]\n",
    "        right_half = lst[mid:]\n",
    "        merge_sort(left_half)\n",
    "        merge_sort(right_half)\n",
    "        \n",
    "        #indices for left, right, and lst\n",
    "        i = 0\n",
    "        j = 0\n",
    "        k = 0\n",
    "        \n",
    "        while i < len(left_half) and j < len(right_half):\n",
    "            if left_half[i] < right_half[j]:\n",
    "                lst[k] = left_half[i]\n",
    "                i = i + 1\n",
    "            else:\n",
    "                lst[k] = right_half[j]\n",
    "                j = j + 1\n",
    "            k = k + 1\n",
    "        \n",
    "        #For cases when the list is not exactly divisible into equal length sublists\n",
    "        while i < len(left_half):\n",
    "            lst[k] = left_half[i]\n",
    "            i = i + 1\n",
    "            k = k + 1\n",
    "\n",
    "        while j < len(right_half):\n",
    "            lst[k] = right_half[j]\n",
    "            j = j + 1\n",
    "            k = k + 1\n",
    "\n",
    "merge_sort(test_lst)\n",
    "test_lst"
   ]
  },
  {
   "cell_type": "markdown",
   "metadata": {
    "id": "VGfoDvLueAde"
   },
   "source": [
    "## HW2 timeit.timeit"
   ]
  },
  {
   "cell_type": "markdown",
   "metadata": {
    "id": "NEuQEZmEeqta"
   },
   "source": [
    "* https://docs.python.org/3.7/library/timeit.html#timeit.Timer\n",
    "* https://stackoverflow.com/questions/56763416/what-is-diffrence-between-number-and-repeat-in-python-timeit"
   ]
  },
  {
   "cell_type": "code",
   "execution_count": 12,
   "metadata": {},
   "outputs": [
    {
     "name": "stdout",
     "output_type": "stream",
     "text": [
      "Help on function timeit in module timeit:\n",
      "\n",
      "timeit(stmt='pass', setup='pass', timer=<built-in function perf_counter>, number=1000000, globals=None)\n",
      "    Convenience function to create Timer object and call timeit method.\n",
      "\n",
      "Help on function repeat in module timeit:\n",
      "\n",
      "repeat(stmt='pass', setup='pass', timer=<built-in function perf_counter>, repeat=5, number=1000000, globals=None)\n",
      "    Convenience function to create Timer object and call repeat method.\n",
      "\n"
     ]
    }
   ],
   "source": [
    "import timeit\n",
    "help(timeit.timeit)\n",
    "help(timeit.repeat)"
   ]
  },
  {
   "cell_type": "code",
   "execution_count": 25,
   "metadata": {
    "id": "u_VljKXoeARw"
   },
   "outputs": [
    {
     "name": "stdout",
     "output_type": "stream",
     "text": [
      "8.749993867240846e-06\n",
      "6.129199755378067e-05\n",
      "[6.7920045694336295e-06, 6.082991603761911e-06, 6.04201341047883e-06, 6.6250067902728915e-06, 6.2920007621869445e-06]\n"
     ]
    }
   ],
   "source": [
    "def sum_function(lst):\n",
    "    sum_lst = 0\n",
    "    for elm in lst:\n",
    "        sum_lst += elm\n",
    "    return sum_lst\n",
    "\n",
    "test_lst = [i for i in range(100)]\n",
    "\n",
    "# number argument is for the number of times the statement should be executed. Setup is executed only once\n",
    "# repeat argument is for the number of times that timeit is executed on the statement \n",
    "\n",
    "# running the code below, we can obtain different results for each time we run \n",
    "# results depend on OS, hardware, and any other processes that might be running at the time\n",
    "\n",
    "print(timeit.timeit(lambda: sum_function(test_lst),setup='pass',number=1))\n",
    "print(timeit.timeit(lambda: sum_function(test_lst),setup='pass',number=10))\n",
    "\n",
    "print(timeit.repeat(lambda: sum_function(test_lst),setup='pass',number=1,repeat=5))"
   ]
  },
  {
   "cell_type": "code",
   "execution_count": null,
   "metadata": {},
   "outputs": [],
   "source": []
  }
 ],
 "metadata": {
  "colab": {
   "collapsed_sections": [],
   "name": "lab2.ipynb",
   "provenance": [],
   "toc_visible": true
  },
  "kernelspec": {
   "display_name": "Python 3 (ipykernel)",
   "language": "python",
   "name": "python3"
  },
  "language_info": {
   "codemirror_mode": {
    "name": "ipython",
    "version": 3
   },
   "file_extension": ".py",
   "mimetype": "text/x-python",
   "name": "python",
   "nbconvert_exporter": "python",
   "pygments_lexer": "ipython3",
   "version": "3.11.2"
  }
 },
 "nbformat": 4,
 "nbformat_minor": 1
}
